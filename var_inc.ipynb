{
 "cells": [
  {
   "cell_type": "code",
   "execution_count": 126,
   "metadata": {},
   "outputs": [],
   "source": [
    "import tulip as tlp\n",
    "from tulip.interfaces import omega as omega_int\n",
    "from tulip import transys, abstract, spec, synth\n",
    "from visualization import graph_builder as gb\n",
    "import networkx as nx\n",
    "from tulip.transys import machines\n",
    "from GR1_defaults import settings\n",
    "\n",
    "from tulip import dumpsmach\n",
    "import pickle"
   ]
  },
  {
   "cell_type": "code",
   "execution_count": 127,
   "metadata": {},
   "outputs": [],
   "source": [
    "path = 'var_inc/'"
   ]
  },
  {
   "cell_type": "code",
   "execution_count": 128,
   "metadata": {},
   "outputs": [],
   "source": [
    "# Variables\n",
    "env_vars = {'env_bool':(0,1)}\n",
    "sys_vars = {'num':(0,1)}"
   ]
  },
  {
   "cell_type": "code",
   "execution_count": 129,
   "metadata": {},
   "outputs": [],
   "source": [
    "# Initialization\n",
    "env_init = {'env_bool=0'}\n",
    "sys_init = {'num=0'}"
   ]
  },
  {
   "cell_type": "code",
   "execution_count": 130,
   "metadata": {},
   "outputs": [],
   "source": [
    "increment = True"
   ]
  },
  {
   "cell_type": "code",
   "execution_count": 131,
   "metadata": {},
   "outputs": [],
   "source": [
    "# Safety\n",
    "env_safe = {'env_bool!=1'}\n",
    "if increment:\n",
    "    sys_safe = {'(num=0) -> (X(num)=num+1)'}\n",
    "else:\n",
    "    sys_safe = {'(num=0) -> (X(num)=1)'}\n",
    "\n",
    "sys_safe |= {'(num=1) -> (X(num)=1)'}"
   ]
  },
  {
   "cell_type": "code",
   "execution_count": 132,
   "metadata": {},
   "outputs": [],
   "source": [
    "# Progress\n",
    "env_prog = set()\n",
    "sys_prog = {'num=1'}"
   ]
  },
  {
   "cell_type": "code",
   "execution_count": 133,
   "metadata": {},
   "outputs": [],
   "source": [
    "specs = settings.set_specs(env_vars, sys_vars, env_init, sys_init,\n",
    "                            env_safe, sys_safe, env_prog, sys_prog)"
   ]
  },
  {
   "cell_type": "code",
   "execution_count": 134,
   "metadata": {},
   "outputs": [],
   "source": [
    "spec = tlp.synth._spec_plus_sys(specs, None, None, False, False)\n",
    "# Automaton class found in omega/omega/symbolic/temporal.py\n",
    "aut = omega_int._grspec_to_automaton(spec)"
   ]
  },
  {
   "cell_type": "code",
   "execution_count": 135,
   "metadata": {},
   "outputs": [
    {
     "name": "stdout",
     "output_type": "stream",
     "text": [
      "removed 1 nodes from 4 total\n"
     ]
    }
   ],
   "source": [
    "# Synthesizing system controller\n",
    "ctrl = tlp.synth.synthesize(specs)\n",
    "assert ctrl is not None, 'unrealizable'"
   ]
  },
  {
   "cell_type": "code",
   "execution_count": 136,
   "metadata": {},
   "outputs": [],
   "source": [
    " # Graphing\n",
    "filename = path + \"graph\"\n",
    "attributes = ['color', 'shape']"
   ]
  },
  {
   "cell_type": "code",
   "execution_count": null,
   "metadata": {},
   "outputs": [],
   "source": []
  }
 ],
 "metadata": {
  "kernelspec": {
   "display_name": "env",
   "language": "python",
   "name": "python3"
  },
  "language_info": {
   "codemirror_mode": {
    "name": "ipython",
    "version": 3
   },
   "file_extension": ".py",
   "mimetype": "text/x-python",
   "name": "python",
   "nbconvert_exporter": "python",
   "pygments_lexer": "ipython3",
   "version": "3.8.16"
  },
  "orig_nbformat": 4
 },
 "nbformat": 4,
 "nbformat_minor": 2
}
