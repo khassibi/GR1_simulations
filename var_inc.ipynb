{
 "cells": [
  {
   "cell_type": "code",
   "execution_count": 189,
   "metadata": {},
   "outputs": [],
   "source": [
    "import tulip as tlp\n",
    "from tulip.interfaces import omega as omega_int\n",
    "from tulip import transys, abstract, spec, synth\n",
    "from visualization import graph_builder as gb\n",
    "import networkx as nx\n",
    "from tulip.transys import machines\n",
    "from GR1_defaults import settings\n",
    "\n",
    "from tulip import dumpsmach\n",
    "import pickle"
   ]
  },
  {
   "cell_type": "code",
   "execution_count": 190,
   "metadata": {},
   "outputs": [],
   "source": [
    "path = 'var_inc/'"
   ]
  },
  {
   "cell_type": "code",
   "execution_count": 191,
   "metadata": {},
   "outputs": [],
   "source": [
    "! rm -r var_inc"
   ]
  },
  {
   "cell_type": "code",
   "execution_count": 192,
   "metadata": {},
   "outputs": [],
   "source": [
    "mkdir var_inc"
   ]
  },
  {
   "cell_type": "code",
   "execution_count": 193,
   "metadata": {},
   "outputs": [],
   "source": [
    "# Variables\n",
    "env_vars = {'is_true':'boolean'}\n",
    "sys_vars = {'num':(0,1)}"
   ]
  },
  {
   "cell_type": "code",
   "execution_count": 194,
   "metadata": {},
   "outputs": [],
   "source": [
    "increment = False"
   ]
  },
  {
   "cell_type": "code",
   "execution_count": 195,
   "metadata": {},
   "outputs": [],
   "source": [
    "# Initialization\n",
    "env_init = {'!is_true'}\n",
    "# env_init = set()\n",
    "if increment:\n",
    "    sys_init = {'num=0'}\n",
    "else:\n",
    "    sys_init = {'num=1'}"
   ]
  },
  {
   "cell_type": "code",
   "execution_count": 196,
   "metadata": {},
   "outputs": [],
   "source": [
    "# Safety\n",
    "env_safe = {'(!is_true) -> X(is_true)',\n",
    "            '(is_true) -> !X(is_true)'}\n",
    "# env_safe = {'X(env_bool) <=> env_bool'}\n",
    "if increment:\n",
    "    sys_safe = {'(num=0) -> (X(num)=num+1)',\n",
    "                '(num=1) -> (X(num)=1)'}\n",
    "else:\n",
    "    sys_safe = {'(num=1) -> (X(num)=num-1)',\n",
    "                '(num=0) -> (X(num)=0)'}\n",
    "\n"
   ]
  },
  {
   "cell_type": "code",
   "execution_count": 197,
   "metadata": {},
   "outputs": [],
   "source": [
    "# Progress\n",
    "env_prog = set()\n",
    "if increment:\n",
    "    sys_prog = {'num=1'}\n",
    "else:\n",
    "    sys_prog = {'num=0'}"
   ]
  },
  {
   "cell_type": "code",
   "execution_count": 198,
   "metadata": {},
   "outputs": [],
   "source": [
    "specs = settings.set_specs(env_vars, sys_vars, env_init, sys_init,\n",
    "                            env_safe, sys_safe, env_prog, sys_prog)"
   ]
  },
  {
   "cell_type": "code",
   "execution_count": 199,
   "metadata": {},
   "outputs": [
    {
     "name": "stdout",
     "output_type": "stream",
     "text": [
      "ENVIRONMENT VARIABLES:\n",
      "\tis_true\tboolean\n",
      "\n",
      "SYSTEM VARIABLES:\n",
      "\tnum\t(0, 1)\n",
      "\n",
      "FORMULA:\n",
      "ASSUMPTION:\n",
      "    INITIAL\n",
      "\t  (!is_true)\n",
      "    SAFETY\n",
      "\t  []((is_true) -> !X(is_true))\n",
      "\t& []((!is_true) -> X(is_true))\n",
      "GUARANTEE:\n",
      "    INITIAL\n",
      "\t  (num=1)\n",
      "    SAFETY\n",
      "\t  []((num=0) -> (X(num)=0))\n",
      "\t& []((num=1) -> (X(num)=num-1))\n",
      "    LIVENESS\n",
      "\t  []<>(num=0)\n",
      "\n"
     ]
    }
   ],
   "source": [
    "print(specs.pretty())"
   ]
  },
  {
   "cell_type": "code",
   "execution_count": 200,
   "metadata": {},
   "outputs": [],
   "source": [
    "spec = tlp.synth._spec_plus_sys(specs, None, None, False, False)"
   ]
  },
  {
   "cell_type": "code",
   "execution_count": 201,
   "metadata": {},
   "outputs": [],
   "source": [
    "# Automaton class found in omega/omega/symbolic/temporal.py\n",
    "aut = omega_int._grspec_to_automaton(spec)"
   ]
  },
  {
   "cell_type": "code",
   "execution_count": 202,
   "metadata": {},
   "outputs": [
    {
     "name": "stdout",
     "output_type": "stream",
     "text": [
      "removed 0 nodes from 4 total\n"
     ]
    }
   ],
   "source": [
    "# Synthesizing system controller\n",
    "ctrl = tlp.synth.synthesize(specs)\n",
    "assert ctrl is not None, 'unrealizable'"
   ]
  },
  {
   "cell_type": "code",
   "execution_count": 203,
   "metadata": {},
   "outputs": [],
   "source": [
    " # Graphing\n",
    "filename = path + \"graph\"\n",
    "attributes = ['color', 'shape']"
   ]
  },
  {
   "cell_type": "code",
   "execution_count": 204,
   "metadata": {},
   "outputs": [],
   "source": [
    "# Making a graph of the asynchronous GR(1) game with deadends.\n",
    "g0 = gb.game_graph(aut, env='env', sys='sys', remove_deadends=False, qinit=aut.qinit)\n",
    "h0 = gb._game_format_nx(g0, attributes)\n",
    "pd0 = nx.drawing.nx_pydot.to_pydot(h0)\n",
    "pd0.write_pdf(path + 'game.pdf')\n",
    "# with open(filename, \"wb\") as file:\n",
    "#     pickle.dump(g0, file)"
   ]
  }
 ],
 "metadata": {
  "kernelspec": {
   "display_name": "env",
   "language": "python",
   "name": "python3"
  },
  "language_info": {
   "codemirror_mode": {
    "name": "ipython",
    "version": 3
   },
   "file_extension": ".py",
   "mimetype": "text/x-python",
   "name": "python",
   "nbconvert_exporter": "python",
   "pygments_lexer": "ipython3",
   "version": "3.8.16"
  },
  "orig_nbformat": 4
 },
 "nbformat": 4,
 "nbformat_minor": 2
}
