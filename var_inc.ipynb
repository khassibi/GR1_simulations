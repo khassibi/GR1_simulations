{
 "cells": [
  {
   "cell_type": "code",
   "execution_count": 271,
   "metadata": {},
   "outputs": [],
   "source": [
    "import tulip as tlp\n",
    "from tulip.interfaces import omega as omega_int\n",
    "from tulip import transys, abstract, spec, synth\n",
    "from visualization import graph_builder as gb\n",
    "import networkx as nx\n",
    "from tulip.transys import machines\n",
    "from GR1_defaults import settings\n",
    "\n",
    "from tulip import dumpsmach\n",
    "import pickle"
   ]
  },
  {
   "cell_type": "code",
   "execution_count": 272,
   "metadata": {},
   "outputs": [],
   "source": [
    "path = 'var_inc/'"
   ]
  },
  {
   "cell_type": "code",
   "execution_count": 273,
   "metadata": {},
   "outputs": [],
   "source": [
    "# Variables\n",
    "env_vars = {'env_bool':'boolean'}\n",
    "sys_vars = {'num':(0,1)}"
   ]
  },
  {
   "cell_type": "code",
   "execution_count": 274,
   "metadata": {},
   "outputs": [],
   "source": [
    "increment = False"
   ]
  },
  {
   "cell_type": "code",
   "execution_count": 275,
   "metadata": {},
   "outputs": [],
   "source": [
    "# Initialization\n",
    "env_init = {'env_bool=true'}\n",
    "if increment:\n",
    "    sys_init = {'num=0'}\n",
    "else:\n",
    "    sys_init = {'num=1'}"
   ]
  },
  {
   "cell_type": "code",
   "execution_count": 276,
   "metadata": {},
   "outputs": [],
   "source": [
    "# Safety\n",
    "env_safe = {'env_bool!=false'}\n",
    "if increment:\n",
    "    sys_safe = {'(num=0) -> (X(num)=num+1)',\n",
    "                '(num=1) -> (X(num)=1)'}\n",
    "else:\n",
    "    sys_safe = {'(num=1) -> (X(num)=num-1)',\n",
    "                '(num=0) -> (X(num)=0)'}\n",
    "\n"
   ]
  },
  {
   "cell_type": "code",
   "execution_count": 277,
   "metadata": {},
   "outputs": [],
   "source": [
    "# Progress\n",
    "env_prog = set()\n",
    "if increment:\n",
    "    sys_prog = {'num=1'}\n",
    "else:\n",
    "    sys_prog = {'num=0'}"
   ]
  },
  {
   "cell_type": "code",
   "execution_count": 278,
   "metadata": {},
   "outputs": [],
   "source": [
    "specs = settings.set_specs(env_vars, sys_vars, env_init, sys_init,\n",
    "                            env_safe, sys_safe, env_prog, sys_prog)"
   ]
  },
  {
   "cell_type": "code",
   "execution_count": 279,
   "metadata": {},
   "outputs": [],
   "source": [
    "spec = tlp.synth._spec_plus_sys(specs, None, None, False, False)"
   ]
  },
  {
   "cell_type": "code",
   "execution_count": 280,
   "metadata": {},
   "outputs": [
    {
     "ename": "AssertionError",
     "evalue": "[]",
     "output_type": "error",
     "traceback": [
      "\u001b[0;31m---------------------------------------------------------------------------\u001b[0m",
      "\u001b[0;31mAssertionError\u001b[0m                            Traceback (most recent call last)",
      "\u001b[1;32m/Users/kimiahassibi/Desktop/Caltech/SURF2023/GR1_simulations/var_inc.ipynb Cell 10\u001b[0m line \u001b[0;36m2\n\u001b[1;32m      <a href='vscode-notebook-cell:/Users/kimiahassibi/Desktop/Caltech/SURF2023/GR1_simulations/var_inc.ipynb#X33sZmlsZQ%3D%3D?line=0'>1</a>\u001b[0m \u001b[39m# Automaton class found in omega/omega/symbolic/temporal.py\u001b[39;00m\n\u001b[0;32m----> <a href='vscode-notebook-cell:/Users/kimiahassibi/Desktop/Caltech/SURF2023/GR1_simulations/var_inc.ipynb#X33sZmlsZQ%3D%3D?line=1'>2</a>\u001b[0m aut \u001b[39m=\u001b[39m omega_int\u001b[39m.\u001b[39;49m_grspec_to_automaton(spec)\n",
      "File \u001b[0;32m~/Desktop/Caltech/SURF2023/env/lib/python3.8/site-packages/tulip-1.4.0-py3.8.egg/tulip/interfaces/omega.py:159\u001b[0m, in \u001b[0;36m_grspec_to_automaton\u001b[0;34m(g)\u001b[0m\n\u001b[1;32m    156\u001b[0m a\u001b[39m.\u001b[39mvarlist\u001b[39m.\u001b[39mupdate(env\u001b[39m=\u001b[39m\u001b[39mlist\u001b[39m(g\u001b[39m.\u001b[39menv_vars\u001b[39m.\u001b[39mkeys()), sys\u001b[39m=\u001b[39m\u001b[39mlist\u001b[39m(g\u001b[39m.\u001b[39msys_vars\u001b[39m.\u001b[39mkeys()))\n\u001b[1;32m    158\u001b[0m f \u001b[39m=\u001b[39m g\u001b[39m.\u001b[39m_bool_int\u001b[39m.\u001b[39m\u001b[39m__getitem__\u001b[39m\n\u001b[0;32m--> 159\u001b[0m a\u001b[39m.\u001b[39;49minit[\u001b[39m'\u001b[39;49m\u001b[39menv\u001b[39;49m\u001b[39m'\u001b[39;49m] \u001b[39m=\u001b[39m \u001b[39m\"\u001b[39m\u001b[39m & \u001b[39m\u001b[39m\"\u001b[39m\u001b[39m.\u001b[39mjoin(\u001b[39m\"\u001b[39m\u001b[39m( \u001b[39m\u001b[39m%s\u001b[39;00m\u001b[39m )\u001b[39m\u001b[39m\"\u001b[39m \u001b[39m%\u001b[39m f(ei) \u001b[39mfor\u001b[39;00m ei \u001b[39min\u001b[39;00m g\u001b[39m.\u001b[39menv_init) \u001b[39mif\u001b[39;00m \u001b[39mlen\u001b[39m(g\u001b[39m.\u001b[39menv_init) \u001b[39m>\u001b[39m \u001b[39m0\u001b[39m \u001b[39melse\u001b[39;00m \u001b[39m\"\u001b[39m\u001b[39mTRUE\u001b[39m\u001b[39m\"\u001b[39m\n\u001b[1;32m    160\u001b[0m a\u001b[39m.\u001b[39minit[\u001b[39m'\u001b[39m\u001b[39msys\u001b[39m\u001b[39m'\u001b[39m] \u001b[39m=\u001b[39m \u001b[39m\"\u001b[39m\u001b[39m & \u001b[39m\u001b[39m\"\u001b[39m\u001b[39m.\u001b[39mjoin(\u001b[39m\"\u001b[39m\u001b[39m( \u001b[39m\u001b[39m%s\u001b[39;00m\u001b[39m )\u001b[39m\u001b[39m\"\u001b[39m \u001b[39m%\u001b[39m f(si) \u001b[39mfor\u001b[39;00m si \u001b[39min\u001b[39;00m g\u001b[39m.\u001b[39msys_init) \u001b[39mif\u001b[39;00m \u001b[39mlen\u001b[39m(g\u001b[39m.\u001b[39msys_init) \u001b[39m>\u001b[39m \u001b[39m0\u001b[39m \u001b[39melse\u001b[39;00m \u001b[39m\"\u001b[39m\u001b[39mTRUE\u001b[39m\u001b[39m\"\u001b[39m\n\u001b[1;32m    161\u001b[0m a\u001b[39m.\u001b[39maction[\u001b[39m'\u001b[39m\u001b[39menv\u001b[39m\u001b[39m'\u001b[39m] \u001b[39m=\u001b[39m \u001b[39m\"\u001b[39m\u001b[39m & \u001b[39m\u001b[39m\"\u001b[39m\u001b[39m.\u001b[39mjoin(\u001b[39m\"\u001b[39m\u001b[39m( \u001b[39m\u001b[39m%s\u001b[39;00m\u001b[39m )\u001b[39m\u001b[39m\"\u001b[39m \u001b[39m%\u001b[39m f(es) \u001b[39mfor\u001b[39;00m es \u001b[39min\u001b[39;00m g\u001b[39m.\u001b[39menv_safety) \u001b[39mif\u001b[39;00m \u001b[39mlen\u001b[39m(g\u001b[39m.\u001b[39menv_safety) \u001b[39m>\u001b[39m \u001b[39m0\u001b[39m \u001b[39melse\u001b[39;00m \u001b[39m\"\u001b[39m\u001b[39mTRUE\u001b[39m\u001b[39m\"\u001b[39m\n",
      "File \u001b[0;32m~/Desktop/Caltech/SURF2023/env/lib/python3.8/site-packages/omega/symbolic/temporal.py:538\u001b[0m, in \u001b[0;36mExprDict.__setitem__\u001b[0;34m(self, k, v)\u001b[0m\n\u001b[1;32m    536\u001b[0m     u \u001b[39m=\u001b[39m \u001b[39mself\u001b[39m\u001b[39m.\u001b[39m_context\u001b[39m.\u001b[39mop_bdd[v]\n\u001b[1;32m    537\u001b[0m \u001b[39melse\u001b[39;00m:\n\u001b[0;32m--> 538\u001b[0m     u \u001b[39m=\u001b[39m \u001b[39mself\u001b[39;49m\u001b[39m.\u001b[39;49m_context\u001b[39m.\u001b[39;49m_cache_expr(v)\n\u001b[1;32m    539\u001b[0m \u001b[39msuper\u001b[39m(ExprDict, \u001b[39mself\u001b[39m)\u001b[39m.\u001b[39m\u001b[39m__setitem__\u001b[39m(k, u)\n",
      "File \u001b[0;32m~/Desktop/Caltech/SURF2023/env/lib/python3.8/site-packages/omega/symbolic/temporal.py:377\u001b[0m, in \u001b[0;36mAutomaton._cache_expr\u001b[0;34m(self, expr)\u001b[0m\n\u001b[1;32m    358\u001b[0m \u001b[39m\u001b[39m\u001b[39m\"\"\"Overwrite cache entry for BDD described by `expr`.\"\"\"\u001b[39;00m\n\u001b[1;32m    359\u001b[0m \u001b[39m# If the `uid` for this `expr` is absent from the cache,\u001b[39;00m\n\u001b[1;32m    360\u001b[0m \u001b[39m# then no formula with this BDD has been added before,\u001b[39;00m\n\u001b[1;32m    361\u001b[0m \u001b[39m# or was, then became invalid, and has been garbage collected.\u001b[39;00m\n\u001b[0;32m   (...)\u001b[0m\n\u001b[1;32m    375\u001b[0m \u001b[39m# garbage collected, which leads to the case of\u001b[39;00m\n\u001b[1;32m    376\u001b[0m \u001b[39m# the pair `uid, expr` being absent from the cache.\u001b[39;00m\n\u001b[0;32m--> 377\u001b[0m u \u001b[39m=\u001b[39m \u001b[39mself\u001b[39;49m\u001b[39m.\u001b[39;49m_add_expr(expr)\n\u001b[1;32m    378\u001b[0m \u001b[39m# We store the node ID in order to avoid incrementing the\u001b[39;00m\n\u001b[1;32m    379\u001b[0m \u001b[39m# reference count, to allow for garbage collection of the BDD.\u001b[39;00m\n\u001b[1;32m    380\u001b[0m \u001b[39m# Thus, caching here leaves the BDD manager behavior\u001b[39;00m\n\u001b[1;32m    381\u001b[0m \u001b[39m# unaffected. Otherwise we would produce eternal references.\u001b[39;00m\n\u001b[1;32m    382\u001b[0m uid \u001b[39m=\u001b[39m \u001b[39mself\u001b[39m\u001b[39m.\u001b[39m_uid_of_node(u)\n",
      "File \u001b[0;32m~/Desktop/Caltech/SURF2023/env/lib/python3.8/site-packages/omega/symbolic/temporal.py:468\u001b[0m, in \u001b[0;36mAutomaton._add_expr\u001b[0;34m(self, expr)\u001b[0m\n\u001b[1;32m    466\u001b[0m \u001b[39mif\u001b[39;00m expr \u001b[39min\u001b[39;00m \u001b[39mself\u001b[39m\u001b[39m.\u001b[39mop_bdd:\n\u001b[1;32m    467\u001b[0m     \u001b[39mreturn\u001b[39;00m \u001b[39mself\u001b[39m\u001b[39m.\u001b[39mop_bdd[expr]\n\u001b[0;32m--> 468\u001b[0m \u001b[39mreturn\u001b[39;00m \u001b[39mself\u001b[39;49m\u001b[39m.\u001b[39;49madd_expr(expr)\n",
      "File \u001b[0;32m~/Desktop/Caltech/SURF2023/env/lib/python3.8/site-packages/omega/symbolic/fol.py:318\u001b[0m, in \u001b[0;36mContext.add_expr\u001b[0;34m(self, e, with_ops)\u001b[0m\n\u001b[1;32m    316\u001b[0m \u001b[39melse\u001b[39;00m:\n\u001b[1;32m    317\u001b[0m     defs \u001b[39m=\u001b[39m \u001b[39mNone\u001b[39;00m\n\u001b[0;32m--> 318\u001b[0m s \u001b[39m=\u001b[39m bv\u001b[39m.\u001b[39;49mbitblast(e, vrs\u001b[39m=\u001b[39;49m\u001b[39mself\u001b[39;49m\u001b[39m.\u001b[39;49mvars, defs\u001b[39m=\u001b[39;49mdefs)\n\u001b[1;32m    319\u001b[0m \u001b[39massert\u001b[39;00m stx\u001b[39m.\u001b[39misinstance_str(s), s  \u001b[39m# was `e` a predicate ?\u001b[39;00m\n\u001b[1;32m    320\u001b[0m \u001b[39mreturn\u001b[39;00m sym_bdd\u001b[39m.\u001b[39madd_expr(s, \u001b[39mself\u001b[39m\u001b[39m.\u001b[39mbdd)\n",
      "File \u001b[0;32m~/Desktop/Caltech/SURF2023/env/lib/python3.8/site-packages/omega/logic/bitvector.py:48\u001b[0m, in \u001b[0;36mbitblast\u001b[0;34m(f, vrs, defs)\u001b[0m\n\u001b[1;32m     46\u001b[0m tree \u001b[39m=\u001b[39m _parser\u001b[39m.\u001b[39mparse(f)\n\u001b[1;32m     47\u001b[0m defs \u001b[39m=\u001b[39m {k: _parser\u001b[39m.\u001b[39mparse(v) \u001b[39mfor\u001b[39;00m k, v \u001b[39min\u001b[39;00m defs\u001b[39m.\u001b[39mitems()}\n\u001b[0;32m---> 48\u001b[0m \u001b[39mreturn\u001b[39;00m tree\u001b[39m.\u001b[39;49mflatten(t\u001b[39m=\u001b[39;49mvrs, defs\u001b[39m=\u001b[39;49mdefs)\n",
      "File \u001b[0;32m~/Desktop/Caltech/SURF2023/env/lib/python3.8/site-packages/omega/logic/bitvector.py:584\u001b[0m, in \u001b[0;36mNodes.Comparator.flatten\u001b[0;34m(self, mem, *arg, **kw)\u001b[0m\n\u001b[1;32m    580\u001b[0m \u001b[39massert\u001b[39;00m mem \u001b[39mis\u001b[39;00m \u001b[39mNone\u001b[39;00m, (\n\u001b[1;32m    581\u001b[0m     \u001b[39m'\u001b[39m\u001b[39m\"\u001b[39m\u001b[39m{expr}\u001b[39;00m\u001b[39m\"\u001b[39m\u001b[39m appears in arithmetic scope\u001b[39m\u001b[39m'\u001b[39m\u001b[39m.\u001b[39mformat(\n\u001b[1;32m    582\u001b[0m         expr\u001b[39m=\u001b[39m\u001b[39mself\u001b[39m))\n\u001b[1;32m    583\u001b[0m mem \u001b[39m=\u001b[39m \u001b[39mlist\u001b[39m()\n\u001b[0;32m--> 584\u001b[0m p \u001b[39m=\u001b[39m \u001b[39mself\u001b[39;49m\u001b[39m.\u001b[39;49moperands[\u001b[39m0\u001b[39;49m]\u001b[39m.\u001b[39;49mflatten(mem\u001b[39m=\u001b[39;49mmem, \u001b[39m*\u001b[39;49marg, \u001b[39m*\u001b[39;49m\u001b[39m*\u001b[39;49mkw)\n\u001b[1;32m    585\u001b[0m q \u001b[39m=\u001b[39m \u001b[39mself\u001b[39m\u001b[39m.\u001b[39moperands[\u001b[39m1\u001b[39m]\u001b[39m.\u001b[39mflatten(mem\u001b[39m=\u001b[39mmem, \u001b[39m*\u001b[39marg, \u001b[39m*\u001b[39m\u001b[39m*\u001b[39mkw)\n\u001b[1;32m    586\u001b[0m \u001b[39mreturn\u001b[39;00m flatten_comparator(\u001b[39mself\u001b[39m\u001b[39m.\u001b[39moperator, p, q, mem)\n",
      "File \u001b[0;32m~/Desktop/Caltech/SURF2023/env/lib/python3.8/site-packages/omega/logic/bitvector.py:552\u001b[0m, in \u001b[0;36mNodes.Var.flatten\u001b[0;34m(self, prime, mem, t, defs, *arg, **kw)\u001b[0m\n\u001b[1;32m    549\u001b[0m \u001b[39mif\u001b[39;00m _is_bool_var(name, t):\n\u001b[1;32m    550\u001b[0m     \u001b[39m# Boolean scope ?\u001b[39;00m\n\u001b[1;32m    551\u001b[0m     \u001b[39mif\u001b[39;00m name \u001b[39min\u001b[39;00m t:\n\u001b[0;32m--> 552\u001b[0m         \u001b[39massert\u001b[39;00m mem \u001b[39mis\u001b[39;00m \u001b[39mNone\u001b[39;00m, mem\n\u001b[1;32m    553\u001b[0m     \u001b[39mreturn\u001b[39;00m \u001b[39m'\u001b[39m\u001b[39m{v}\u001b[39;00m\u001b[39m{prime}\u001b[39;00m\u001b[39m'\u001b[39m\u001b[39m.\u001b[39mformat(\n\u001b[1;32m    554\u001b[0m         v\u001b[39m=\u001b[39mname, prime\u001b[39m=\u001b[39mstx\u001b[39m.\u001b[39mPRIME \u001b[39mif\u001b[39;00m prime \u001b[39melse\u001b[39;00m \u001b[39m'\u001b[39m\u001b[39m'\u001b[39m)\n\u001b[1;32m    555\u001b[0m \u001b[39massert\u001b[39;00m name \u001b[39min\u001b[39;00m t, (\n\u001b[1;32m    556\u001b[0m     \u001b[39m'\u001b[39m\u001b[39m\"\u001b[39m\u001b[39m{name}\u001b[39;00m\u001b[39m\"\u001b[39m\u001b[39m neither var nor operator\u001b[39m\u001b[39m'\u001b[39m\u001b[39m.\u001b[39mformat(\n\u001b[1;32m    557\u001b[0m         name\u001b[39m=\u001b[39mname))\n",
      "\u001b[0;31mAssertionError\u001b[0m: []"
     ]
    }
   ],
   "source": [
    "# Automaton class found in omega/omega/symbolic/temporal.py\n",
    "aut = omega_int._grspec_to_automaton(spec)"
   ]
  },
  {
   "cell_type": "code",
   "execution_count": null,
   "metadata": {},
   "outputs": [
    {
     "name": "stdout",
     "output_type": "stream",
     "text": [
      "removed 1 nodes from 4 total\n"
     ]
    }
   ],
   "source": [
    "# Synthesizing system controller\n",
    "ctrl = tlp.synth.synthesize(specs)\n",
    "assert ctrl is not None, 'unrealizable'"
   ]
  },
  {
   "cell_type": "code",
   "execution_count": null,
   "metadata": {},
   "outputs": [],
   "source": [
    " # Graphing\n",
    "filename = path + \"graph\"\n",
    "attributes = ['color', 'shape']"
   ]
  },
  {
   "cell_type": "code",
   "execution_count": null,
   "metadata": {},
   "outputs": [],
   "source": [
    "# # Making a graph of the asynchronous GR(1) game with deadends.\n",
    "# g0 = gb.game_graph(aut, env='env', sys='sys', remove_deadends=False, qinit=aut.qinit)\n",
    "# h0 = gb._game_format_nx(g0, attributes)\n",
    "# pd0 = nx.drawing.nx_pydot.to_pydot(h0)\n",
    "# pd0.write_pdf(path + 'game.pdf')\n",
    "# with open(filename, \"wb\") as file:\n",
    "#     pickle.dump(g0, file)"
   ]
  }
 ],
 "metadata": {
  "kernelspec": {
   "display_name": "env",
   "language": "python",
   "name": "python3"
  },
  "language_info": {
   "codemirror_mode": {
    "name": "ipython",
    "version": 3
   },
   "file_extension": ".py",
   "mimetype": "text/x-python",
   "name": "python",
   "nbconvert_exporter": "python",
   "pygments_lexer": "ipython3",
   "version": "3.8.16"
  },
  "orig_nbformat": 4
 },
 "nbformat": 4,
 "nbformat_minor": 2
}
