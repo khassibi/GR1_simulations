{
 "cells": [
  {
   "cell_type": "code",
   "execution_count": 266,
   "metadata": {},
   "outputs": [],
   "source": [
    "import tulip as tlp\n",
    "from tulip.interfaces import omega as omega_int\n",
    "from tulip import transys, abstract, spec, synth\n",
    "from visualization import graph_builder as gb\n",
    "import networkx as nx\n",
    "from tulip.transys import machines\n",
    "from GR1_defaults import settings\n",
    "\n",
    "from tulip import dumpsmach\n",
    "import pickle"
   ]
  },
  {
   "cell_type": "code",
   "execution_count": 267,
   "metadata": {},
   "outputs": [],
   "source": [
    "path = 'var_inc/'"
   ]
  },
  {
   "cell_type": "code",
   "execution_count": 268,
   "metadata": {},
   "outputs": [],
   "source": [
    "! rm -r var_inc"
   ]
  },
  {
   "cell_type": "code",
   "execution_count": 269,
   "metadata": {},
   "outputs": [],
   "source": [
    "mkdir var_inc"
   ]
  },
  {
   "cell_type": "code",
   "execution_count": 270,
   "metadata": {},
   "outputs": [],
   "source": [
    "# Variables\n",
    "env_vars = {'is_true':'boolean',\n",
    "            'is_true2': 'boolean'}\n",
    "sys_vars = {'num':(0,1)}"
   ]
  },
  {
   "cell_type": "code",
   "execution_count": 271,
   "metadata": {},
   "outputs": [],
   "source": [
    "increment = False"
   ]
  },
  {
   "cell_type": "code",
   "execution_count": 272,
   "metadata": {},
   "outputs": [],
   "source": [
    "# Initialization\n",
    "env_init = {'is_true', 'is_true2'}\n",
    "# env_init = set()\n",
    "if increment:\n",
    "    sys_init = {'num=0'}\n",
    "else:\n",
    "    sys_init = {'num=1'}"
   ]
  },
  {
   "cell_type": "code",
   "execution_count": 273,
   "metadata": {},
   "outputs": [],
   "source": [
    "# Safety\n",
    "env_safe = {'(!is_true) -> X(is_true)',\n",
    "            '(is_true) -> !X(is_true)',\n",
    "            'X is_true -> X is_true2' # does not count initial state\n",
    "}\n",
    "if increment:\n",
    "    sys_safe = {'(num=0) -> (X(num)=num+1)',\n",
    "                '(num=1) -> (X(num)=1)'}\n",
    "else:\n",
    "    sys_safe = {'(num=1) -> (X(num)=num-1)',\n",
    "                '(num=0) -> (X(num)=0)'}\n",
    "\n"
   ]
  },
  {
   "cell_type": "code",
   "execution_count": 274,
   "metadata": {},
   "outputs": [],
   "source": [
    "# Progress\n",
    "env_prog = set()\n",
    "if increment:\n",
    "    sys_prog = {'num=1'}\n",
    "else:\n",
    "    sys_prog = {'num=0'}"
   ]
  },
  {
   "cell_type": "code",
   "execution_count": 275,
   "metadata": {},
   "outputs": [],
   "source": [
    "specs = settings.set_specs(env_vars, sys_vars, env_init, sys_init,\n",
    "                            env_safe, sys_safe, env_prog, sys_prog)"
   ]
  },
  {
   "cell_type": "code",
   "execution_count": 276,
   "metadata": {},
   "outputs": [
    {
     "name": "stdout",
     "output_type": "stream",
     "text": [
      "ENVIRONMENT VARIABLES:\n",
      "\tis_true\tboolean\n",
      "\tis_true2\tboolean\n",
      "\n",
      "SYSTEM VARIABLES:\n",
      "\tnum\t(0, 1)\n",
      "\n",
      "FORMULA:\n",
      "ASSUMPTION:\n",
      "    INITIAL\n",
      "\t  (is_true2)\n",
      "\t& (is_true)\n",
      "    SAFETY\n",
      "\t  []((is_true) -> !X(is_true))\n",
      "\t& []((!is_true) -> X(is_true))\n",
      "\t& []((is_true) -> (is_true <=> is_true2))\n",
      "GUARANTEE:\n",
      "    INITIAL\n",
      "\t  (num=1)\n",
      "    SAFETY\n",
      "\t  []((num=0) -> (X(num)=0))\n",
      "\t& []((num=1) -> (X(num)=num-1))\n",
      "    LIVENESS\n",
      "\t  []<>(num=0)\n",
      "\n"
     ]
    }
   ],
   "source": [
    "print(specs.pretty())"
   ]
  },
  {
   "cell_type": "code",
   "execution_count": 277,
   "metadata": {},
   "outputs": [],
   "source": [
    "spec = tlp.synth._spec_plus_sys(specs, None, None, False, False)"
   ]
  },
  {
   "cell_type": "code",
   "execution_count": 278,
   "metadata": {},
   "outputs": [
    {
     "name": "stderr",
     "output_type": "stream",
     "text": [
      "Error  : expr IMP LPAREN expr LE . LexToken(GE,'>',1,24)\n"
     ]
    },
    {
     "ename": "Exception",
     "evalue": "Syntax error at \">\"\nremaining input:\nis_true2 )\n",
     "output_type": "error",
     "traceback": [
      "\u001b[0;31m---------------------------------------------------------------------------\u001b[0m",
      "\u001b[0;31mException\u001b[0m                                 Traceback (most recent call last)",
      "\u001b[1;32m/Users/kimiahassibi/Desktop/Caltech/SURF2023/GR1_simulations/var_inc.ipynb Cell 13\u001b[0m line \u001b[0;36m2\n\u001b[1;32m      <a href='vscode-notebook-cell:/Users/kimiahassibi/Desktop/Caltech/SURF2023/GR1_simulations/var_inc.ipynb#X46sZmlsZQ%3D%3D?line=0'>1</a>\u001b[0m \u001b[39m# Automaton class found in omega/omega/symbolic/temporal.py\u001b[39;00m\n\u001b[0;32m----> <a href='vscode-notebook-cell:/Users/kimiahassibi/Desktop/Caltech/SURF2023/GR1_simulations/var_inc.ipynb#X46sZmlsZQ%3D%3D?line=1'>2</a>\u001b[0m aut \u001b[39m=\u001b[39m omega_int\u001b[39m.\u001b[39;49m_grspec_to_automaton(spec)\n",
      "File \u001b[0;32m~/Desktop/Caltech/SURF2023/env/lib/python3.8/site-packages/tulip-1.4.0-py3.8.egg/tulip/interfaces/omega.py:152\u001b[0m, in \u001b[0;36m_grspec_to_automaton\u001b[0;34m(g)\u001b[0m\n\u001b[1;32m    149\u001b[0m         \u001b[39mraise\u001b[39;00m \u001b[39mValueError\u001b[39;00m(\n\u001b[1;32m    150\u001b[0m             \u001b[39m'\u001b[39m\u001b[39munknown variable type: \u001b[39m\u001b[39m{v}\u001b[39;00m\u001b[39m'\u001b[39m\u001b[39m.\u001b[39mformat(v\u001b[39m=\u001b[39mv))\n\u001b[1;32m    151\u001b[0m     d[k] \u001b[39m=\u001b[39m r\n\u001b[0;32m--> 152\u001b[0m g\u001b[39m.\u001b[39;49mstr_to_int()\n\u001b[1;32m    154\u001b[0m \u001b[39m# reverse mapping by `synth.strategy2mealy`\u001b[39;00m\n\u001b[1;32m    155\u001b[0m a\u001b[39m.\u001b[39mdeclare_variables(\u001b[39m*\u001b[39m\u001b[39m*\u001b[39md)\n",
      "File \u001b[0;32m~/Desktop/Caltech/SURF2023/env/lib/python3.8/site-packages/tulip-1.4.0-py3.8.egg/tulip/spec/form.py:773\u001b[0m, in \u001b[0;36mGRSpec.str_to_int\u001b[0;34m(self)\u001b[0m\n\u001b[1;32m    771\u001b[0m     logger\u001b[39m.\u001b[39mdebug(\u001b[39mstr\u001b[39m(x) \u001b[39m+\u001b[39m \u001b[39m'\u001b[39m\u001b[39m is not in _bool_int cache\u001b[39m\u001b[39m'\u001b[39m)\n\u001b[1;32m    772\u001b[0m \u001b[39m# get AST\u001b[39;00m\n\u001b[0;32m--> 773\u001b[0m a \u001b[39m=\u001b[39m \u001b[39mself\u001b[39;49m\u001b[39m.\u001b[39;49mast(x)\n\u001b[1;32m    774\u001b[0m \u001b[39m# create AST copy with int and bool vars only\u001b[39;00m\n\u001b[1;32m    775\u001b[0m g \u001b[39m=\u001b[39m tx\u001b[39m.\u001b[39mTree\u001b[39m.\u001b[39mfrom_recursive_ast(a)\n",
      "File \u001b[0;32m~/Desktop/Caltech/SURF2023/env/lib/python3.8/site-packages/tulip-1.4.0-py3.8.egg/tulip/spec/form.py:800\u001b[0m, in \u001b[0;36mGRSpec.ast\u001b[0;34m(self, x)\u001b[0m\n\u001b[1;32m    797\u001b[0m \u001b[39melse\u001b[39;00m:\n\u001b[1;32m    798\u001b[0m     logger\u001b[39m.\u001b[39minfo(\u001b[39m'\u001b[39m\u001b[39mAST cache does not contain:\u001b[39m\u001b[39m\\n\u001b[39;00m\u001b[39m\\t\u001b[39;00m\u001b[39m'\u001b[39m \u001b[39m+\u001b[39m \u001b[39mstr\u001b[39m(x) \u001b[39m+\u001b[39m\n\u001b[1;32m    799\u001b[0m                 \u001b[39m'\u001b[39m\u001b[39m\\n\u001b[39;00m\u001b[39mNeed to parse.\u001b[39m\u001b[39m'\u001b[39m)\n\u001b[0;32m--> 800\u001b[0m     \u001b[39mself\u001b[39;49m\u001b[39m.\u001b[39;49mparse()\n\u001b[1;32m    801\u001b[0m \u001b[39mreturn\u001b[39;00m \u001b[39mself\u001b[39m\u001b[39m.\u001b[39m_ast[x]\n",
      "File \u001b[0;32m~/Desktop/Caltech/SURF2023/env/lib/python3.8/site-packages/tulip-1.4.0-py3.8.egg/tulip/spec/form.py:820\u001b[0m, in \u001b[0;36mGRSpec.parse\u001b[0;34m(self)\u001b[0m\n\u001b[1;32m    818\u001b[0m     \u001b[39mcontinue\u001b[39;00m\n\u001b[1;32m    819\u001b[0m logger\u001b[39m.\u001b[39mdebug(\u001b[39m'\u001b[39m\u001b[39mparse: \u001b[39m\u001b[39m'\u001b[39m \u001b[39m+\u001b[39m \u001b[39mstr\u001b[39m(x))\n\u001b[0;32m--> 820\u001b[0m tree \u001b[39m=\u001b[39m \u001b[39mself\u001b[39;49m\u001b[39m.\u001b[39;49mparser\u001b[39m.\u001b[39;49mparse(x)\n\u001b[1;32m    821\u001b[0m g \u001b[39m=\u001b[39m tx\u001b[39m.\u001b[39mTree\u001b[39m.\u001b[39mfrom_recursive_ast(tree)\n\u001b[1;32m    822\u001b[0m tx\u001b[39m.\u001b[39mcheck_for_undefined_identifiers(g, vardoms)\n",
      "File \u001b[0;32m~/Desktop/Caltech/SURF2023/env/lib/python3.8/site-packages/tulip-1.4.0-py3.8.egg/tulip/spec/parser.py:56\u001b[0m, in \u001b[0;36mparse\u001b[0;34m(formula, full_operators)\u001b[0m\n\u001b[1;32m     54\u001b[0m \u001b[39mif\u001b[39;00m parsers\u001b[39m.\u001b[39mget(\u001b[39m'\u001b[39m\u001b[39mply\u001b[39m\u001b[39m'\u001b[39m) \u001b[39mis\u001b[39;00m \u001b[39mNone\u001b[39;00m:\n\u001b[1;32m     55\u001b[0m     parsers[\u001b[39m'\u001b[39m\u001b[39mply\u001b[39m\u001b[39m'\u001b[39m] \u001b[39m=\u001b[39m lexyacc\u001b[39m.\u001b[39mParser()\n\u001b[0;32m---> 56\u001b[0m spec \u001b[39m=\u001b[39m parsers[\u001b[39m'\u001b[39;49m\u001b[39mply\u001b[39;49m\u001b[39m'\u001b[39;49m]\u001b[39m.\u001b[39;49mparse(formula)\n\u001b[1;32m     57\u001b[0m \u001b[39m# did ply fail merely printing warnings ?\u001b[39;00m\n\u001b[1;32m     58\u001b[0m \u001b[39mif\u001b[39;00m spec \u001b[39mis\u001b[39;00m \u001b[39mNone\u001b[39;00m:\n",
      "File \u001b[0;32m~/Desktop/Caltech/SURF2023/env/lib/python3.8/site-packages/tulip-1.4.0-py3.8.egg/tulip/spec/lexyacc.py:237\u001b[0m, in \u001b[0;36mParser.parse\u001b[0;34m(self, formula, debuglog)\u001b[0m\n\u001b[1;32m    235\u001b[0m \u001b[39mif\u001b[39;00m debuglog \u001b[39mis\u001b[39;00m \u001b[39mNone\u001b[39;00m:\n\u001b[1;32m    236\u001b[0m     debuglog \u001b[39m=\u001b[39m logging\u001b[39m.\u001b[39mgetLogger(PARSER_LOGGER)\n\u001b[0;32m--> 237\u001b[0m root \u001b[39m=\u001b[39m \u001b[39mself\u001b[39;49m\u001b[39m.\u001b[39;49mparser\u001b[39m.\u001b[39;49mparse(\n\u001b[1;32m    238\u001b[0m     formula,\n\u001b[1;32m    239\u001b[0m     lexer\u001b[39m=\u001b[39;49m\u001b[39mself\u001b[39;49m\u001b[39m.\u001b[39;49mlexer\u001b[39m.\u001b[39;49mlexer,\n\u001b[1;32m    240\u001b[0m     debug\u001b[39m=\u001b[39;49mdebuglog)\n\u001b[1;32m    241\u001b[0m \u001b[39mif\u001b[39;00m root \u001b[39mis\u001b[39;00m \u001b[39mNone\u001b[39;00m:\n\u001b[1;32m    242\u001b[0m     \u001b[39mraise\u001b[39;00m \u001b[39mException\u001b[39;00m(\u001b[39m'\u001b[39m\u001b[39mfailed to parse:\u001b[39m\u001b[39m\\n\u001b[39;00m\u001b[39m\\t\u001b[39;00m\u001b[39m{f}\u001b[39;00m\u001b[39m'\u001b[39m\u001b[39m.\u001b[39mformat(f\u001b[39m=\u001b[39mformula))\n",
      "File \u001b[0;32m~/Desktop/Caltech/SURF2023/env/lib/python3.8/site-packages/ply/yacc.py:327\u001b[0m, in \u001b[0;36mLRParser.parse\u001b[0;34m(self, input, lexer, debug, tracking, tokenfunc)\u001b[0m\n\u001b[1;32m    325\u001b[0m     \u001b[39mif\u001b[39;00m \u001b[39misinstance\u001b[39m(debug, \u001b[39mint\u001b[39m):\n\u001b[1;32m    326\u001b[0m         debug \u001b[39m=\u001b[39m PlyLogger(sys\u001b[39m.\u001b[39mstderr)\n\u001b[0;32m--> 327\u001b[0m     \u001b[39mreturn\u001b[39;00m \u001b[39mself\u001b[39;49m\u001b[39m.\u001b[39;49mparsedebug(\u001b[39minput\u001b[39;49m, lexer, debug, tracking, tokenfunc)\n\u001b[1;32m    328\u001b[0m \u001b[39melif\u001b[39;00m tracking:\n\u001b[1;32m    329\u001b[0m     \u001b[39mreturn\u001b[39;00m \u001b[39mself\u001b[39m\u001b[39m.\u001b[39mparseopt(\u001b[39minput\u001b[39m, lexer, debug, tracking, tokenfunc)\n",
      "File \u001b[0;32m~/Desktop/Caltech/SURF2023/env/lib/python3.8/site-packages/ply/yacc.py:601\u001b[0m, in \u001b[0;36mLRParser.parsedebug\u001b[0;34m(self, input, lexer, debug, tracking, tokenfunc)\u001b[0m\n\u001b[1;32m    599\u001b[0m     errtoken\u001b[39m.\u001b[39mlexer \u001b[39m=\u001b[39m lexer\n\u001b[1;32m    600\u001b[0m \u001b[39mself\u001b[39m\u001b[39m.\u001b[39mstate \u001b[39m=\u001b[39m state\n\u001b[0;32m--> 601\u001b[0m tok \u001b[39m=\u001b[39m call_errorfunc(\u001b[39mself\u001b[39;49m\u001b[39m.\u001b[39;49merrorfunc, errtoken, \u001b[39mself\u001b[39;49m)\n\u001b[1;32m    602\u001b[0m \u001b[39mif\u001b[39;00m \u001b[39mself\u001b[39m\u001b[39m.\u001b[39merrorok:\n\u001b[1;32m    603\u001b[0m     \u001b[39m# User must have done some kind of panic\u001b[39;00m\n\u001b[1;32m    604\u001b[0m     \u001b[39m# mode recovery on their own.  The\u001b[39;00m\n\u001b[1;32m    605\u001b[0m     \u001b[39m# returned token is the next lookahead\u001b[39;00m\n\u001b[1;32m    606\u001b[0m     lookahead \u001b[39m=\u001b[39m tok\n",
      "File \u001b[0;32m~/Desktop/Caltech/SURF2023/env/lib/python3.8/site-packages/ply/yacc.py:193\u001b[0m, in \u001b[0;36mcall_errorfunc\u001b[0;34m(errorfunc, token, parser)\u001b[0m\n\u001b[1;32m    191\u001b[0m _token \u001b[39m=\u001b[39m parser\u001b[39m.\u001b[39mtoken\n\u001b[1;32m    192\u001b[0m _restart \u001b[39m=\u001b[39m parser\u001b[39m.\u001b[39mrestart\n\u001b[0;32m--> 193\u001b[0m r \u001b[39m=\u001b[39m errorfunc(token)\n\u001b[1;32m    194\u001b[0m \u001b[39mtry\u001b[39;00m:\n\u001b[1;32m    195\u001b[0m     \u001b[39mdel\u001b[39;00m _errok, _token, _restart\n",
      "File \u001b[0;32m~/Desktop/Caltech/SURF2023/env/lib/python3.8/site-packages/tulip-1.4.0-py3.8.egg/tulip/spec/lexyacc.py:334\u001b[0m, in \u001b[0;36mParser.p_error\u001b[0;34m(self, p)\u001b[0m\n\u001b[1;32m    332\u001b[0m         \u001b[39mbreak\u001b[39;00m\n\u001b[1;32m    333\u001b[0m     s\u001b[39m.\u001b[39mappend(tok\u001b[39m.\u001b[39mvalue)\n\u001b[0;32m--> 334\u001b[0m \u001b[39mraise\u001b[39;00m \u001b[39mException\u001b[39;00m(\n\u001b[1;32m    335\u001b[0m     \u001b[39m'\u001b[39m\u001b[39mSyntax error at \u001b[39m\u001b[39m\"\u001b[39m\u001b[39m{p}\u001b[39;00m\u001b[39m\"\u001b[39m\u001b[39m\\n\u001b[39;00m\u001b[39m'\u001b[39m\u001b[39m.\u001b[39mformat(p\u001b[39m=\u001b[39mp\u001b[39m.\u001b[39mvalue) \u001b[39m+\u001b[39m\n\u001b[1;32m    336\u001b[0m     \u001b[39m'\u001b[39m\u001b[39mremaining input:\u001b[39m\u001b[39m\\n\u001b[39;00m\u001b[39m{s}\u001b[39;00m\u001b[39m\\n\u001b[39;00m\u001b[39m'\u001b[39m\u001b[39m.\u001b[39mformat(s\u001b[39m=\u001b[39m\u001b[39m'\u001b[39m\u001b[39m \u001b[39m\u001b[39m'\u001b[39m\u001b[39m.\u001b[39mjoin(s)))\n",
      "\u001b[0;31mException\u001b[0m: Syntax error at \">\"\nremaining input:\nis_true2 )\n"
     ]
    }
   ],
   "source": [
    "# Automaton class found in omega/omega/symbolic/temporal.py\n",
    "aut = omega_int._grspec_to_automaton(spec)"
   ]
  },
  {
   "cell_type": "code",
   "execution_count": null,
   "metadata": {},
   "outputs": [
    {
     "name": "stdout",
     "output_type": "stream",
     "text": [
      "removed 0 nodes from 5 total\n"
     ]
    }
   ],
   "source": [
    "# Synthesizing system controller\n",
    "ctrl = tlp.synth.synthesize(specs)\n",
    "assert ctrl is not None, 'unrealizable'"
   ]
  },
  {
   "cell_type": "code",
   "execution_count": null,
   "metadata": {},
   "outputs": [],
   "source": [
    " # Graphing\n",
    "filename = path + \"graph\"\n",
    "attributes = ['color', 'shape']"
   ]
  },
  {
   "cell_type": "code",
   "execution_count": null,
   "metadata": {},
   "outputs": [],
   "source": [
    "# Making a graph of the asynchronous GR(1) game with deadends.\n",
    "g0 = gb.game_graph(aut, env='env', sys='sys', remove_deadends=False, qinit=aut.qinit)\n",
    "h0 = gb._game_format_nx(g0, attributes)\n",
    "pd0 = nx.drawing.nx_pydot.to_pydot(h0)\n",
    "pd0.write_pdf(path + 'game.pdf')\n",
    "# with open(filename, \"wb\") as file:\n",
    "#     pickle.dump(g0, file)"
   ]
  }
 ],
 "metadata": {
  "kernelspec": {
   "display_name": "env",
   "language": "python",
   "name": "python3"
  },
  "language_info": {
   "codemirror_mode": {
    "name": "ipython",
    "version": 3
   },
   "file_extension": ".py",
   "mimetype": "text/x-python",
   "name": "python",
   "nbconvert_exporter": "python",
   "pygments_lexer": "ipython3",
   "version": "3.8.16"
  },
  "orig_nbformat": 4
 },
 "nbformat": 4,
 "nbformat_minor": 2
}
