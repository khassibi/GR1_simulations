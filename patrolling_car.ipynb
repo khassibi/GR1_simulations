{
 "cells": [
  {
   "cell_type": "code",
   "execution_count": 1,
   "metadata": {},
   "outputs": [
    {
     "name": "stderr",
     "output_type": "stream",
     "text": [
      "`omega.symbolic.symbolic` failed to import `dd.cudd`.\n",
      "Will use `dd.autoref`.\n",
      "/Users/kimiahassibi/Desktop/Caltech/SURF2023/env/lib/python3.8/site-packages/tulip-1.4.0-py3.8.egg/tulip/transys/mathset.py:719: SyntaxWarning: \"is\" with a literal. Did you mean \"==\"?\n",
      "/Users/kimiahassibi/Desktop/Caltech/SURF2023/env/lib/python3.8/site-packages/tulip-1.4.0-py3.8.egg/tulip/transys/mathset.py:719: SyntaxWarning: \"is\" with a literal. Did you mean \"==\"?\n",
      "/Users/kimiahassibi/Desktop/Caltech/SURF2023/env/lib/python3.8/site-packages/tulip-1.4.0-py3.8.egg/tulip/transys/labeled_graphs.py:1218: SyntaxWarning: \"is\" with a literal. Did you mean \"==\"?\n",
      "/Users/kimiahassibi/Desktop/Caltech/SURF2023/env/lib/python3.8/site-packages/tulip-1.4.0-py3.8.egg/tulip/transys/labeled_graphs.py:1226: SyntaxWarning: \"is\" with a literal. Did you mean \"==\"?\n",
      "/Users/kimiahassibi/Desktop/Caltech/SURF2023/env/lib/python3.8/site-packages/tulip-1.4.0-py3.8.egg/tulip/transys/labeled_graphs.py:1218: SyntaxWarning: \"is\" with a literal. Did you mean \"==\"?\n",
      "/Users/kimiahassibi/Desktop/Caltech/SURF2023/env/lib/python3.8/site-packages/tulip-1.4.0-py3.8.egg/tulip/transys/labeled_graphs.py:1226: SyntaxWarning: \"is\" with a literal. Did you mean \"==\"?\n",
      "/Users/kimiahassibi/Desktop/Caltech/SURF2023/env/lib/python3.8/site-packages/tulip-1.4.0-py3.8.egg/tulip/transys/transys.py:765: SyntaxWarning: \"is not\" with a literal. Did you mean \"!=\"?\n",
      "/Users/kimiahassibi/Desktop/Caltech/SURF2023/env/lib/python3.8/site-packages/tulip-1.4.0-py3.8.egg/tulip/transys/transys.py:765: SyntaxWarning: \"is not\" with a literal. Did you mean \"!=\"?\n",
      "/Users/kimiahassibi/Desktop/Caltech/SURF2023/env/lib/python3.8/site-packages/tulip-1.4.0-py3.8.egg/tulip/synth.py:161: SyntaxWarning: \"is\" with a literal. Did you mean \"==\"?\n",
      "/Users/kimiahassibi/Desktop/Caltech/SURF2023/env/lib/python3.8/site-packages/tulip-1.4.0-py3.8.egg/tulip/synth.py:161: SyntaxWarning: \"is\" with a literal. Did you mean \"==\"?\n"
     ]
    }
   ],
   "source": [
    "import tulip as tlp\n",
    "from tulip.interfaces import omega as omega_int\n",
    "from tulip import transys, abstract, spec, synth\n",
    "from visualization import graph_builder as gb\n",
    "import networkx as nx\n",
    "from tulip.transys import machines\n",
    "from GR1_defaults import settings\n",
    "\n",
    "from tulip import dumpsmach\n",
    "import pickle"
   ]
  },
  {
   "cell_type": "code",
   "execution_count": 2,
   "metadata": {},
   "outputs": [],
   "source": [
    "path = 'patrolling_car/'"
   ]
  },
  {
   "cell_type": "code",
   "execution_count": 3,
   "metadata": {},
   "outputs": [],
   "source": [
    "# Define the states of the system\n",
    "states = []\n",
    "for x in range(5):\n",
    "    for y in range(5):\n",
    "        states.append(\"c{}{}\".format(x, y))"
   ]
  },
  {
   "cell_type": "code",
   "execution_count": 4,
   "metadata": {},
   "outputs": [],
   "source": [
    "# Variables\n",
    "max_fuel = 14\n",
    "env_vars = {'b': (0,4)}\n",
    "sys_vars = {'r': states,\n",
    "            'fuel': (-1,max_fuel),\n",
    "            'move': 'boolean'\n",
    "}"
   ]
  },
  {
   "cell_type": "code",
   "execution_count": 5,
   "metadata": {},
   "outputs": [],
   "source": [
    "# Initialization\n",
    "# env_init = {'b=2'}\n",
    "env_init = {'b=0'}\n",
    "sys_init = {'r=\"c40\"',\n",
    "            f'fuel={max_fuel}',\n",
    "            '!move'\n",
    "}"
   ]
  },
  {
   "cell_type": "code",
   "execution_count": 6,
   "metadata": {},
   "outputs": [],
   "source": [
    "# Safety\n",
    "# Blocker cannot self-loop (in patrolling_car_copy)\n",
    "env_safe = {'(b=0) -> X(b=1)', \n",
    "            '(b=4) -> X(b=3)'}\n",
    "for i in range(1,4):\n",
    "    env_safe |= {'(b={0}) -> X((b={1}) | (b={2}))'.format(i, i-1, i+1)}"
   ]
  },
  {
   "cell_type": "code",
   "execution_count": 7,
   "metadata": {},
   "outputs": [],
   "source": [
    "sys_safe = set()\n",
    "\n",
    "for x in range(1,4):\n",
    "    sys_safe |= {'(r=\"c{}{}\") -> ((X(r=\"c{}{}\") & (X !move)) | (X((r=\"c{}{}\") | (r=\"c{}{}\") | (r=\"c{}{}\")) & X move))'.format(x,0, x,0, x-1,0, x+1,0, x,1),\n",
    "                '(r=\"c{}{}\") -> ((X(r=\"c{}{}\") & (X !move)) | (X((r=\"c{}{}\") | (r=\"c{}{}\") | (r=\"c{}{}\")) & X move))'.format(x,4,x,4, x-1,4, x+1,4, x,3),\n",
    "                '(r=\"c{}{}\") -> ((X(r=\"c{}{}\") & (X !move)) | (X((r=\"c{}{}\") | (r=\"c{}{}\") | (r=\"c{}{}\")) & X move))'.format(0,x,0,x, 0,x+1, 0,x-1, 1,x),\n",
    "                '(r=\"c{}{}\") -> ((X(r=\"c{}{}\") & (X !move)) | (X((r=\"c{}{}\") | (r=\"c{}{}\") | (r=\"c{}{}\")) & X move))'.format(4,x,4,x, 4,x+1, 4,x-1, 3,x)\n",
    "    }\n",
    "    for y in range(1,4):\n",
    "        sys_safe |= {'(r=\"c{}{}\") -> ((X(r=\"c{}{}\") & !(X move)) | (X((r=\"c{}{}\") | (r=\"c{}{}\") | (r=\"c{}{}\") | (r=\"c{}{}\")) & X move))'.format(x,y,x,y, x+1,y, x-1,y, x,y+1, x,y-1)}\n",
    "\n",
    "# Corners\n",
    "sys_safe |= {'(r=\"c00\") -> ((X(r=\"c00\") & (X !move)) | (X((r=\"c10\") | (r=\"c01\")) & X move))',\n",
    "            '(r=\"c40\") -> ((X(r=\"c40\") & (X !move)) | (X((r=\"c30\") | (r=\"c41\")) & X move))',\n",
    "            '(r=\"c44\") -> ((X(r=\"c44\") & (X !move)) | (X((r=\"c34\") | (r=\"c43\")) & X move))',\n",
    "            '(r=\"c04\") -> ((X(r=\"c04\") & (X !move)) | (X((r=\"c03\") | (r=\"c14\")) & X move))'\n",
    "}\n",
    "\n",
    "sys_safe |= {\n",
    "            f'X(r=\"c42\") -> X(fuel = {max_fuel})',\n",
    "            'X(fuel > -1)',\n",
    "            # Decreasing fuel when moving\n",
    "            '((X move) && !X(r=\"c42\")) -> (X(fuel) = fuel-2)',\n",
    "            # Fuel decreasing when not moving\n",
    "            '((X !move) && !X(r=\"c42\") && !(r=\"c04\")) -> (X(fuel) = fuel-1)',\n",
    "            # No more losing fuel when at the goal\n",
    "            '((X !move) && (r=\"c04\")) -> (X(fuel) = fuel)'\n",
    "    }\n",
    "for i in range(0,5):\n",
    "    sys_safe |= {'!((r=\"c1{0}\") & (b={0}))'.format(i)}"
   ]
  },
  {
   "cell_type": "code",
   "execution_count": 8,
   "metadata": {},
   "outputs": [],
   "source": [
    "# Progress\n",
    "# env_prog = set()\n",
    "env_prog = {'b=0'}\n",
    "sys_prog = {'r=\"c04\"'}"
   ]
  },
  {
   "cell_type": "code",
   "execution_count": 9,
   "metadata": {},
   "outputs": [
    {
     "name": "stdout",
     "output_type": "stream",
     "text": [
      "ENVIRONMENT VARIABLES:\n",
      "\tb\t(0, 4)\n",
      "\n",
      "SYSTEM VARIABLES:\n",
      "\tr\t['c00', 'c01', 'c02', 'c03', 'c04', 'c10', 'c11', 'c12', 'c13', 'c14', 'c20', 'c21', 'c22', 'c23', 'c24', 'c30', 'c31', 'c32', 'c33', 'c34', 'c40', 'c41', 'c42', 'c43', 'c44']\n",
      "\tfuel\t(-1, 14)\n",
      "\tmove\tboolean\n",
      "\n",
      "FORMULA:\n",
      "ASSUMPTION:\n",
      "    INITIAL\n",
      "\t  (b=0)\n",
      "    SAFETY\n",
      "\t  []((b=4) -> X(b=3))\n",
      "\t& []((b=0) -> X(b=1))\n",
      "\t& []((b=2) -> X((b=1) | (b=3)))\n",
      "\t& []((b=3) -> X((b=2) | (b=4)))\n",
      "\t& []((b=1) -> X((b=0) | (b=2)))\n",
      "    LIVENESS\n",
      "\t  []<>(b=0)\n",
      "GUARANTEE:\n",
      "    INITIAL\n",
      "\t  (r=\"c40\")\n",
      "\t& (fuel=14)\n",
      "\t& (!move)\n",
      "    SAFETY\n",
      "\t  []((r=\"c12\") -> ((X(r=\"c12\") & !(X move)) | (X((r=\"c22\") | (r=\"c02\") | (r=\"c13\") | (r=\"c11\")) & X move)))\n",
      "\t& []((r=\"c41\") -> ((X(r=\"c41\") & (X !move)) | (X((r=\"c42\") | (r=\"c40\") | (r=\"c31\")) & X move)))\n",
      "\t& []((r=\"c14\") -> ((X(r=\"c14\") & (X !move)) | (X((r=\"c04\") | (r=\"c24\") | (r=\"c13\")) & X move)))\n",
      "\t& []((r=\"c40\") -> ((X(r=\"c40\") & (X !move)) | (X((r=\"c30\") | (r=\"c41\")) & X move)))\n",
      "\t& []((r=\"c10\") -> ((X(r=\"c10\") & (X !move)) | (X((r=\"c00\") | (r=\"c20\") | (r=\"c11\")) & X move)))\n",
      "\t& [](((X move) && !X(r=\"c42\")) -> (X(fuel) = fuel-2))\n",
      "\t& []((r=\"c20\") -> ((X(r=\"c20\") & (X !move)) | (X((r=\"c10\") | (r=\"c30\") | (r=\"c21\")) & X move)))\n",
      "\t& []((r=\"c01\") -> ((X(r=\"c01\") & (X !move)) | (X((r=\"c02\") | (r=\"c00\") | (r=\"c11\")) & X move)))\n",
      "\t& []((r=\"c23\") -> ((X(r=\"c23\") & !(X move)) | (X((r=\"c33\") | (r=\"c13\") | (r=\"c24\") | (r=\"c22\")) & X move)))\n",
      "\t& []((r=\"c04\") -> ((X(r=\"c04\") & (X !move)) | (X((r=\"c03\") | (r=\"c14\")) & X move)))\n",
      "\t& []((r=\"c03\") -> ((X(r=\"c03\") & (X !move)) | (X((r=\"c04\") | (r=\"c02\") | (r=\"c13\")) & X move)))\n",
      "\t& [](X(r=\"c42\") -> X(fuel = 14))\n",
      "\t& []((r=\"c30\") -> ((X(r=\"c30\") & (X !move)) | (X((r=\"c20\") | (r=\"c40\") | (r=\"c31\")) & X move)))\n",
      "\t& []((r=\"c31\") -> ((X(r=\"c31\") & !(X move)) | (X((r=\"c41\") | (r=\"c21\") | (r=\"c32\") | (r=\"c30\")) & X move)))\n",
      "\t& [](!((r=\"c13\") & (b=3)))\n",
      "\t& [](((X !move) && !X(r=\"c42\") && !(r=\"c04\")) -> (X(fuel) = fuel-1))\n",
      "\t& []((r=\"c33\") -> ((X(r=\"c33\") & !(X move)) | (X((r=\"c43\") | (r=\"c23\") | (r=\"c34\") | (r=\"c32\")) & X move)))\n",
      "\t& []((r=\"c34\") -> ((X(r=\"c34\") & (X !move)) | (X((r=\"c24\") | (r=\"c44\") | (r=\"c33\")) & X move)))\n",
      "\t& [](X(fuel > -1))\n",
      "\t& []((r=\"c22\") -> ((X(r=\"c22\") & !(X move)) | (X((r=\"c32\") | (r=\"c12\") | (r=\"c23\") | (r=\"c21\")) & X move)))\n",
      "\t& []((r=\"c43\") -> ((X(r=\"c43\") & (X !move)) | (X((r=\"c44\") | (r=\"c42\") | (r=\"c33\")) & X move)))\n",
      "\t& []((r=\"c42\") -> ((X(r=\"c42\") & (X !move)) | (X((r=\"c43\") | (r=\"c41\") | (r=\"c32\")) & X move)))\n",
      "\t& [](!((r=\"c11\") & (b=1)))\n",
      "\t& []((r=\"c00\") -> ((X(r=\"c00\") & (X !move)) | (X((r=\"c10\") | (r=\"c01\")) & X move)))\n",
      "\t& [](!((r=\"c10\") & (b=0)))\n",
      "\t& []((r=\"c02\") -> ((X(r=\"c02\") & (X !move)) | (X((r=\"c03\") | (r=\"c01\") | (r=\"c12\")) & X move)))\n",
      "\t& [](((X !move) && (r=\"c04\")) -> (X(fuel) = fuel))\n",
      "\t& [](!((r=\"c14\") & (b=4)))\n",
      "\t& []((r=\"c11\") -> ((X(r=\"c11\") & !(X move)) | (X((r=\"c21\") | (r=\"c01\") | (r=\"c12\") | (r=\"c10\")) & X move)))\n",
      "\t& []((r=\"c24\") -> ((X(r=\"c24\") & (X !move)) | (X((r=\"c14\") | (r=\"c34\") | (r=\"c23\")) & X move)))\n",
      "\t& []((r=\"c13\") -> ((X(r=\"c13\") & !(X move)) | (X((r=\"c23\") | (r=\"c03\") | (r=\"c14\") | (r=\"c12\")) & X move)))\n",
      "\t& []((r=\"c44\") -> ((X(r=\"c44\") & (X !move)) | (X((r=\"c34\") | (r=\"c43\")) & X move)))\n",
      "\t& [](!((r=\"c12\") & (b=2)))\n",
      "\t& []((r=\"c21\") -> ((X(r=\"c21\") & !(X move)) | (X((r=\"c31\") | (r=\"c11\") | (r=\"c22\") | (r=\"c20\")) & X move)))\n",
      "\t& []((r=\"c32\") -> ((X(r=\"c32\") & !(X move)) | (X((r=\"c42\") | (r=\"c22\") | (r=\"c33\") | (r=\"c31\")) & X move)))\n",
      "    LIVENESS\n",
      "\t  []<>(r=\"c04\")\n",
      "\n"
     ]
    }
   ],
   "source": [
    "# Settings for the specifications\n",
    "specs = settings.set_specs(env_vars, sys_vars, env_init, sys_init,\n",
    "                            env_safe, sys_safe, env_prog, sys_prog)\n",
    "print(specs.pretty())"
   ]
  },
  {
   "cell_type": "code",
   "execution_count": 10,
   "metadata": {},
   "outputs": [],
   "source": [
    "# Turning the specifications into an automaton\n",
    "# spec = tlp.synth._spec_plus_sys(specs, sys, None, False, False)\n",
    "spec = tlp.synth._spec_plus_sys(specs, None, None, False, False)\n",
    "aut = omega_int._grspec_to_automaton(spec)"
   ]
  },
  {
   "cell_type": "code",
   "execution_count": 11,
   "metadata": {},
   "outputs": [
    {
     "name": "stdout",
     "output_type": "stream",
     "text": [
      "removed 0 nodes from 66 total\n"
     ]
    }
   ],
   "source": [
    "# Synthesize the controller\n",
    "# ctrl = tlp.synth.synthesize(specs, sys=sys)\n",
    "ctrl = tlp.synth.synthesize(specs)\n",
    "assert ctrl is not None, 'unrealizable'\n",
    "with open(path + \"ctrl\", \"wb\") as file:\n",
    "    pickle.dump(ctrl, file)\n",
    "\n",
    "dumpsmach.write_python_case(path + 'controller.py', ctrl, classname=\"sys_ctrl\")"
   ]
  },
  {
   "cell_type": "code",
   "execution_count": 12,
   "metadata": {},
   "outputs": [],
   "source": [
    "# Graphing\n",
    "filename = path + \"graph\"\n",
    "attributes = ['color', 'shape']"
   ]
  },
  {
   "cell_type": "code",
   "execution_count": 13,
   "metadata": {},
   "outputs": [
    {
     "name": "stdout",
     "output_type": "stream",
     "text": [
      "about to create game graph\n",
      "found winning set\n",
      "before queue\n"
     ]
    }
   ],
   "source": [
    "# Making a graph of the asynchronous GR(1) game with deadends.\n",
    "g0 = gb.game_graph(aut, env='env', sys='sys', remove_deadends=False, append_non_visited=True, qinit=aut.qinit)"
   ]
  },
  {
   "cell_type": "code",
   "execution_count": 14,
   "metadata": {},
   "outputs": [],
   "source": [
    "with open(filename, \"wb\") as file:\n",
    "    pickle.dump(g0, file)"
   ]
  },
  {
   "cell_type": "code",
   "execution_count": 15,
   "metadata": {},
   "outputs": [],
   "source": [
    "h0 = gb._game_format_nx(g0, attributes)"
   ]
  },
  {
   "cell_type": "code",
   "execution_count": 16,
   "metadata": {},
   "outputs": [],
   "source": [
    "pd0 = nx.drawing.nx_pydot.to_pydot(h0)"
   ]
  },
  {
   "cell_type": "code",
   "execution_count": 17,
   "metadata": {},
   "outputs": [
    {
     "data": {
      "text/plain": [
       "pydot.Dot"
      ]
     },
     "execution_count": 17,
     "metadata": {},
     "output_type": "execute_result"
    }
   ],
   "source": [
    "type(pd0)"
   ]
  },
  {
   "cell_type": "code",
   "execution_count": 18,
   "metadata": {},
   "outputs": [
    {
     "data": {
      "text/plain": [
       "6433"
      ]
     },
     "execution_count": 18,
     "metadata": {},
     "output_type": "execute_result"
    }
   ],
   "source": [
    "len(pd0.get_edge_list())"
   ]
  },
  {
   "cell_type": "code",
   "execution_count": 20,
   "metadata": {},
   "outputs": [
    {
     "data": {
      "text/plain": [
       "2783"
      ]
     },
     "execution_count": 20,
     "metadata": {},
     "output_type": "execute_result"
    }
   ],
   "source": [
    "len(pd0.get_node_list())"
   ]
  },
  {
   "cell_type": "code",
   "execution_count": 19,
   "metadata": {},
   "outputs": [
    {
     "name": "stdout",
     "output_type": "stream",
     "text": [
      "wrote pd0\n"
     ]
    }
   ],
   "source": [
    "pd0.write_pdf(path + 'game.pdf')\n",
    "print('wrote pd0')"
   ]
  }
 ],
 "metadata": {
  "kernelspec": {
   "display_name": "env",
   "language": "python",
   "name": "python3"
  },
  "language_info": {
   "codemirror_mode": {
    "name": "ipython",
    "version": 3
   },
   "file_extension": ".py",
   "mimetype": "text/x-python",
   "name": "python",
   "nbconvert_exporter": "python",
   "pygments_lexer": "ipython3",
   "version": "3.8.16"
  }
 },
 "nbformat": 4,
 "nbformat_minor": 2
}
