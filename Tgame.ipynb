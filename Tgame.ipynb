{
 "cells": [
  {
   "cell_type": "code",
   "execution_count": 1,
   "metadata": {},
   "outputs": [
    {
     "name": "stderr",
     "output_type": "stream",
     "text": [
      "`omega.symbolic.symbolic` failed to import `dd.cudd`.\n",
      "Will use `dd.autoref`.\n",
      "/Users/kimiahassibi/Desktop/Caltech/SURF2023/env/lib/python3.8/site-packages/tulip-1.4.0-py3.8.egg/tulip/transys/mathset.py:719: SyntaxWarning: \"is\" with a literal. Did you mean \"==\"?\n",
      "/Users/kimiahassibi/Desktop/Caltech/SURF2023/env/lib/python3.8/site-packages/tulip-1.4.0-py3.8.egg/tulip/transys/mathset.py:719: SyntaxWarning: \"is\" with a literal. Did you mean \"==\"?\n",
      "/Users/kimiahassibi/Desktop/Caltech/SURF2023/env/lib/python3.8/site-packages/tulip-1.4.0-py3.8.egg/tulip/transys/labeled_graphs.py:1218: SyntaxWarning: \"is\" with a literal. Did you mean \"==\"?\n",
      "/Users/kimiahassibi/Desktop/Caltech/SURF2023/env/lib/python3.8/site-packages/tulip-1.4.0-py3.8.egg/tulip/transys/labeled_graphs.py:1226: SyntaxWarning: \"is\" with a literal. Did you mean \"==\"?\n",
      "/Users/kimiahassibi/Desktop/Caltech/SURF2023/env/lib/python3.8/site-packages/tulip-1.4.0-py3.8.egg/tulip/transys/labeled_graphs.py:1218: SyntaxWarning: \"is\" with a literal. Did you mean \"==\"?\n",
      "/Users/kimiahassibi/Desktop/Caltech/SURF2023/env/lib/python3.8/site-packages/tulip-1.4.0-py3.8.egg/tulip/transys/labeled_graphs.py:1226: SyntaxWarning: \"is\" with a literal. Did you mean \"==\"?\n",
      "/Users/kimiahassibi/Desktop/Caltech/SURF2023/env/lib/python3.8/site-packages/tulip-1.4.0-py3.8.egg/tulip/transys/transys.py:765: SyntaxWarning: \"is not\" with a literal. Did you mean \"!=\"?\n",
      "/Users/kimiahassibi/Desktop/Caltech/SURF2023/env/lib/python3.8/site-packages/tulip-1.4.0-py3.8.egg/tulip/transys/transys.py:765: SyntaxWarning: \"is not\" with a literal. Did you mean \"!=\"?\n",
      "/Users/kimiahassibi/Desktop/Caltech/SURF2023/env/lib/python3.8/site-packages/tulip-1.4.0-py3.8.egg/tulip/synth.py:161: SyntaxWarning: \"is\" with a literal. Did you mean \"==\"?\n",
      "/Users/kimiahassibi/Desktop/Caltech/SURF2023/env/lib/python3.8/site-packages/tulip-1.4.0-py3.8.egg/tulip/synth.py:161: SyntaxWarning: \"is\" with a literal. Did you mean \"==\"?\n"
     ]
    }
   ],
   "source": [
    "import tulip as tlp\n",
    "from tulip.interfaces import omega as omega_int\n",
    "from tulip import transys, abstract, spec, synth\n",
    "from visualization import graph_builder as gb\n",
    "import networkx as nx\n",
    "from tulip.transys import machines\n",
    "from GR1_defaults import settings\n",
    "\n",
    "from tulip import dumpsmach\n",
    "import pickle\n",
    "\n",
    "from omega.games import enumeration as enum"
   ]
  },
  {
   "cell_type": "code",
   "execution_count": 2,
   "metadata": {},
   "outputs": [],
   "source": [
    "path = 'Tgame/'"
   ]
  },
  {
   "cell_type": "code",
   "execution_count": 3,
   "metadata": {},
   "outputs": [],
   "source": [
    "# System definition\n",
    "sys = tlp.transys.FTS()\n",
    "\n",
    "sys.atomic_propositions.add_from({'a0', 'a1', 'a2', 'a3'})\n",
    "sys.states.add('c0', ap={'a0'})\n",
    "sys.states.add('c1', ap={'a1'})\n",
    "sys.states.add('c2', ap={'a2'})\n",
    "sys.states.add('c3', ap={'a3'})\n",
    "sys.states.initial.add('c0')    # start in state c0\n",
    "\n",
    "sys.transitions.add_comb({'c0'}, {'c0', 'c1'})\n",
    "# sys.transitions.add_comb({'c1'}, {'c1', 'c2'})\n",
    "sys.transitions.add_comb({'c1'}, {'c0', 'c1', 'c2'})\n",
    "# sys.transitions.add_comb({'c2'}, {'c2', 'c3'})\n",
    "sys.transitions.add_comb({'c2'}, {'c1', 'c2', 'c3'})\n",
    "# sys.transitions.add_comb({'c3'}, {'c3'})\n",
    "sys.transitions.add_comb({'c3'}, {'c2', 'c3'})"
   ]
  },
  {
   "cell_type": "code",
   "execution_count": 4,
   "metadata": {},
   "outputs": [],
   "source": [
    "# Variables\n",
    "env_vars = {'b': (0, 4)}\n",
    "sys_vars = {}"
   ]
  },
  {
   "cell_type": "code",
   "execution_count": 5,
   "metadata": {},
   "outputs": [],
   "source": [
    "# Initialization\n",
    "env_init = {'b = 0'}\n",
    "sys_init = {}"
   ]
  },
  {
   "cell_type": "code",
   "execution_count": 6,
   "metadata": {},
   "outputs": [],
   "source": [
    "# Safety\n",
    "env_safe = {\n",
    "    # Movement\n",
    "    'b = 0 -> next(b) = 0 | next(b) = 1',\n",
    "    'b = 1 -> next(b) = 1 | next(b) = 0 | next(b) = 2',\n",
    "    'b = 2 -> next(b) = 2 | next(b) = 1 | next(b) = 3',\n",
    "    'b = 3 -> next(b) = 3 | next(b) = 2 | next(b) = 4',\n",
    "    'b = 4 -> next(b) = 4 | next(b) = 3',\n",
    "}\n",
    "sys_safe = {\n",
    "    # No collision\n",
    "    '!(a2 & b = 2)',\n",
    "    # No being collided into\n",
    "    # Commenting this out means that we are considering the game as having simultaneous updates\n",
    "    '!(a2 & X(b = 2))'\n",
    "}"
   ]
  },
  {
   "cell_type": "code",
   "execution_count": 7,
   "metadata": {},
   "outputs": [
    {
     "name": "stdout",
     "output_type": "stream",
     "text": [
      "ENVIRONMENT VARIABLES:\n",
      "\tb\t(0, 4)\n",
      "\n",
      "SYSTEM VARIABLES:\n",
      "\t(none)\n",
      "\n",
      "FORMULA:\n",
      "ASSUMPTION:\n",
      "    INITIAL\n",
      "\t  (b = 0)\n",
      "    SAFETY\n",
      "\t  [](b = 3 -> next(b) = 3 | next(b) = 2 | next(b) = 4)\n",
      "\t& [](b = 1 -> next(b) = 1 | next(b) = 0 | next(b) = 2)\n",
      "\t& [](b = 4 -> next(b) = 4 | next(b) = 3)\n",
      "\t& [](b = 0 -> next(b) = 0 | next(b) = 1)\n",
      "\t& [](b = 2 -> next(b) = 2 | next(b) = 1 | next(b) = 3)\n",
      "    LIVENESS\n",
      "\t  []<>(b = 4)\n",
      "GUARANTEE:\n",
      "    SAFETY\n",
      "\t  [](!(a2 & b = 2))\n",
      "\t& [](!(a2 & X(b = 2)))\n",
      "    LIVENESS\n",
      "\t  []<>(a3)\n",
      "\n"
     ]
    }
   ],
   "source": [
    "# Progress\n",
    "env_prog = {'b = 4'}\n",
    "sys_prog = {'a3'}\n",
    "    \n",
    "\n",
    "specs = settings.set_specs(env_vars, sys_vars, env_init, sys_init,\n",
    "                        env_safe, sys_safe, env_prog, sys_prog)\n",
    "print(specs.pretty())\n",
    "\n",
    "spec = tlp.synth._spec_plus_sys(specs, None, sys, False, False)\n",
    "# Automaton class found in omega/omega/symbolic/temporal.py\n",
    "aut = omega_int._grspec_to_automaton(spec)"
   ]
  },
  {
   "cell_type": "code",
   "execution_count": 8,
   "metadata": {},
   "outputs": [
    {
     "name": "stdout",
     "output_type": "stream",
     "text": [
      "removed 0 nodes from 11 total\n"
     ]
    }
   ],
   "source": [
    "# Synthesize the controller\n",
    "ctrl = tlp.synth.synthesize(specs, sys=sys)\n",
    "assert ctrl is not None, 'unrealizable'\n",
    "with open(path + \"ctrl\", \"wb\") as file:\n",
    "    pickle.dump(ctrl, file)\n",
    "\n",
    "dumpsmach.write_python_case(path + 'controller.py', ctrl, classname=\"sys_ctrl\")"
   ]
  },
  {
   "cell_type": "code",
   "execution_count": 9,
   "metadata": {},
   "outputs": [
    {
     "name": "stderr",
     "output_type": "stream",
     "text": [
      "/Users/kimiahassibi/Desktop/Caltech/SURF2023/env/lib/python3.8/site-packages/tulip-1.4.0-py3.8.egg/tulip/transys/export/graph2dot.py:106: SyntaxWarning: \"is\" with a literal. Did you mean \"==\"?\n",
      "/Users/kimiahassibi/Desktop/Caltech/SURF2023/env/lib/python3.8/site-packages/tulip-1.4.0-py3.8.egg/tulip/transys/export/graph2dot.py:111: SyntaxWarning: \"is\" with a literal. Did you mean \"==\"?\n",
      "/Users/kimiahassibi/Desktop/Caltech/SURF2023/env/lib/python3.8/site-packages/tulip-1.4.0-py3.8.egg/tulip/transys/export/graph2dot.py:112: SyntaxWarning: \"is\" with a literal. Did you mean \"==\"?\n",
      "/Users/kimiahassibi/Desktop/Caltech/SURF2023/env/lib/python3.8/site-packages/tulip-1.4.0-py3.8.egg/tulip/transys/export/graph2dot.py:155: SyntaxWarning: \"is\" with a literal. Did you mean \"==\"?\n",
      "/Users/kimiahassibi/Desktop/Caltech/SURF2023/env/lib/python3.8/site-packages/tulip-1.4.0-py3.8.egg/tulip/transys/export/graph2dot.py:157: SyntaxWarning: \"is\" with a literal. Did you mean \"==\"?\n",
      "/Users/kimiahassibi/Desktop/Caltech/SURF2023/env/lib/python3.8/site-packages/tulip-1.4.0-py3.8.egg/tulip/transys/export/graph2dot.py:159: SyntaxWarning: \"is\" with a literal. Did you mean \"==\"?\n",
      "/Users/kimiahassibi/Desktop/Caltech/SURF2023/env/lib/python3.8/site-packages/tulip-1.4.0-py3.8.egg/tulip/transys/export/graph2dot.py:161: SyntaxWarning: \"is\" with a literal. Did you mean \"==\"?\n",
      "/Users/kimiahassibi/Desktop/Caltech/SURF2023/env/lib/python3.8/site-packages/tulip-1.4.0-py3.8.egg/tulip/transys/export/graph2dot.py:171: SyntaxWarning: \"is\" with a literal. Did you mean \"==\"?\n",
      "/Users/kimiahassibi/Desktop/Caltech/SURF2023/env/lib/python3.8/site-packages/tulip-1.4.0-py3.8.egg/tulip/transys/export/graph2dot.py:184: SyntaxWarning: \"is\" with a literal. Did you mean \"==\"?\n",
      "/Users/kimiahassibi/Desktop/Caltech/SURF2023/env/lib/python3.8/site-packages/tulip-1.4.0-py3.8.egg/tulip/transys/export/graph2dot.py:217: SyntaxWarning: \"is\" with a literal. Did you mean \"==\"?\n",
      "/Users/kimiahassibi/Desktop/Caltech/SURF2023/env/lib/python3.8/site-packages/tulip-1.4.0-py3.8.egg/tulip/transys/export/graph2dot.py:219: SyntaxWarning: \"is\" with a literal. Did you mean \"==\"?\n",
      "/Users/kimiahassibi/Desktop/Caltech/SURF2023/env/lib/python3.8/site-packages/tulip-1.4.0-py3.8.egg/tulip/transys/export/graph2dot.py:106: SyntaxWarning: \"is\" with a literal. Did you mean \"==\"?\n",
      "/Users/kimiahassibi/Desktop/Caltech/SURF2023/env/lib/python3.8/site-packages/tulip-1.4.0-py3.8.egg/tulip/transys/export/graph2dot.py:111: SyntaxWarning: \"is\" with a literal. Did you mean \"==\"?\n",
      "/Users/kimiahassibi/Desktop/Caltech/SURF2023/env/lib/python3.8/site-packages/tulip-1.4.0-py3.8.egg/tulip/transys/export/graph2dot.py:112: SyntaxWarning: \"is\" with a literal. Did you mean \"==\"?\n",
      "/Users/kimiahassibi/Desktop/Caltech/SURF2023/env/lib/python3.8/site-packages/tulip-1.4.0-py3.8.egg/tulip/transys/export/graph2dot.py:155: SyntaxWarning: \"is\" with a literal. Did you mean \"==\"?\n",
      "/Users/kimiahassibi/Desktop/Caltech/SURF2023/env/lib/python3.8/site-packages/tulip-1.4.0-py3.8.egg/tulip/transys/export/graph2dot.py:157: SyntaxWarning: \"is\" with a literal. Did you mean \"==\"?\n",
      "/Users/kimiahassibi/Desktop/Caltech/SURF2023/env/lib/python3.8/site-packages/tulip-1.4.0-py3.8.egg/tulip/transys/export/graph2dot.py:159: SyntaxWarning: \"is\" with a literal. Did you mean \"==\"?\n",
      "/Users/kimiahassibi/Desktop/Caltech/SURF2023/env/lib/python3.8/site-packages/tulip-1.4.0-py3.8.egg/tulip/transys/export/graph2dot.py:161: SyntaxWarning: \"is\" with a literal. Did you mean \"==\"?\n",
      "/Users/kimiahassibi/Desktop/Caltech/SURF2023/env/lib/python3.8/site-packages/tulip-1.4.0-py3.8.egg/tulip/transys/export/graph2dot.py:171: SyntaxWarning: \"is\" with a literal. Did you mean \"==\"?\n",
      "/Users/kimiahassibi/Desktop/Caltech/SURF2023/env/lib/python3.8/site-packages/tulip-1.4.0-py3.8.egg/tulip/transys/export/graph2dot.py:184: SyntaxWarning: \"is\" with a literal. Did you mean \"==\"?\n",
      "/Users/kimiahassibi/Desktop/Caltech/SURF2023/env/lib/python3.8/site-packages/tulip-1.4.0-py3.8.egg/tulip/transys/export/graph2dot.py:217: SyntaxWarning: \"is\" with a literal. Did you mean \"==\"?\n",
      "/Users/kimiahassibi/Desktop/Caltech/SURF2023/env/lib/python3.8/site-packages/tulip-1.4.0-py3.8.egg/tulip/transys/export/graph2dot.py:219: SyntaxWarning: \"is\" with a literal. Did you mean \"==\"?\n"
     ]
    },
    {
     "ename": "ImportError",
     "evalue": "cannot import name 'make_str' from 'networkx.utils' (/Users/kimiahassibi/Desktop/Caltech/SURF2023/env/lib/python3.8/site-packages/networkx/utils/__init__.py)",
     "output_type": "error",
     "traceback": [
      "\u001b[0;31m---------------------------------------------------------------------------\u001b[0m",
      "\u001b[0;31mImportError\u001b[0m                               Traceback (most recent call last)",
      "Cell \u001b[0;32mIn[9], line 1\u001b[0m\n\u001b[0;32m----> 1\u001b[0m \u001b[43mctrl\u001b[49m\u001b[38;5;241;43m.\u001b[39;49m\u001b[43mplot\u001b[49m\u001b[43m(\u001b[49m\u001b[43m)\u001b[49m\n",
      "File \u001b[0;32m~/Desktop/Caltech/SURF2023/env/lib/python3.8/site-packages/tulip-1.4.0-py3.8.egg/tulip/transys/labeled_graphs.py:1267\u001b[0m, in \u001b[0;36mLabeledDiGraph.plot\u001b[0;34m(self, rankdir, prog, wrap, ax)\u001b[0m\n\u001b[1;32m   1265\u001b[0m \u001b[38;5;28;01mif\u001b[39;00m prog \u001b[38;5;129;01mis\u001b[39;00m \u001b[38;5;28;01mNone\u001b[39;00m:\n\u001b[1;32m   1266\u001b[0m     prog \u001b[38;5;241m=\u001b[39m \u001b[38;5;28mself\u001b[39m\u001b[38;5;241m.\u001b[39mdefault_layout\n\u001b[0;32m-> 1267\u001b[0m \u001b[38;5;28;01mfrom\u001b[39;00m \u001b[38;5;21;01mtulip\u001b[39;00m\u001b[38;5;21;01m.\u001b[39;00m\u001b[38;5;21;01mtransys\u001b[39;00m\u001b[38;5;21;01m.\u001b[39;00m\u001b[38;5;21;01mexport\u001b[39;00m \u001b[38;5;28;01mimport\u001b[39;00m graph2dot\n\u001b[1;32m   1268\u001b[0m \u001b[38;5;28;01mreturn\u001b[39;00m graph2dot\u001b[38;5;241m.\u001b[39mplot_pydot(\u001b[38;5;28mself\u001b[39m, prog, rankdir, wrap, ax\u001b[38;5;241m=\u001b[39max)\n",
      "File \u001b[0;32m<frozen zipimport>:259\u001b[0m, in \u001b[0;36mload_module\u001b[0;34m(self, fullname)\u001b[0m\n",
      "File \u001b[0;32m~/Desktop/Caltech/SURF2023/env/lib/python3.8/site-packages/tulip-1.4.0-py3.8.egg/tulip/transys/export/graph2dot.py:45\u001b[0m\n\u001b[1;32m     43\u001b[0m \u001b[38;5;28;01mimport\u001b[39;00m \u001b[38;5;21;01mnumpy\u001b[39;00m \u001b[38;5;28;01mas\u001b[39;00m \u001b[38;5;21;01mnp\u001b[39;00m\n\u001b[1;32m     44\u001b[0m \u001b[38;5;28;01mimport\u001b[39;00m \u001b[38;5;21;01mnetworkx\u001b[39;00m \u001b[38;5;28;01mas\u001b[39;00m \u001b[38;5;21;01mnx\u001b[39;00m\n\u001b[0;32m---> 45\u001b[0m \u001b[38;5;28;01mfrom\u001b[39;00m \u001b[38;5;21;01mnetworkx\u001b[39;00m\u001b[38;5;21;01m.\u001b[39;00m\u001b[38;5;21;01mutils\u001b[39;00m \u001b[38;5;28;01mimport\u001b[39;00m make_str\n\u001b[1;32m     46\u001b[0m \u001b[38;5;28;01mimport\u001b[39;00m \u001b[38;5;21;01mpydot\u001b[39;00m\n\u001b[1;32m     47\u001b[0m \u001b[38;5;66;03m# inline:\u001b[39;00m\n\u001b[1;32m     48\u001b[0m \u001b[38;5;66;03m#\u001b[39;00m\n\u001b[1;32m     49\u001b[0m \u001b[38;5;66;03m# import webcolors\u001b[39;00m\n",
      "\u001b[0;31mImportError\u001b[0m: cannot import name 'make_str' from 'networkx.utils' (/Users/kimiahassibi/Desktop/Caltech/SURF2023/env/lib/python3.8/site-packages/networkx/utils/__init__.py)"
     ]
    }
   ],
   "source": [
    "ctrl.plot()"
   ]
  },
  {
   "cell_type": "code",
   "execution_count": 113,
   "metadata": {},
   "outputs": [],
   "source": [
    "# spec = tlp.synth._spec_plus_sys(specs, None, sys, False, False)\n",
    "# # Automaton class found in omega/omega/symbolic/temporal.py\n",
    "# aut = omega_int._grspec_to_automaton(specs)"
   ]
  },
  {
   "cell_type": "code",
   "execution_count": 114,
   "metadata": {},
   "outputs": [],
   "source": [
    "# enum.action_to_steps(aut, env='env', sys='sys',qinit=aut.qinit)"
   ]
  },
  {
   "cell_type": "code",
   "execution_count": 115,
   "metadata": {},
   "outputs": [],
   "source": [
    "# enum.action_to_steps(aut, env='env', sys='sys')"
   ]
  },
  {
   "cell_type": "code",
   "execution_count": 116,
   "metadata": {},
   "outputs": [],
   "source": [
    "# enum.action_to_steps(aut, env='env', sys='impl')"
   ]
  },
  {
   "cell_type": "code",
   "execution_count": 10,
   "metadata": {},
   "outputs": [
    {
     "name": "stdout",
     "output_type": "stream",
     "text": [
      "about to create game graph\n",
      "found winning set\n",
      "before queue\n"
     ]
    },
    {
     "name": "stderr",
     "output_type": "stream",
     "text": [
      "/var/folders/ft/xrlc5_s96yq61k69b07g248r0000gn/T/ipykernel_3136/1215403325.py:8: DeprecationWarning: nx.nx_pydot.to_pydot depends on the pydot package, which hasknown issues and is not actively maintained.\n",
      "\n",
      "See https://github.com/networkx/networkx/issues/5723\n",
      "  pd0 = nx.drawing.nx_pydot.to_pydot(h0)\n"
     ]
    }
   ],
   "source": [
    "# Graphing\n",
    "filename = path + \"graph\"\n",
    "attributes = ['color', 'shape']\n",
    "\n",
    "# Making a graph of the asynchronous GR(1) game with deadends.\n",
    "g0 = gb.game_graph(aut, env='env', sys='sys', remove_deadends=False, append_non_visited=False, qinit=aut.qinit)\n",
    "h0 = gb._game_format_nx(g0, attributes)\n",
    "pd0 = nx.drawing.nx_pydot.to_pydot(h0)\n",
    "pd0.write_pdf(path + 'game.pdf')\n",
    "with open(filename, \"wb\") as file:\n",
    "    pickle.dump(g0, file)"
   ]
  },
  {
   "cell_type": "markdown",
   "metadata": {},
   "source": [
    "# Trying to satisfy the environment's liveness/progress conditions"
   ]
  },
  {
   "cell_type": "markdown",
   "metadata": {},
   "source": [
    "## Find the nodes in the graph that satisfy any of the environment's progress conditions"
   ]
  },
  {
   "cell_type": "code",
   "execution_count": 118,
   "metadata": {},
   "outputs": [],
   "source": [
    "# making environment progress conditions into a dictionary\n",
    "env_prog_dict = {}\n",
    "for elem in env_prog:\n",
    "    split_lst = elem.split(' = ')\n",
    "    key = split_lst[0]\n",
    "    if len(split_lst) == 1:\n",
    "        env_prog_dict[key] = True\n",
    "    elif type(env_vars[key]) == list:\n",
    "        value = split_lst[1]\n",
    "        env_prog_dict[key] = env_vars[key].index(value[1:len(value)-1])\n",
    "    else:\n",
    "        env_prog_dict[key] = int(split_lst[1])\n"
   ]
  },
  {
   "cell_type": "code",
   "execution_count": 119,
   "metadata": {},
   "outputs": [
    {
     "data": {
      "text/plain": [
       "{'b': 4}"
      ]
     },
     "execution_count": 119,
     "metadata": {},
     "output_type": "execute_result"
    }
   ],
   "source": [
    "env_prog_dict"
   ]
  },
  {
   "cell_type": "code",
   "execution_count": 120,
   "metadata": {},
   "outputs": [],
   "source": [
    "# find the nodes in the graph that satisfy any of the environment's progress conditions\n",
    "# each entry in the dictionary is a list of nodes that satisfying each progress condition\n",
    "env_prog_nodes = {}\n",
    "for item in env_prog_dict.items():\n",
    "    env_prog_nodes[item] = []\n",
    "for node in g0.nodes:\n",
    "    for item in env_prog_dict.items():\n",
    "        if item in g0.nodes[node].items():\n",
    "            env_prog_nodes[item].append(node)"
   ]
  },
  {
   "cell_type": "code",
   "execution_count": 156,
   "metadata": {},
   "outputs": [
    {
     "data": {
      "text/plain": [
       "{('b', 4): [12, 13, 14, 15, 16, 19, 20, 23]}"
      ]
     },
     "execution_count": 156,
     "metadata": {},
     "output_type": "execute_result"
    }
   ],
   "source": [
    "env_prog_nodes"
   ]
  },
  {
   "cell_type": "code",
   "execution_count": 121,
   "metadata": {},
   "outputs": [
    {
     "name": "stdout",
     "output_type": "stream",
     "text": [
      "{'b': 4, 'a0': True, 'a1': False, 'a3': False, 'a2': False, 'loc': 0, 'shape': 'box'}\n",
      "{'b': 4, 'a0': False, 'a1': True, 'a3': False, 'a2': False, 'loc': 1, 'shape': 'oval'}\n",
      "{'b': 4, 'a0': True, 'a1': False, 'a3': False, 'a2': False, 'loc': 0, 'shape': 'oval'}\n",
      "{'b': 4, 'a0': False, 'a1': True, 'a3': False, 'a2': False, 'loc': 1, 'shape': 'box'}\n",
      "{'b': 4, 'a0': False, 'a1': False, 'a3': False, 'a2': True, 'loc': 2, 'shape': 'oval'}\n",
      "{'b': 4, 'a0': False, 'a1': False, 'a3': False, 'a2': True, 'loc': 2, 'shape': 'box'}\n",
      "{'b': 4, 'a0': False, 'a1': False, 'a3': True, 'a2': False, 'loc': 3, 'shape': 'oval'}\n",
      "{'b': 4, 'a0': False, 'a1': False, 'a3': True, 'a2': False, 'loc': 3, 'shape': 'box'}\n"
     ]
    }
   ],
   "source": [
    "for node in env_prog_nodes[('b', 4)]:\n",
    "    print(g0.nodes[node])"
   ]
  },
  {
   "cell_type": "code",
   "execution_count": 122,
   "metadata": {},
   "outputs": [
    {
     "data": {
      "text/plain": [
       "{('b', 4): [12, 13, 14, 15, 16, 19, 20, 23]}"
      ]
     },
     "execution_count": 122,
     "metadata": {},
     "output_type": "execute_result"
    }
   ],
   "source": [
    "env_prog_nodes"
   ]
  },
  {
   "cell_type": "markdown",
   "metadata": {},
   "source": [
    "## Find the cycles that contain nodes that satisfy each env progress condition"
   ]
  },
  {
   "cell_type": "code",
   "execution_count": 123,
   "metadata": {},
   "outputs": [],
   "source": [
    "# find all the simple cycles in g0\n",
    "cycles = list(nx.simple_cycles(g0))"
   ]
  },
  {
   "cell_type": "code",
   "execution_count": 124,
   "metadata": {},
   "outputs": [
    {
     "data": {
      "text/plain": [
       "[[0, 3, 5, 1],\n",
       " [0, 1],\n",
       " [3, 5],\n",
       " [3, 5, 6, 8],\n",
       " [6, 8, 9, 11],\n",
       " [6, 8],\n",
       " [9, 11],\n",
       " [9, 11, 12, 14],\n",
       " [12, 14],\n",
       " [33, 4],\n",
       " [33, 4, 31, 7],\n",
       " [33, 4, 35, 2],\n",
       " [7, 17, 10, 31],\n",
       " [7, 31],\n",
       " [17, 10],\n",
       " [17, 10, 15, 13],\n",
       " [13, 15],\n",
       " [2, 35],\n",
       " [36, 37],\n",
       " [20, 26, 22, 23],\n",
       " [20, 23],\n",
       " [22, 26],\n",
       " [22, 24, 25, 26],\n",
       " [24, 25, 27, 28],\n",
       " [24, 25],\n",
       " [27, 28],\n",
       " [27, 28, 29, 30],\n",
       " [29, 30]]"
      ]
     },
     "execution_count": 124,
     "metadata": {},
     "output_type": "execute_result"
    }
   ],
   "source": [
    "cycles"
   ]
  },
  {
   "cell_type": "code",
   "execution_count": 125,
   "metadata": {},
   "outputs": [
    {
     "name": "stdout",
     "output_type": "stream",
     "text": [
      "3\n"
     ]
    }
   ],
   "source": [
    "# make the cycles into frozensets (immutable sets)\n",
    "old_cycles = set()\n",
    "for cycle in cycles:\n",
    "    old_cycles.add(frozenset(cycle))\n",
    "\n",
    "num_iters = 0\n",
    "while True:\n",
    "    num_iters += 1\n",
    "    new_cycles = old_cycles.copy()\n",
    "    for cycle in old_cycles:\n",
    "        for node in cycle:\n",
    "            for cycle2 in old_cycles:\n",
    "                if node in cycle2:\n",
    "                    new_cycles.add(frozenset(cycle | cycle2))\n",
    "    if new_cycles == old_cycles:\n",
    "        print(num_iters)\n",
    "        break\n",
    "    else:\n",
    "        old_cycles = new_cycles.copy()\n",
    "\n",
    "    "
   ]
  },
  {
   "cell_type": "code",
   "execution_count": 126,
   "metadata": {},
   "outputs": [
    {
     "name": "stdout",
     "output_type": "stream",
     "text": [
      "num_iters 3\n",
      "len(cycles) 28\n",
      "len(new_cycles) 46\n"
     ]
    }
   ],
   "source": [
    "print(\"num_iters\", num_iters)\n",
    "print(\"len(cycles)\", len(cycles))\n",
    "print(\"len(new_cycles)\", len(new_cycles))"
   ]
  },
  {
   "cell_type": "code",
   "execution_count": 127,
   "metadata": {},
   "outputs": [],
   "source": [
    "# to make the code work without having to change everything\n",
    "cycles = new_cycles"
   ]
  },
  {
   "cell_type": "code",
   "execution_count": 128,
   "metadata": {},
   "outputs": [
    {
     "data": {
      "text/plain": [
       "{('b', 4): [12, 13, 14, 15, 16, 19, 20, 23]}"
      ]
     },
     "execution_count": 128,
     "metadata": {},
     "output_type": "execute_result"
    }
   ],
   "source": [
    "env_prog_nodes"
   ]
  },
  {
   "cell_type": "code",
   "execution_count": 129,
   "metadata": {},
   "outputs": [],
   "source": [
    "# Filter cycles that contain nodes that satisfy each type of progress condition\n",
    "prog_satisfying_cycles = []\n",
    "for cycle in cycles:\n",
    "    satisfies_prog_counter = 0\n",
    "    for lst in env_prog_nodes.values():\n",
    "        for node in lst:\n",
    "            if node in cycle:\n",
    "                satisfies_prog_counter += 1\n",
    "                break\n",
    "    if satisfies_prog_counter == len(env_prog_dict.values()):\n",
    "        prog_satisfying_cycles.append(cycle)"
   ]
  },
  {
   "cell_type": "code",
   "execution_count": 130,
   "metadata": {},
   "outputs": [
    {
     "data": {
      "text/plain": [
       "[frozenset({20, 22, 23, 24, 25, 26, 27, 28, 29, 30}),\n",
       " frozenset({7, 10, 13, 15, 17, 31}),\n",
       " frozenset({0, 1, 3, 5, 6, 8, 9, 11, 12, 14}),\n",
       " frozenset({2, 4, 7, 10, 13, 15, 17, 31, 33, 35}),\n",
       " frozenset({20, 22, 23, 24, 25, 26}),\n",
       " frozenset({13, 15}),\n",
       " frozenset({6, 8, 9, 11, 12, 14}),\n",
       " frozenset({20, 22, 23, 24, 25, 26, 27, 28}),\n",
       " frozenset({9, 11, 12, 14}),\n",
       " frozenset({12, 14}),\n",
       " frozenset({4, 7, 10, 13, 15, 17, 31, 33}),\n",
       " frozenset({3, 5, 6, 8, 9, 11, 12, 14}),\n",
       " frozenset({20, 22, 23, 26}),\n",
       " frozenset({10, 13, 15, 17}),\n",
       " frozenset({20, 23})]"
      ]
     },
     "execution_count": 130,
     "metadata": {},
     "output_type": "execute_result"
    }
   ],
   "source": [
    "prog_satisfying_cycles"
   ]
  },
  {
   "cell_type": "markdown",
   "metadata": {},
   "source": [
    "## See if any of these cycles can have the system leave the cycle (with no return)"
   ]
  },
  {
   "cell_type": "code",
   "execution_count": 131,
   "metadata": {},
   "outputs": [
    {
     "data": {
      "text/plain": [
       "{'b': 0,\n",
       " 'a0': True,\n",
       " 'a1': False,\n",
       " 'a3': False,\n",
       " 'a2': False,\n",
       " 'loc': 0,\n",
       " 'shape': 'oval'}"
      ]
     },
     "execution_count": 131,
     "metadata": {},
     "output_type": "execute_result"
    }
   ],
   "source": [
    "g0.nodes[0]"
   ]
  },
  {
   "cell_type": "code",
   "execution_count": 132,
   "metadata": {},
   "outputs": [
    {
     "name": "stdout",
     "output_type": "stream",
     "text": [
      "leave_counter 30\n",
      "num_cycles_left 10\n",
      "num_cycles 15\n"
     ]
    }
   ],
   "source": [
    "# see if any of these cycles can have the system leave the cycle (regardless of if it can return)\n",
    "leave_counter = 0\n",
    "num_cycles_left = 0\n",
    "for cycle in prog_satisfying_cycles:\n",
    "    cycle_left = False\n",
    "    for node in cycle:\n",
    "        # if g0.nodes[node]['shape'] != 'oval': \n",
    "        if g0.nodes[node]['shape'] == 'oval': \n",
    "            continue\n",
    "        # node is a node from which the system takes the action\n",
    "        for succ in g0.successors(node):\n",
    "            if succ not in cycle:\n",
    "                leave_counter += 1\n",
    "                cycle_left = True\n",
    "    if cycle_left:\n",
    "        num_cycles_left += 1\n",
    "print(\"leave_counter\", leave_counter)\n",
    "print(\"num_cycles_left\", num_cycles_left)\n",
    "print('num_cycles', len(prog_satisfying_cycles))"
   ]
  },
  {
   "cell_type": "markdown",
   "metadata": {},
   "source": [
    "## Remove any cycles with the system leaving"
   ]
  },
  {
   "cell_type": "code",
   "execution_count": 133,
   "metadata": {},
   "outputs": [],
   "source": [
    "# This code is very similar to the code above. Fix this later\n",
    "permanent_prog_cycles = []\n",
    "for cycle in prog_satisfying_cycles:\n",
    "    cycle_left = False\n",
    "    for node in cycle:\n",
    "        # if g0.nodes[node]['shape'] != 'oval':\n",
    "        if g0.nodes[node]['shape'] == 'oval':\n",
    "            continue\n",
    "        # node is a node from which the system takes the action\n",
    "        for succ in g0.successors(node):\n",
    "            if succ not in cycle:\n",
    "                leave_counter += 1\n",
    "                cycle_left = True\n",
    "    if cycle_left:\n",
    "        num_cycles_left += 1\n",
    "    else:\n",
    "        permanent_prog_cycles.append(cycle)"
   ]
  },
  {
   "cell_type": "code",
   "execution_count": 134,
   "metadata": {},
   "outputs": [
    {
     "data": {
      "text/plain": [
       "[frozenset({20, 22, 23, 24, 25, 26, 27, 28, 29, 30}),\n",
       " frozenset({20, 22, 23, 24, 25, 26}),\n",
       " frozenset({20, 22, 23, 24, 25, 26, 27, 28}),\n",
       " frozenset({20, 22, 23, 26}),\n",
       " frozenset({20, 23})]"
      ]
     },
     "execution_count": 134,
     "metadata": {},
     "output_type": "execute_result"
    }
   ],
   "source": [
    "permanent_prog_cycles"
   ]
  },
  {
   "cell_type": "code",
   "execution_count": 162,
   "metadata": {},
   "outputs": [],
   "source": [
    "largest_cycles = []\n",
    "for cycle in permanent_prog_cycles:\n",
    "    is_subset = False\n",
    "    for other_cycle in permanent_prog_cycles:\n",
    "        if cycle != other_cycle and cycle.issubset(other_cycle):\n",
    "            is_subset = True\n",
    "            break\n",
    "    if not is_subset:\n",
    "        largest_cycles.append(cycle)"
   ]
  },
  {
   "cell_type": "code",
   "execution_count": 163,
   "metadata": {},
   "outputs": [
    {
     "data": {
      "text/plain": [
       "[frozenset({20, 22, 23, 24, 25, 26, 27, 28, 29, 30})]"
      ]
     },
     "execution_count": 163,
     "metadata": {},
     "output_type": "execute_result"
    }
   ],
   "source": [
    "largest_cycles"
   ]
  },
  {
   "cell_type": "markdown",
   "metadata": {},
   "source": [
    "Do we acccount for the case where you enter one cycle then go into another via a path?\n",
    "I do not think we do. \n",
    "\n",
    "Do we account for the case where multiple system actions can keep us within some cycle?\n",
    "I also think no.\n",
    "\n",
    "We only find cycles in which the system action cannot leave the cycle.\n",
    "\n",
    "Need to fix."
   ]
  },
  {
   "cell_type": "markdown",
   "metadata": {},
   "source": [
    "## (Not necessary) Find all paths from the initial node to the cycles"
   ]
  },
  {
   "cell_type": "code",
   "execution_count": 37,
   "metadata": {},
   "outputs": [],
   "source": [
    "# def is_prefix(list1, list2):\n",
    "#     # Compare the elements of both lists up to the length of the shorter list\n",
    "#     min_length = min(len(list1), len(list2))\n",
    "#     for i in range(min_length):\n",
    "#         if list1[i] != list2[i]:\n",
    "#             return False\n",
    "#     return True"
   ]
  },
  {
   "cell_type": "code",
   "execution_count": 38,
   "metadata": {},
   "outputs": [],
   "source": [
    "# Find all the paths from the initial node(s) to the cycles satisfying the progress conditions\n",
    "# ASSUMPTION: g0.nodes[0] is the ONLY initial node\n",
    "# paths_to_cycle = []\n",
    "# for cycle in prog_satisfying_cycles:\n",
    "#     for node in cycle:\n",
    "#         new_paths = list(nx.all_simple_paths(g0, 0, node))\n",
    "#         # I do not want to have 2 paths, one of which is a subset of the other. \n",
    "#         # I just want the subset.\n",
    "#         for new_path in new_paths[:]:\n",
    "#             for existing_path in paths_to_cycle[:]:\n",
    "#                 if is_prefix(new_path, existing_path):\n",
    "#                     if len(new_path) < len(existing_path):\n",
    "#                         paths_to_cycle.remove(existing_path)\n",
    "#                     else:\n",
    "#                         new_paths.remove(new_path)\n",
    "#                         break\n",
    "#         paths_to_cycle += new_paths"
   ]
  },
  {
   "cell_type": "markdown",
   "metadata": {},
   "source": [
    "new problem: This does not take into account that the system may take some action \n",
    "that will take us away from one of these paths. Do we have to care?\n",
    "Yes. We want to always satisfy the liveness conditions, no matter what the system does.\n",
    "\n",
    "Should I do some winning set calculations? I can't just use the winning set \n",
    "functions because I want to use the GR1 graph that contains the actions the \n",
    "system can take that satisfy its winning condition. \n",
    "\n",
    "Okay let's say that there is a safe action that the system can take but will lead to\n",
    "the environment taking the system to a red node. Is that in our graph? No... it does not seem so.\n",
    "Wouldn't we want a hard test to find this case? Do we just assume that the system has failed at this point?\n",
    "\n",
    "okay so should we just assume the graph is ideal\n",
    "and then figure out the paths that allow the environment to satisfy its progress conditions,\n",
    "regardless of what the system does"
   ]
  },
  {
   "cell_type": "code",
   "execution_count": 39,
   "metadata": {},
   "outputs": [
    {
     "data": {
      "text/plain": [
       "17"
      ]
     },
     "execution_count": 39,
     "metadata": {},
     "output_type": "execute_result"
    }
   ],
   "source": [
    "# len(paths_to_cycle)"
   ]
  },
  {
   "cell_type": "code",
   "execution_count": 40,
   "metadata": {},
   "outputs": [
    {
     "data": {
      "text/plain": [
       "[[0, 3, 4, 33, 34, 35],\n",
       " [0, 1, 2, 11, 5, 8, 10, 13],\n",
       " [0, 3, 4, 1, 2, 11, 5, 8, 10, 13],\n",
       " [0, 3, 4, 33, 10, 13],\n",
       " [0, 3, 5, 8, 10, 13],\n",
       " [0, 1, 2, 6, 7, 31, 30, 27, 28, 24, 25, 26],\n",
       " [0, 1, 2, 6, 7, 32, 28, 24, 25, 26],\n",
       " [0, 1, 2, 11, 5, 6, 7, 31, 30, 27, 28, 24, 25, 26],\n",
       " [0, 1, 2, 11, 5, 6, 7, 32, 28, 24, 25, 26],\n",
       " [0, 3, 4, 1, 2, 6, 7, 31, 30, 27, 28, 24, 25, 26],\n",
       " [0, 3, 4, 1, 2, 6, 7, 32, 28, 24, 25, 26],\n",
       " [0, 3, 4, 1, 2, 11, 5, 6, 7, 31, 30, 27, 28, 24, 25, 26],\n",
       " [0, 3, 4, 1, 2, 11, 5, 6, 7, 32, 28, 24, 25, 26],\n",
       " [0, 3, 4, 33, 10, 11, 5, 6, 7, 31, 30, 27, 28, 24, 25, 26],\n",
       " [0, 3, 4, 33, 10, 11, 5, 6, 7, 32, 28, 24, 25, 26],\n",
       " [0, 3, 5, 6, 7, 31, 30, 27, 28, 24, 25, 26],\n",
       " [0, 3, 5, 6, 7, 32, 28, 24, 25, 26]]"
      ]
     },
     "execution_count": 40,
     "metadata": {},
     "output_type": "execute_result"
    }
   ],
   "source": [
    "# paths_to_cycle"
   ]
  },
  {
   "cell_type": "markdown",
   "metadata": {},
   "source": [
    "Should I make a graph that adds a transition from one env node to another only if all system actions from \n",
    "the env node go to the other\n",
    "\n",
    "Then, I do the same code on this\n",
    "\n",
    "Wait, I should do it on sets. Only if all system actions from the env node go to a winning set lol\n"
   ]
  },
  {
   "cell_type": "markdown",
   "metadata": {},
   "source": [
    "## Find the \"levels\" that lead to the environment progress cycles"
   ]
  },
  {
   "cell_type": "code",
   "execution_count": 164,
   "metadata": {},
   "outputs": [],
   "source": [
    "# getting the nodes in the cycles that satisfy the env progress conditions\n",
    "nodes_satisfying_prog = set()\n",
    "# for lst in prog_satisfying_cycles:\n",
    "for lst in largest_cycles:\n",
    "    nodes_satisfying_prog |= set(lst)"
   ]
  },
  {
   "cell_type": "code",
   "execution_count": 165,
   "metadata": {},
   "outputs": [
    {
     "data": {
      "text/plain": [
       "{20, 22, 23, 24, 25, 26, 27, 28, 29, 30}"
      ]
     },
     "execution_count": 165,
     "metadata": {},
     "output_type": "execute_result"
    }
   ],
   "source": [
    "nodes_satisfying_prog"
   ]
  },
  {
   "cell_type": "code",
   "execution_count": 147,
   "metadata": {},
   "outputs": [],
   "source": [
    "# calculate the \"levels\" from the env prog cycle outwards\n",
    "R = {}\n",
    "i = 0\n",
    "R[i] = nodes_satisfying_prog\n",
    "while True:\n",
    "    new_nodes = set()\n",
    "    for node in R[i]:\n",
    "        new_nodes |= set(g0.predecessors(node))\n",
    "    R[i+1] = new_nodes | R[i]\n",
    "\n",
    "    new_nodes = set()\n",
    "    for node in R[i+1]:\n",
    "        for prev in set(g0.predecessors(node)):\n",
    "            all_transitions_to_Ri1 = True\n",
    "            for trans in set(g0.successors(prev)):\n",
    "                if trans not in R[i+1]:\n",
    "                    all_transitions_to_Ri1 = False\n",
    "                    break\n",
    "            if all_transitions_to_Ri1:\n",
    "                new_nodes.add(prev)\n",
    "    R[i+2] = new_nodes | R[i+1]\n",
    "\n",
    "    if R[i+2] == R[i]:\n",
    "        R.pop(i+2)\n",
    "        R.pop(i+1)\n",
    "        break\n",
    "    else:\n",
    "        i += 2"
   ]
  },
  {
   "cell_type": "code",
   "execution_count": 166,
   "metadata": {},
   "outputs": [
    {
     "data": {
      "text/plain": [
       "True"
      ]
     },
     "execution_count": 166,
     "metadata": {},
     "output_type": "execute_result"
    }
   ],
   "source": [
    "# the initial state is in the largest \"level\" out of the env prog cycle\n",
    "# i.e. there is a path for the environment to the progress satisfying cycles,\n",
    "# regardless of the moves the system takes\n",
    "# ASSUMPTION the initial state is ONLY node 0\n",
    "0 in R[len(R)-1]"
   ]
  },
  {
   "cell_type": "markdown",
   "metadata": {},
   "source": [
    "# Start from initial state(s?) and go to the union of cycles"
   ]
  },
  {
   "cell_type": "code",
   "execution_count": null,
   "metadata": {},
   "outputs": [],
   "source": [
    "def go_to_cycles(robustness, R, g):\n",
    "    "
   ]
  },
  {
   "cell_type": "code",
   "execution_count": 3,
   "metadata": {},
   "outputs": [
    {
     "name": "stdout",
     "output_type": "stream",
     "text": [
      "\u001b[0;31mSignature:\u001b[0m \u001b[0mnx\u001b[0m\u001b[0;34m.\u001b[0m\u001b[0msimple_cycles\u001b[0m\u001b[0;34m(\u001b[0m\u001b[0mG\u001b[0m\u001b[0;34m,\u001b[0m \u001b[0mlength_bound\u001b[0m\u001b[0;34m=\u001b[0m\u001b[0;32mNone\u001b[0m\u001b[0;34m)\u001b[0m\u001b[0;34m\u001b[0m\u001b[0;34m\u001b[0m\u001b[0m\n",
      "\u001b[0;31mSource:\u001b[0m   \n",
      "\u001b[0;32mdef\u001b[0m \u001b[0msimple_cycles\u001b[0m\u001b[0;34m(\u001b[0m\u001b[0mG\u001b[0m\u001b[0;34m,\u001b[0m \u001b[0mlength_bound\u001b[0m\u001b[0;34m=\u001b[0m\u001b[0;32mNone\u001b[0m\u001b[0;34m)\u001b[0m\u001b[0;34m:\u001b[0m\u001b[0;34m\u001b[0m\n",
      "\u001b[0;34m\u001b[0m    \u001b[0;34m\"\"\"Find simple cycles (elementary circuits) of a graph.\u001b[0m\n",
      "\u001b[0;34m\u001b[0m\n",
      "\u001b[0;34m    A `simple cycle`, or `elementary circuit`, is a closed path where\u001b[0m\n",
      "\u001b[0;34m    no node appears twice.  In a directed graph, two simple cycles are distinct\u001b[0m\n",
      "\u001b[0;34m    if they are not cyclic permutations of each other.  In an undirected graph,\u001b[0m\n",
      "\u001b[0;34m    two simple cycles are distinct if they are not cyclic permutations of each\u001b[0m\n",
      "\u001b[0;34m    other nor of the other's reversal.\u001b[0m\n",
      "\u001b[0;34m\u001b[0m\n",
      "\u001b[0;34m    Optionally, the cycles are bounded in length.  In the unbounded case, we use\u001b[0m\n",
      "\u001b[0;34m    a nonrecursive, iterator/generator version of Johnson's algorithm [1]_.  In\u001b[0m\n",
      "\u001b[0;34m    the bounded case, we use a version of the algorithm of Gupta and\u001b[0m\n",
      "\u001b[0;34m    Suzumura[2]_. There may be better algorithms for some cases [3]_ [4]_ [5]_.\u001b[0m\n",
      "\u001b[0;34m\u001b[0m\n",
      "\u001b[0;34m    The algorithms of Johnson, and Gupta and Suzumura, are enhanced by some\u001b[0m\n",
      "\u001b[0;34m    well-known preprocessing techniques.  When G is directed, we restrict our\u001b[0m\n",
      "\u001b[0;34m    attention to strongly connected components of G, generate all simple cycles\u001b[0m\n",
      "\u001b[0;34m    containing a certain node, remove that node, and further decompose the\u001b[0m\n",
      "\u001b[0;34m    remainder into strongly connected components.  When G is undirected, we\u001b[0m\n",
      "\u001b[0;34m    restrict our attention to biconnected components, generate all simple cycles\u001b[0m\n",
      "\u001b[0;34m    containing a particular edge, remove that edge, and further decompose the\u001b[0m\n",
      "\u001b[0;34m    remainder into biconnected components.\u001b[0m\n",
      "\u001b[0;34m\u001b[0m\n",
      "\u001b[0;34m    Note that multigraphs are supported by this function -- and in undirected\u001b[0m\n",
      "\u001b[0;34m    multigraphs, a pair of parallel edges is considered a cycle of length 2.\u001b[0m\n",
      "\u001b[0;34m    Likewise, self-loops are considered to be cycles of length 1.  We define\u001b[0m\n",
      "\u001b[0;34m    cycles as sequences of nodes; so the presence of loops and parallel edges\u001b[0m\n",
      "\u001b[0;34m    does not change the number of simple cycles in a graph.\u001b[0m\n",
      "\u001b[0;34m\u001b[0m\n",
      "\u001b[0;34m    Parameters\u001b[0m\n",
      "\u001b[0;34m    ----------\u001b[0m\n",
      "\u001b[0;34m    G : NetworkX DiGraph\u001b[0m\n",
      "\u001b[0;34m       A directed graph\u001b[0m\n",
      "\u001b[0;34m\u001b[0m\n",
      "\u001b[0;34m    length_bound : int or None, optional (default=None)\u001b[0m\n",
      "\u001b[0;34m       If length_bound is an int, generate all simple cycles of G with length at\u001b[0m\n",
      "\u001b[0;34m       most length_bound.  Otherwise, generate all simple cycles of G.\u001b[0m\n",
      "\u001b[0;34m\u001b[0m\n",
      "\u001b[0;34m    Yields\u001b[0m\n",
      "\u001b[0;34m    ------\u001b[0m\n",
      "\u001b[0;34m    list of nodes\u001b[0m\n",
      "\u001b[0;34m       Each cycle is represented by a list of nodes along the cycle.\u001b[0m\n",
      "\u001b[0;34m\u001b[0m\n",
      "\u001b[0;34m    Examples\u001b[0m\n",
      "\u001b[0;34m    --------\u001b[0m\n",
      "\u001b[0;34m    >>> edges = [(0, 0), (0, 1), (0, 2), (1, 2), (2, 0), (2, 1), (2, 2)]\u001b[0m\n",
      "\u001b[0;34m    >>> G = nx.DiGraph(edges)\u001b[0m\n",
      "\u001b[0;34m    >>> sorted(nx.simple_cycles(G))\u001b[0m\n",
      "\u001b[0;34m    [[0], [0, 1, 2], [0, 2], [1, 2], [2]]\u001b[0m\n",
      "\u001b[0;34m\u001b[0m\n",
      "\u001b[0;34m    To filter the cycles so that they don't include certain nodes or edges,\u001b[0m\n",
      "\u001b[0;34m    copy your graph and eliminate those nodes or edges before calling.\u001b[0m\n",
      "\u001b[0;34m    For example, to exclude self-loops from the above example:\u001b[0m\n",
      "\u001b[0;34m\u001b[0m\n",
      "\u001b[0;34m    >>> H = G.copy()\u001b[0m\n",
      "\u001b[0;34m    >>> H.remove_edges_from(nx.selfloop_edges(G))\u001b[0m\n",
      "\u001b[0;34m    >>> sorted(nx.simple_cycles(H))\u001b[0m\n",
      "\u001b[0;34m    [[0, 1, 2], [0, 2], [1, 2]]\u001b[0m\n",
      "\u001b[0;34m\u001b[0m\n",
      "\u001b[0;34m    Notes\u001b[0m\n",
      "\u001b[0;34m    -----\u001b[0m\n",
      "\u001b[0;34m    When length_bound is None, the time complexity is $O((n+e)(c+1))$ for $n$\u001b[0m\n",
      "\u001b[0;34m    nodes, $e$ edges and $c$ simple circuits.  Otherwise, when length_bound > 1,\u001b[0m\n",
      "\u001b[0;34m    the time complexity is $O((c+n)(k-1)d^k)$ where $d$ is the average degree of\u001b[0m\n",
      "\u001b[0;34m    the nodes of G and $k$ = length_bound.\u001b[0m\n",
      "\u001b[0;34m\u001b[0m\n",
      "\u001b[0;34m    Raises\u001b[0m\n",
      "\u001b[0;34m    ------\u001b[0m\n",
      "\u001b[0;34m    ValueError\u001b[0m\n",
      "\u001b[0;34m        when length_bound < 0.\u001b[0m\n",
      "\u001b[0;34m\u001b[0m\n",
      "\u001b[0;34m    References\u001b[0m\n",
      "\u001b[0;34m    ----------\u001b[0m\n",
      "\u001b[0;34m    .. [1] Finding all the elementary circuits of a directed graph.\u001b[0m\n",
      "\u001b[0;34m       D. B. Johnson, SIAM Journal on Computing 4, no. 1, 77-84, 1975.\u001b[0m\n",
      "\u001b[0;34m       https://doi.org/10.1137/0204007\u001b[0m\n",
      "\u001b[0;34m    .. [2] Finding All Bounded-Length Simple Cycles in a Directed Graph\u001b[0m\n",
      "\u001b[0;34m       A. Gupta and T. Suzumura https://arxiv.org/abs/2105.10094\u001b[0m\n",
      "\u001b[0;34m    .. [3] Enumerating the cycles of a digraph: a new preprocessing strategy.\u001b[0m\n",
      "\u001b[0;34m       G. Loizou and P. Thanish, Information Sciences, v. 27, 163-182, 1982.\u001b[0m\n",
      "\u001b[0;34m    .. [4] A search strategy for the elementary cycles of a directed graph.\u001b[0m\n",
      "\u001b[0;34m       J.L. Szwarcfiter and P.E. Lauer, BIT NUMERICAL MATHEMATICS,\u001b[0m\n",
      "\u001b[0;34m       v. 16, no. 2, 192-204, 1976.\u001b[0m\n",
      "\u001b[0;34m    .. [5] Optimal Listing of Cycles and st-Paths in Undirected Graphs\u001b[0m\n",
      "\u001b[0;34m        R. Ferreira and R. Grossi and A. Marino and N. Pisanti and R. Rizzi and\u001b[0m\n",
      "\u001b[0;34m        G. Sacomoto https://arxiv.org/abs/1205.2766\u001b[0m\n",
      "\u001b[0;34m\u001b[0m\n",
      "\u001b[0;34m    See Also\u001b[0m\n",
      "\u001b[0;34m    --------\u001b[0m\n",
      "\u001b[0;34m    cycle_basis\u001b[0m\n",
      "\u001b[0;34m    chordless_cycles\u001b[0m\n",
      "\u001b[0;34m    \"\"\"\u001b[0m\u001b[0;34m\u001b[0m\n",
      "\u001b[0;34m\u001b[0m\u001b[0;34m\u001b[0m\n",
      "\u001b[0;34m\u001b[0m    \u001b[0;32mif\u001b[0m \u001b[0mlength_bound\u001b[0m \u001b[0;32mis\u001b[0m \u001b[0;32mnot\u001b[0m \u001b[0;32mNone\u001b[0m\u001b[0;34m:\u001b[0m\u001b[0;34m\u001b[0m\n",
      "\u001b[0;34m\u001b[0m        \u001b[0;32mif\u001b[0m \u001b[0mlength_bound\u001b[0m \u001b[0;34m==\u001b[0m \u001b[0;36m0\u001b[0m\u001b[0;34m:\u001b[0m\u001b[0;34m\u001b[0m\n",
      "\u001b[0;34m\u001b[0m            \u001b[0;32mreturn\u001b[0m\u001b[0;34m\u001b[0m\n",
      "\u001b[0;34m\u001b[0m        \u001b[0;32melif\u001b[0m \u001b[0mlength_bound\u001b[0m \u001b[0;34m<\u001b[0m \u001b[0;36m0\u001b[0m\u001b[0;34m:\u001b[0m\u001b[0;34m\u001b[0m\n",
      "\u001b[0;34m\u001b[0m            \u001b[0;32mraise\u001b[0m \u001b[0mValueError\u001b[0m\u001b[0;34m(\u001b[0m\u001b[0;34m\"length bound must be non-negative\"\u001b[0m\u001b[0;34m)\u001b[0m\u001b[0;34m\u001b[0m\n",
      "\u001b[0;34m\u001b[0m\u001b[0;34m\u001b[0m\n",
      "\u001b[0;34m\u001b[0m    \u001b[0mdirected\u001b[0m \u001b[0;34m=\u001b[0m \u001b[0mG\u001b[0m\u001b[0;34m.\u001b[0m\u001b[0mis_directed\u001b[0m\u001b[0;34m(\u001b[0m\u001b[0;34m)\u001b[0m\u001b[0;34m\u001b[0m\n",
      "\u001b[0;34m\u001b[0m    \u001b[0;32myield\u001b[0m \u001b[0;32mfrom\u001b[0m \u001b[0;34m(\u001b[0m\u001b[0;34m[\u001b[0m\u001b[0mv\u001b[0m\u001b[0;34m]\u001b[0m \u001b[0;32mfor\u001b[0m \u001b[0mv\u001b[0m\u001b[0;34m,\u001b[0m \u001b[0mGv\u001b[0m \u001b[0;32min\u001b[0m \u001b[0mG\u001b[0m\u001b[0;34m.\u001b[0m\u001b[0madj\u001b[0m\u001b[0;34m.\u001b[0m\u001b[0mitems\u001b[0m\u001b[0;34m(\u001b[0m\u001b[0;34m)\u001b[0m \u001b[0;32mif\u001b[0m \u001b[0mv\u001b[0m \u001b[0;32min\u001b[0m \u001b[0mGv\u001b[0m\u001b[0;34m)\u001b[0m\u001b[0;34m\u001b[0m\n",
      "\u001b[0;34m\u001b[0m\u001b[0;34m\u001b[0m\n",
      "\u001b[0;34m\u001b[0m    \u001b[0;32mif\u001b[0m \u001b[0mlength_bound\u001b[0m \u001b[0;32mis\u001b[0m \u001b[0;32mnot\u001b[0m \u001b[0;32mNone\u001b[0m \u001b[0;32mand\u001b[0m \u001b[0mlength_bound\u001b[0m \u001b[0;34m==\u001b[0m \u001b[0;36m1\u001b[0m\u001b[0;34m:\u001b[0m\u001b[0;34m\u001b[0m\n",
      "\u001b[0;34m\u001b[0m        \u001b[0;32mreturn\u001b[0m\u001b[0;34m\u001b[0m\n",
      "\u001b[0;34m\u001b[0m\u001b[0;34m\u001b[0m\n",
      "\u001b[0;34m\u001b[0m    \u001b[0;32mif\u001b[0m \u001b[0mG\u001b[0m\u001b[0;34m.\u001b[0m\u001b[0mis_multigraph\u001b[0m\u001b[0;34m(\u001b[0m\u001b[0;34m)\u001b[0m \u001b[0;32mand\u001b[0m \u001b[0;32mnot\u001b[0m \u001b[0mdirected\u001b[0m\u001b[0;34m:\u001b[0m\u001b[0;34m\u001b[0m\n",
      "\u001b[0;34m\u001b[0m        \u001b[0mvisited\u001b[0m \u001b[0;34m=\u001b[0m \u001b[0mset\u001b[0m\u001b[0;34m(\u001b[0m\u001b[0;34m)\u001b[0m\u001b[0;34m\u001b[0m\n",
      "\u001b[0;34m\u001b[0m        \u001b[0;32mfor\u001b[0m \u001b[0mu\u001b[0m\u001b[0;34m,\u001b[0m \u001b[0mGu\u001b[0m \u001b[0;32min\u001b[0m \u001b[0mG\u001b[0m\u001b[0;34m.\u001b[0m\u001b[0madj\u001b[0m\u001b[0;34m.\u001b[0m\u001b[0mitems\u001b[0m\u001b[0;34m(\u001b[0m\u001b[0;34m)\u001b[0m\u001b[0;34m:\u001b[0m\u001b[0;34m\u001b[0m\n",
      "\u001b[0;34m\u001b[0m            \u001b[0mmultiplicity\u001b[0m \u001b[0;34m=\u001b[0m \u001b[0;34m(\u001b[0m\u001b[0;34m(\u001b[0m\u001b[0mv\u001b[0m\u001b[0;34m,\u001b[0m \u001b[0mlen\u001b[0m\u001b[0;34m(\u001b[0m\u001b[0mGuv\u001b[0m\u001b[0;34m)\u001b[0m\u001b[0;34m)\u001b[0m \u001b[0;32mfor\u001b[0m \u001b[0mv\u001b[0m\u001b[0;34m,\u001b[0m \u001b[0mGuv\u001b[0m \u001b[0;32min\u001b[0m \u001b[0mGu\u001b[0m\u001b[0;34m.\u001b[0m\u001b[0mitems\u001b[0m\u001b[0;34m(\u001b[0m\u001b[0;34m)\u001b[0m \u001b[0;32mif\u001b[0m \u001b[0mv\u001b[0m \u001b[0;32min\u001b[0m \u001b[0mvisited\u001b[0m\u001b[0;34m)\u001b[0m\u001b[0;34m\u001b[0m\n",
      "\u001b[0;34m\u001b[0m            \u001b[0;32myield\u001b[0m \u001b[0;32mfrom\u001b[0m \u001b[0;34m(\u001b[0m\u001b[0;34m[\u001b[0m\u001b[0mu\u001b[0m\u001b[0;34m,\u001b[0m \u001b[0mv\u001b[0m\u001b[0;34m]\u001b[0m \u001b[0;32mfor\u001b[0m \u001b[0mv\u001b[0m\u001b[0;34m,\u001b[0m \u001b[0mm\u001b[0m \u001b[0;32min\u001b[0m \u001b[0mmultiplicity\u001b[0m \u001b[0;32mif\u001b[0m \u001b[0mm\u001b[0m \u001b[0;34m>\u001b[0m \u001b[0;36m1\u001b[0m\u001b[0;34m)\u001b[0m\u001b[0;34m\u001b[0m\n",
      "\u001b[0;34m\u001b[0m            \u001b[0mvisited\u001b[0m\u001b[0;34m.\u001b[0m\u001b[0madd\u001b[0m\u001b[0;34m(\u001b[0m\u001b[0mu\u001b[0m\u001b[0;34m)\u001b[0m\u001b[0;34m\u001b[0m\n",
      "\u001b[0;34m\u001b[0m\u001b[0;34m\u001b[0m\n",
      "\u001b[0;34m\u001b[0m    \u001b[0;31m# explicitly filter out loops; implicitly filter out parallel edges\u001b[0m\u001b[0;34m\u001b[0m\n",
      "\u001b[0;34m\u001b[0m    \u001b[0;32mif\u001b[0m \u001b[0mdirected\u001b[0m\u001b[0;34m:\u001b[0m\u001b[0;34m\u001b[0m\n",
      "\u001b[0;34m\u001b[0m        \u001b[0mG\u001b[0m \u001b[0;34m=\u001b[0m \u001b[0mnx\u001b[0m\u001b[0;34m.\u001b[0m\u001b[0mDiGraph\u001b[0m\u001b[0;34m(\u001b[0m\u001b[0;34m(\u001b[0m\u001b[0mu\u001b[0m\u001b[0;34m,\u001b[0m \u001b[0mv\u001b[0m\u001b[0;34m)\u001b[0m \u001b[0;32mfor\u001b[0m \u001b[0mu\u001b[0m\u001b[0;34m,\u001b[0m \u001b[0mGu\u001b[0m \u001b[0;32min\u001b[0m \u001b[0mG\u001b[0m\u001b[0;34m.\u001b[0m\u001b[0madj\u001b[0m\u001b[0;34m.\u001b[0m\u001b[0mitems\u001b[0m\u001b[0;34m(\u001b[0m\u001b[0;34m)\u001b[0m \u001b[0;32mfor\u001b[0m \u001b[0mv\u001b[0m \u001b[0;32min\u001b[0m \u001b[0mGu\u001b[0m \u001b[0;32mif\u001b[0m \u001b[0mv\u001b[0m \u001b[0;34m!=\u001b[0m \u001b[0mu\u001b[0m\u001b[0;34m)\u001b[0m\u001b[0;34m\u001b[0m\n",
      "\u001b[0;34m\u001b[0m    \u001b[0;32melse\u001b[0m\u001b[0;34m:\u001b[0m\u001b[0;34m\u001b[0m\n",
      "\u001b[0;34m\u001b[0m        \u001b[0mG\u001b[0m \u001b[0;34m=\u001b[0m \u001b[0mnx\u001b[0m\u001b[0;34m.\u001b[0m\u001b[0mGraph\u001b[0m\u001b[0;34m(\u001b[0m\u001b[0;34m(\u001b[0m\u001b[0mu\u001b[0m\u001b[0;34m,\u001b[0m \u001b[0mv\u001b[0m\u001b[0;34m)\u001b[0m \u001b[0;32mfor\u001b[0m \u001b[0mu\u001b[0m\u001b[0;34m,\u001b[0m \u001b[0mGu\u001b[0m \u001b[0;32min\u001b[0m \u001b[0mG\u001b[0m\u001b[0;34m.\u001b[0m\u001b[0madj\u001b[0m\u001b[0;34m.\u001b[0m\u001b[0mitems\u001b[0m\u001b[0;34m(\u001b[0m\u001b[0;34m)\u001b[0m \u001b[0;32mfor\u001b[0m \u001b[0mv\u001b[0m \u001b[0;32min\u001b[0m \u001b[0mGu\u001b[0m \u001b[0;32mif\u001b[0m \u001b[0mv\u001b[0m \u001b[0;34m!=\u001b[0m \u001b[0mu\u001b[0m\u001b[0;34m)\u001b[0m\u001b[0;34m\u001b[0m\n",
      "\u001b[0;34m\u001b[0m\u001b[0;34m\u001b[0m\n",
      "\u001b[0;34m\u001b[0m    \u001b[0;31m# this case is not strictly necessary but improves performance\u001b[0m\u001b[0;34m\u001b[0m\n",
      "\u001b[0;34m\u001b[0m    \u001b[0;32mif\u001b[0m \u001b[0mlength_bound\u001b[0m \u001b[0;32mis\u001b[0m \u001b[0;32mnot\u001b[0m \u001b[0;32mNone\u001b[0m \u001b[0;32mand\u001b[0m \u001b[0mlength_bound\u001b[0m \u001b[0;34m==\u001b[0m \u001b[0;36m2\u001b[0m\u001b[0;34m:\u001b[0m\u001b[0;34m\u001b[0m\n",
      "\u001b[0;34m\u001b[0m        \u001b[0;32mif\u001b[0m \u001b[0mdirected\u001b[0m\u001b[0;34m:\u001b[0m\u001b[0;34m\u001b[0m\n",
      "\u001b[0;34m\u001b[0m            \u001b[0mvisited\u001b[0m \u001b[0;34m=\u001b[0m \u001b[0mset\u001b[0m\u001b[0;34m(\u001b[0m\u001b[0;34m)\u001b[0m\u001b[0;34m\u001b[0m\n",
      "\u001b[0;34m\u001b[0m            \u001b[0;32mfor\u001b[0m \u001b[0mu\u001b[0m\u001b[0;34m,\u001b[0m \u001b[0mGu\u001b[0m \u001b[0;32min\u001b[0m \u001b[0mG\u001b[0m\u001b[0;34m.\u001b[0m\u001b[0madj\u001b[0m\u001b[0;34m.\u001b[0m\u001b[0mitems\u001b[0m\u001b[0;34m(\u001b[0m\u001b[0;34m)\u001b[0m\u001b[0;34m:\u001b[0m\u001b[0;34m\u001b[0m\n",
      "\u001b[0;34m\u001b[0m                \u001b[0;32myield\u001b[0m \u001b[0;32mfrom\u001b[0m \u001b[0;34m(\u001b[0m\u001b[0;34m\u001b[0m\n",
      "\u001b[0;34m\u001b[0m                    \u001b[0;34m[\u001b[0m\u001b[0mv\u001b[0m\u001b[0;34m,\u001b[0m \u001b[0mu\u001b[0m\u001b[0;34m]\u001b[0m \u001b[0;32mfor\u001b[0m \u001b[0mv\u001b[0m \u001b[0;32min\u001b[0m \u001b[0mvisited\u001b[0m\u001b[0;34m.\u001b[0m\u001b[0mintersection\u001b[0m\u001b[0;34m(\u001b[0m\u001b[0mGu\u001b[0m\u001b[0;34m)\u001b[0m \u001b[0;32mif\u001b[0m \u001b[0mG\u001b[0m\u001b[0;34m.\u001b[0m\u001b[0mhas_edge\u001b[0m\u001b[0;34m(\u001b[0m\u001b[0mv\u001b[0m\u001b[0;34m,\u001b[0m \u001b[0mu\u001b[0m\u001b[0;34m)\u001b[0m\u001b[0;34m\u001b[0m\n",
      "\u001b[0;34m\u001b[0m                \u001b[0;34m)\u001b[0m\u001b[0;34m\u001b[0m\n",
      "\u001b[0;34m\u001b[0m                \u001b[0mvisited\u001b[0m\u001b[0;34m.\u001b[0m\u001b[0madd\u001b[0m\u001b[0;34m(\u001b[0m\u001b[0mu\u001b[0m\u001b[0;34m)\u001b[0m\u001b[0;34m\u001b[0m\n",
      "\u001b[0;34m\u001b[0m        \u001b[0;32mreturn\u001b[0m\u001b[0;34m\u001b[0m\n",
      "\u001b[0;34m\u001b[0m\u001b[0;34m\u001b[0m\n",
      "\u001b[0;34m\u001b[0m    \u001b[0;32mif\u001b[0m \u001b[0mdirected\u001b[0m\u001b[0;34m:\u001b[0m\u001b[0;34m\u001b[0m\n",
      "\u001b[0;34m\u001b[0m        \u001b[0;32myield\u001b[0m \u001b[0;32mfrom\u001b[0m \u001b[0m_directed_cycle_search\u001b[0m\u001b[0;34m(\u001b[0m\u001b[0mG\u001b[0m\u001b[0;34m,\u001b[0m \u001b[0mlength_bound\u001b[0m\u001b[0;34m)\u001b[0m\u001b[0;34m\u001b[0m\n",
      "\u001b[0;34m\u001b[0m    \u001b[0;32melse\u001b[0m\u001b[0;34m:\u001b[0m\u001b[0;34m\u001b[0m\n",
      "\u001b[0;34m\u001b[0m        \u001b[0;32myield\u001b[0m \u001b[0;32mfrom\u001b[0m \u001b[0m_undirected_cycle_search\u001b[0m\u001b[0;34m(\u001b[0m\u001b[0mG\u001b[0m\u001b[0;34m,\u001b[0m \u001b[0mlength_bound\u001b[0m\u001b[0;34m)\u001b[0m\u001b[0;34m\u001b[0m\u001b[0;34m\u001b[0m\u001b[0m\n",
      "\u001b[0;31mFile:\u001b[0m      ~/Desktop/Caltech/SURF2023/env/lib/python3.8/site-packages/networkx/algorithms/cycles.py\n",
      "\u001b[0;31mType:\u001b[0m      function"
     ]
    }
   ],
   "source": [
    "??nx.simple_cycles"
   ]
  },
  {
   "cell_type": "code",
   "execution_count": 2,
   "metadata": {},
   "outputs": [
    {
     "data": {
      "text/plain": [
       "'3.1'"
      ]
     },
     "execution_count": 2,
     "metadata": {},
     "output_type": "execute_result"
    }
   ],
   "source": [
    "nx.__version__"
   ]
  },
  {
   "cell_type": "code",
   "execution_count": 7,
   "metadata": {},
   "outputs": [
    {
     "name": "stdout",
     "output_type": "stream",
     "text": [
      "Requirement already satisfied: networkx in /Users/kimiahassibi/Desktop/Caltech/SURF2023/env/lib/python3.8/site-packages (3.1)\n"
     ]
    }
   ],
   "source": [
    "import sys\n",
    "!{sys.executable} -m pip install --upgrade networkx"
   ]
  },
  {
   "cell_type": "code",
   "execution_count": 6,
   "metadata": {},
   "outputs": [
    {
     "name": "stdout",
     "output_type": "stream",
     "text": [
      "Requirement already satisfied: pip in /Users/kimiahassibi/Desktop/Caltech/SURF2023/env/lib/python3.8/site-packages (23.2)\n",
      "Collecting pip\n",
      "  Obtaining dependency information for pip from https://files.pythonhosted.org/packages/8a/6a/19e9fe04fca059ccf770861c7d5721ab4c2aebc539889e97c7977528a53b/pip-24.0-py3-none-any.whl.metadata\n",
      "  Downloading pip-24.0-py3-none-any.whl.metadata (3.6 kB)\n",
      "Downloading pip-24.0-py3-none-any.whl (2.1 MB)\n",
      "\u001b[2K   \u001b[90m━━━━━━━━━━━━━━━━━━━━━━━━━━━━━━━━━━━━━━━━\u001b[0m \u001b[32m2.1/2.1 MB\u001b[0m \u001b[31m14.9 MB/s\u001b[0m eta \u001b[36m0:00:00\u001b[0m00:01\u001b[0m00:01\u001b[0m\n",
      "\u001b[?25hInstalling collected packages: pip\n",
      "  Attempting uninstall: pip\n",
      "    Found existing installation: pip 23.2\n",
      "    Uninstalling pip-23.2:\n",
      "      Successfully uninstalled pip-23.2\n",
      "Successfully installed pip-24.0\n"
     ]
    }
   ],
   "source": [
    "!{sys.executable} -m pip install --upgrade pip"
   ]
  },
  {
   "cell_type": "code",
   "execution_count": 4,
   "metadata": {},
   "outputs": [
    {
     "name": "stdout",
     "output_type": "stream",
     "text": [
      "3.8.16 (default, Mar  1 2023, 21:19:10) \n",
      "[Clang 14.0.6 ]\n"
     ]
    }
   ],
   "source": [
    "import sys\n",
    "print(sys.version)"
   ]
  },
  {
   "cell_type": "code",
   "execution_count": 1,
   "metadata": {},
   "outputs": [
    {
     "data": {
      "text/plain": [
       "False"
      ]
     },
     "execution_count": 1,
     "metadata": {},
     "output_type": "execute_result"
    }
   ],
   "source": [
    "{1,2,3}.issubset({1,2})"
   ]
  },
  {
   "cell_type": "code",
   "execution_count": 2,
   "metadata": {},
   "outputs": [
    {
     "data": {
      "text/plain": [
       "True"
      ]
     },
     "execution_count": 2,
     "metadata": {},
     "output_type": "execute_result"
    }
   ],
   "source": [
    "{1,2}.issubset({1,2,3})"
   ]
  },
  {
   "cell_type": "code",
   "execution_count": 3,
   "metadata": {},
   "outputs": [
    {
     "data": {
      "text/plain": [
       "True"
      ]
     },
     "execution_count": 3,
     "metadata": {},
     "output_type": "execute_result"
    }
   ],
   "source": [
    "{1,2,3}.issubset({1,2,3})"
   ]
  },
  {
   "cell_type": "code",
   "execution_count": 15,
   "metadata": {},
   "outputs": [],
   "source": [
    "a = {frozenset({1,2}),frozenset({4,2})}\n",
    "b = a.copy()"
   ]
  },
  {
   "cell_type": "code",
   "execution_count": 16,
   "metadata": {},
   "outputs": [],
   "source": [
    "b.remove(frozenset({1,2}))"
   ]
  },
  {
   "cell_type": "code",
   "execution_count": 17,
   "metadata": {},
   "outputs": [
    {
     "data": {
      "text/plain": [
       "{frozenset({2, 4})}"
      ]
     },
     "execution_count": 17,
     "metadata": {},
     "output_type": "execute_result"
    }
   ],
   "source": [
    "b"
   ]
  },
  {
   "cell_type": "code",
   "execution_count": 18,
   "metadata": {},
   "outputs": [
    {
     "ename": "KeyError",
     "evalue": "frozenset({1, 2})",
     "output_type": "error",
     "traceback": [
      "\u001b[0;31m---------------------------------------------------------------------------\u001b[0m",
      "\u001b[0;31mKeyError\u001b[0m                                  Traceback (most recent call last)",
      "Cell \u001b[0;32mIn[18], line 1\u001b[0m\n\u001b[0;32m----> 1\u001b[0m \u001b[43mb\u001b[49m\u001b[38;5;241;43m.\u001b[39;49m\u001b[43mremove\u001b[49m\u001b[43m(\u001b[49m\u001b[38;5;28;43mfrozenset\u001b[39;49m\u001b[43m(\u001b[49m\u001b[43m{\u001b[49m\u001b[38;5;241;43m1\u001b[39;49m\u001b[43m,\u001b[49m\u001b[38;5;241;43m2\u001b[39;49m\u001b[43m}\u001b[49m\u001b[43m)\u001b[49m\u001b[43m)\u001b[49m\n",
      "\u001b[0;31mKeyError\u001b[0m: frozenset({1, 2})"
     ]
    }
   ],
   "source": [
    "b.remove(frozenset({1,2}))"
   ]
  },
  {
   "cell_type": "code",
   "execution_count": 21,
   "metadata": {},
   "outputs": [
    {
     "data": {
      "text/plain": [
       "{2, 3}"
      ]
     },
     "execution_count": 21,
     "metadata": {},
     "output_type": "execute_result"
    }
   ],
   "source": [
    "{1,2,3}.intersection({4,2,3})"
   ]
  },
  {
   "cell_type": "code",
   "execution_count": null,
   "metadata": {},
   "outputs": [],
   "source": []
  }
 ],
 "metadata": {
  "kernelspec": {
   "display_name": "env",
   "language": "python",
   "name": "python3"
  },
  "language_info": {
   "codemirror_mode": {
    "name": "ipython",
    "version": 3
   },
   "file_extension": ".py",
   "mimetype": "text/x-python",
   "name": "python",
   "nbconvert_exporter": "python",
   "pygments_lexer": "ipython3",
   "version": "3.8.16"
  }
 },
 "nbformat": 4,
 "nbformat_minor": 2
}
