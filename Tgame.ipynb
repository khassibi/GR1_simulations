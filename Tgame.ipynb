{
 "cells": [
  {
   "cell_type": "code",
   "execution_count": 1,
   "metadata": {},
   "outputs": [
    {
     "name": "stderr",
     "output_type": "stream",
     "text": [
      "`omega.symbolic.symbolic` failed to import `dd.cudd`.\n",
      "Will use `dd.autoref`.\n",
      "/Users/kimiahassibi/Desktop/Caltech/SURF2023/env/lib/python3.8/site-packages/tulip-1.4.0-py3.8.egg/tulip/transys/mathset.py:719: SyntaxWarning: \"is\" with a literal. Did you mean \"==\"?\n",
      "/Users/kimiahassibi/Desktop/Caltech/SURF2023/env/lib/python3.8/site-packages/tulip-1.4.0-py3.8.egg/tulip/transys/mathset.py:719: SyntaxWarning: \"is\" with a literal. Did you mean \"==\"?\n",
      "/Users/kimiahassibi/Desktop/Caltech/SURF2023/env/lib/python3.8/site-packages/tulip-1.4.0-py3.8.egg/tulip/transys/labeled_graphs.py:1218: SyntaxWarning: \"is\" with a literal. Did you mean \"==\"?\n",
      "/Users/kimiahassibi/Desktop/Caltech/SURF2023/env/lib/python3.8/site-packages/tulip-1.4.0-py3.8.egg/tulip/transys/labeled_graphs.py:1226: SyntaxWarning: \"is\" with a literal. Did you mean \"==\"?\n",
      "/Users/kimiahassibi/Desktop/Caltech/SURF2023/env/lib/python3.8/site-packages/tulip-1.4.0-py3.8.egg/tulip/transys/labeled_graphs.py:1218: SyntaxWarning: \"is\" with a literal. Did you mean \"==\"?\n",
      "/Users/kimiahassibi/Desktop/Caltech/SURF2023/env/lib/python3.8/site-packages/tulip-1.4.0-py3.8.egg/tulip/transys/labeled_graphs.py:1226: SyntaxWarning: \"is\" with a literal. Did you mean \"==\"?\n",
      "/Users/kimiahassibi/Desktop/Caltech/SURF2023/env/lib/python3.8/site-packages/tulip-1.4.0-py3.8.egg/tulip/transys/transys.py:765: SyntaxWarning: \"is not\" with a literal. Did you mean \"!=\"?\n",
      "/Users/kimiahassibi/Desktop/Caltech/SURF2023/env/lib/python3.8/site-packages/tulip-1.4.0-py3.8.egg/tulip/transys/transys.py:765: SyntaxWarning: \"is not\" with a literal. Did you mean \"!=\"?\n",
      "/Users/kimiahassibi/Desktop/Caltech/SURF2023/env/lib/python3.8/site-packages/tulip-1.4.0-py3.8.egg/tulip/synth.py:161: SyntaxWarning: \"is\" with a literal. Did you mean \"==\"?\n",
      "/Users/kimiahassibi/Desktop/Caltech/SURF2023/env/lib/python3.8/site-packages/tulip-1.4.0-py3.8.egg/tulip/synth.py:161: SyntaxWarning: \"is\" with a literal. Did you mean \"==\"?\n"
     ]
    }
   ],
   "source": [
    "import tulip as tlp\n",
    "from tulip.interfaces import omega as omega_int\n",
    "from tulip import transys, abstract, spec, synth\n",
    "from visualization import graph_builder as gb\n",
    "import networkx as nx\n",
    "from tulip.transys import machines\n",
    "from GR1_defaults import settings\n",
    "\n",
    "from tulip import dumpsmach\n",
    "import pickle\n",
    "\n",
    "from omega.games import enumeration as enum"
   ]
  },
  {
   "cell_type": "code",
   "execution_count": 2,
   "metadata": {},
   "outputs": [],
   "source": [
    "path = 'Tgame/'"
   ]
  },
  {
   "cell_type": "code",
   "execution_count": 3,
   "metadata": {},
   "outputs": [],
   "source": [
    "# System definition\n",
    "sys = tlp.transys.FTS()\n",
    "\n",
    "sys.atomic_propositions.add_from({'a0', 'a1', 'a2', 'a3'})\n",
    "sys.states.add('c0', ap={'a0'})\n",
    "sys.states.add('c1', ap={'a1'})\n",
    "sys.states.add('c2', ap={'a2'})\n",
    "sys.states.add('c3', ap={'a3'})\n",
    "sys.states.initial.add('c0')    # start in state c0\n",
    "\n",
    "sys.transitions.add_comb({'c0'}, {'c0', 'c1'})\n",
    "sys.transitions.add_comb({'c1'}, {'c1', 'c2'})\n",
    "# sys.transitions.add_comb({'c1'}, {'c0', 'c1', 'c2'})\n",
    "sys.transitions.add_comb({'c2'}, {'c2', 'c3'})\n",
    "# sys.transitions.add_comb({'c2'}, {'c1', 'c2', 'c3'})\n",
    "sys.transitions.add_comb({'c3'}, {'c3'})\n",
    "# sys.transitions.add_comb({'c3'}, {'c2', 'c3'})"
   ]
  },
  {
   "cell_type": "code",
   "execution_count": 4,
   "metadata": {},
   "outputs": [],
   "source": [
    "# Variables\n",
    "env_vars = {'b': (0, 4)}\n",
    "sys_vars = {}"
   ]
  },
  {
   "cell_type": "code",
   "execution_count": 5,
   "metadata": {},
   "outputs": [],
   "source": [
    "# Initialization\n",
    "env_init = {'b = 0'}\n",
    "sys_init = {}"
   ]
  },
  {
   "cell_type": "code",
   "execution_count": 6,
   "metadata": {},
   "outputs": [],
   "source": [
    "# Safety\n",
    "env_safe = {\n",
    "    # Movement\n",
    "    'b = 0 -> next(b) = 0 | next(b) = 1',\n",
    "    'b = 1 -> next(b) = 1 | next(b) = 0 | next(b) = 2',\n",
    "    'b = 2 -> next(b) = 2 | next(b) = 1 | next(b) = 3',\n",
    "    'b = 3 -> next(b) = 3 | next(b) = 2 | next(b) = 4',\n",
    "    'b = 4 -> next(b) = 4 | next(b) = 3',\n",
    "}\n",
    "sys_safe = {\n",
    "    # No collision\n",
    "    '!(a2 & b = 2)',\n",
    "    # No being collided into\n",
    "    # Commenting this out means that we are considering the game as having simultaneous updates\n",
    "    '!(a2 & X(b = 2))'\n",
    "}"
   ]
  },
  {
   "cell_type": "code",
   "execution_count": 7,
   "metadata": {},
   "outputs": [
    {
     "name": "stdout",
     "output_type": "stream",
     "text": [
      "ENVIRONMENT VARIABLES:\n",
      "\tb\t(0, 4)\n",
      "\n",
      "SYSTEM VARIABLES:\n",
      "\t(none)\n",
      "\n",
      "FORMULA:\n",
      "ASSUMPTION:\n",
      "    INITIAL\n",
      "\t  (b = 0)\n",
      "    SAFETY\n",
      "\t  [](b = 1 -> next(b) = 1 | next(b) = 0 | next(b) = 2)\n",
      "\t& [](b = 0 -> next(b) = 0 | next(b) = 1)\n",
      "\t& [](b = 4 -> next(b) = 4 | next(b) = 3)\n",
      "\t& [](b = 2 -> next(b) = 2 | next(b) = 1 | next(b) = 3)\n",
      "\t& [](b = 3 -> next(b) = 3 | next(b) = 2 | next(b) = 4)\n",
      "    LIVENESS\n",
      "\t  []<>(b = 4)\n",
      "GUARANTEE:\n",
      "    SAFETY\n",
      "\t  [](!(a2 & X(b = 2)))\n",
      "\t& [](!(a2 & b = 2))\n",
      "    LIVENESS\n",
      "\t  []<>(a3)\n",
      "\n"
     ]
    }
   ],
   "source": [
    "# Progress\n",
    "env_prog = {'b = 4'}\n",
    "sys_prog = {'a3'}\n",
    "    \n",
    "\n",
    "specs = settings.set_specs(env_vars, sys_vars, env_init, sys_init,\n",
    "                        env_safe, sys_safe, env_prog, sys_prog)\n",
    "print(specs.pretty())\n",
    "\n",
    "spec = tlp.synth._spec_plus_sys(specs, None, sys, False, False)\n",
    "# Automaton class found in omega/omega/symbolic/temporal.py\n",
    "aut = omega_int._grspec_to_automaton(spec)"
   ]
  },
  {
   "cell_type": "code",
   "execution_count": 8,
   "metadata": {},
   "outputs": [
    {
     "name": "stdout",
     "output_type": "stream",
     "text": [
      "removed 0 nodes from 12 total\n"
     ]
    }
   ],
   "source": [
    "# Synthesize the controller\n",
    "ctrl = tlp.synth.synthesize(specs, sys=sys)\n",
    "assert ctrl is not None, 'unrealizable'\n",
    "with open(path + \"ctrl\", \"wb\") as file:\n",
    "    pickle.dump(ctrl, file)\n",
    "\n",
    "dumpsmach.write_python_case(path + 'controller.py', ctrl, classname=\"sys_ctrl\")"
   ]
  },
  {
   "cell_type": "code",
   "execution_count": 9,
   "metadata": {},
   "outputs": [
    {
     "name": "stderr",
     "output_type": "stream",
     "text": [
      "/Users/kimiahassibi/Desktop/Caltech/SURF2023/env/lib/python3.8/site-packages/tulip-1.4.0-py3.8.egg/tulip/transys/export/graph2dot.py:106: SyntaxWarning: \"is\" with a literal. Did you mean \"==\"?\n",
      "/Users/kimiahassibi/Desktop/Caltech/SURF2023/env/lib/python3.8/site-packages/tulip-1.4.0-py3.8.egg/tulip/transys/export/graph2dot.py:111: SyntaxWarning: \"is\" with a literal. Did you mean \"==\"?\n",
      "/Users/kimiahassibi/Desktop/Caltech/SURF2023/env/lib/python3.8/site-packages/tulip-1.4.0-py3.8.egg/tulip/transys/export/graph2dot.py:112: SyntaxWarning: \"is\" with a literal. Did you mean \"==\"?\n",
      "/Users/kimiahassibi/Desktop/Caltech/SURF2023/env/lib/python3.8/site-packages/tulip-1.4.0-py3.8.egg/tulip/transys/export/graph2dot.py:155: SyntaxWarning: \"is\" with a literal. Did you mean \"==\"?\n",
      "/Users/kimiahassibi/Desktop/Caltech/SURF2023/env/lib/python3.8/site-packages/tulip-1.4.0-py3.8.egg/tulip/transys/export/graph2dot.py:157: SyntaxWarning: \"is\" with a literal. Did you mean \"==\"?\n",
      "/Users/kimiahassibi/Desktop/Caltech/SURF2023/env/lib/python3.8/site-packages/tulip-1.4.0-py3.8.egg/tulip/transys/export/graph2dot.py:159: SyntaxWarning: \"is\" with a literal. Did you mean \"==\"?\n",
      "/Users/kimiahassibi/Desktop/Caltech/SURF2023/env/lib/python3.8/site-packages/tulip-1.4.0-py3.8.egg/tulip/transys/export/graph2dot.py:161: SyntaxWarning: \"is\" with a literal. Did you mean \"==\"?\n",
      "/Users/kimiahassibi/Desktop/Caltech/SURF2023/env/lib/python3.8/site-packages/tulip-1.4.0-py3.8.egg/tulip/transys/export/graph2dot.py:171: SyntaxWarning: \"is\" with a literal. Did you mean \"==\"?\n",
      "/Users/kimiahassibi/Desktop/Caltech/SURF2023/env/lib/python3.8/site-packages/tulip-1.4.0-py3.8.egg/tulip/transys/export/graph2dot.py:184: SyntaxWarning: \"is\" with a literal. Did you mean \"==\"?\n",
      "/Users/kimiahassibi/Desktop/Caltech/SURF2023/env/lib/python3.8/site-packages/tulip-1.4.0-py3.8.egg/tulip/transys/export/graph2dot.py:217: SyntaxWarning: \"is\" with a literal. Did you mean \"==\"?\n",
      "/Users/kimiahassibi/Desktop/Caltech/SURF2023/env/lib/python3.8/site-packages/tulip-1.4.0-py3.8.egg/tulip/transys/export/graph2dot.py:219: SyntaxWarning: \"is\" with a literal. Did you mean \"==\"?\n",
      "/Users/kimiahassibi/Desktop/Caltech/SURF2023/env/lib/python3.8/site-packages/tulip-1.4.0-py3.8.egg/tulip/transys/export/graph2dot.py:106: SyntaxWarning: \"is\" with a literal. Did you mean \"==\"?\n",
      "/Users/kimiahassibi/Desktop/Caltech/SURF2023/env/lib/python3.8/site-packages/tulip-1.4.0-py3.8.egg/tulip/transys/export/graph2dot.py:111: SyntaxWarning: \"is\" with a literal. Did you mean \"==\"?\n",
      "/Users/kimiahassibi/Desktop/Caltech/SURF2023/env/lib/python3.8/site-packages/tulip-1.4.0-py3.8.egg/tulip/transys/export/graph2dot.py:112: SyntaxWarning: \"is\" with a literal. Did you mean \"==\"?\n",
      "/Users/kimiahassibi/Desktop/Caltech/SURF2023/env/lib/python3.8/site-packages/tulip-1.4.0-py3.8.egg/tulip/transys/export/graph2dot.py:155: SyntaxWarning: \"is\" with a literal. Did you mean \"==\"?\n",
      "/Users/kimiahassibi/Desktop/Caltech/SURF2023/env/lib/python3.8/site-packages/tulip-1.4.0-py3.8.egg/tulip/transys/export/graph2dot.py:157: SyntaxWarning: \"is\" with a literal. Did you mean \"==\"?\n",
      "/Users/kimiahassibi/Desktop/Caltech/SURF2023/env/lib/python3.8/site-packages/tulip-1.4.0-py3.8.egg/tulip/transys/export/graph2dot.py:159: SyntaxWarning: \"is\" with a literal. Did you mean \"==\"?\n",
      "/Users/kimiahassibi/Desktop/Caltech/SURF2023/env/lib/python3.8/site-packages/tulip-1.4.0-py3.8.egg/tulip/transys/export/graph2dot.py:161: SyntaxWarning: \"is\" with a literal. Did you mean \"==\"?\n",
      "/Users/kimiahassibi/Desktop/Caltech/SURF2023/env/lib/python3.8/site-packages/tulip-1.4.0-py3.8.egg/tulip/transys/export/graph2dot.py:171: SyntaxWarning: \"is\" with a literal. Did you mean \"==\"?\n",
      "/Users/kimiahassibi/Desktop/Caltech/SURF2023/env/lib/python3.8/site-packages/tulip-1.4.0-py3.8.egg/tulip/transys/export/graph2dot.py:184: SyntaxWarning: \"is\" with a literal. Did you mean \"==\"?\n",
      "/Users/kimiahassibi/Desktop/Caltech/SURF2023/env/lib/python3.8/site-packages/tulip-1.4.0-py3.8.egg/tulip/transys/export/graph2dot.py:217: SyntaxWarning: \"is\" with a literal. Did you mean \"==\"?\n",
      "/Users/kimiahassibi/Desktop/Caltech/SURF2023/env/lib/python3.8/site-packages/tulip-1.4.0-py3.8.egg/tulip/transys/export/graph2dot.py:219: SyntaxWarning: \"is\" with a literal. Did you mean \"==\"?\n"
     ]
    },
    {
     "ename": "ImportError",
     "evalue": "cannot import name 'make_str' from 'networkx.utils' (/Users/kimiahassibi/Desktop/Caltech/SURF2023/env/lib/python3.8/site-packages/networkx/utils/__init__.py)",
     "output_type": "error",
     "traceback": [
      "\u001b[0;31m---------------------------------------------------------------------------\u001b[0m",
      "\u001b[0;31mImportError\u001b[0m                               Traceback (most recent call last)",
      "Cell \u001b[0;32mIn[9], line 1\u001b[0m\n\u001b[0;32m----> 1\u001b[0m \u001b[43mctrl\u001b[49m\u001b[38;5;241;43m.\u001b[39;49m\u001b[43mplot\u001b[49m\u001b[43m(\u001b[49m\u001b[43m)\u001b[49m\n",
      "File \u001b[0;32m~/Desktop/Caltech/SURF2023/env/lib/python3.8/site-packages/tulip-1.4.0-py3.8.egg/tulip/transys/labeled_graphs.py:1267\u001b[0m, in \u001b[0;36mLabeledDiGraph.plot\u001b[0;34m(self, rankdir, prog, wrap, ax)\u001b[0m\n\u001b[1;32m   1265\u001b[0m \u001b[38;5;28;01mif\u001b[39;00m prog \u001b[38;5;129;01mis\u001b[39;00m \u001b[38;5;28;01mNone\u001b[39;00m:\n\u001b[1;32m   1266\u001b[0m     prog \u001b[38;5;241m=\u001b[39m \u001b[38;5;28mself\u001b[39m\u001b[38;5;241m.\u001b[39mdefault_layout\n\u001b[0;32m-> 1267\u001b[0m \u001b[38;5;28;01mfrom\u001b[39;00m \u001b[38;5;21;01mtulip\u001b[39;00m\u001b[38;5;21;01m.\u001b[39;00m\u001b[38;5;21;01mtransys\u001b[39;00m\u001b[38;5;21;01m.\u001b[39;00m\u001b[38;5;21;01mexport\u001b[39;00m \u001b[38;5;28;01mimport\u001b[39;00m graph2dot\n\u001b[1;32m   1268\u001b[0m \u001b[38;5;28;01mreturn\u001b[39;00m graph2dot\u001b[38;5;241m.\u001b[39mplot_pydot(\u001b[38;5;28mself\u001b[39m, prog, rankdir, wrap, ax\u001b[38;5;241m=\u001b[39max)\n",
      "File \u001b[0;32m<frozen zipimport>:259\u001b[0m, in \u001b[0;36mload_module\u001b[0;34m(self, fullname)\u001b[0m\n",
      "File \u001b[0;32m~/Desktop/Caltech/SURF2023/env/lib/python3.8/site-packages/tulip-1.4.0-py3.8.egg/tulip/transys/export/graph2dot.py:45\u001b[0m\n\u001b[1;32m     43\u001b[0m \u001b[38;5;28;01mimport\u001b[39;00m \u001b[38;5;21;01mnumpy\u001b[39;00m \u001b[38;5;28;01mas\u001b[39;00m \u001b[38;5;21;01mnp\u001b[39;00m\n\u001b[1;32m     44\u001b[0m \u001b[38;5;28;01mimport\u001b[39;00m \u001b[38;5;21;01mnetworkx\u001b[39;00m \u001b[38;5;28;01mas\u001b[39;00m \u001b[38;5;21;01mnx\u001b[39;00m\n\u001b[0;32m---> 45\u001b[0m \u001b[38;5;28;01mfrom\u001b[39;00m \u001b[38;5;21;01mnetworkx\u001b[39;00m\u001b[38;5;21;01m.\u001b[39;00m\u001b[38;5;21;01mutils\u001b[39;00m \u001b[38;5;28;01mimport\u001b[39;00m make_str\n\u001b[1;32m     46\u001b[0m \u001b[38;5;28;01mimport\u001b[39;00m \u001b[38;5;21;01mpydot\u001b[39;00m\n\u001b[1;32m     47\u001b[0m \u001b[38;5;66;03m# inline:\u001b[39;00m\n\u001b[1;32m     48\u001b[0m \u001b[38;5;66;03m#\u001b[39;00m\n\u001b[1;32m     49\u001b[0m \u001b[38;5;66;03m# import webcolors\u001b[39;00m\n",
      "\u001b[0;31mImportError\u001b[0m: cannot import name 'make_str' from 'networkx.utils' (/Users/kimiahassibi/Desktop/Caltech/SURF2023/env/lib/python3.8/site-packages/networkx/utils/__init__.py)"
     ]
    }
   ],
   "source": [
    "ctrl.plot()"
   ]
  },
  {
   "cell_type": "code",
   "execution_count": 10,
   "metadata": {},
   "outputs": [],
   "source": [
    "# spec = tlp.synth._spec_plus_sys(specs, None, sys, False, False)\n",
    "# # Automaton class found in omega/omega/symbolic/temporal.py\n",
    "# aut = omega_int._grspec_to_automaton(specs)"
   ]
  },
  {
   "cell_type": "code",
   "execution_count": null,
   "metadata": {},
   "outputs": [],
   "source": [
    "# enum.action_to_steps(aut, env='env', sys='sys',qinit=aut.qinit)"
   ]
  },
  {
   "cell_type": "code",
   "execution_count": null,
   "metadata": {},
   "outputs": [],
   "source": [
    "# enum.action_to_steps(aut, env='env', sys='sys')"
   ]
  },
  {
   "cell_type": "code",
   "execution_count": null,
   "metadata": {},
   "outputs": [],
   "source": [
    "# enum.action_to_steps(aut, env='env', sys='impl')"
   ]
  },
  {
   "cell_type": "code",
   "execution_count": 11,
   "metadata": {},
   "outputs": [
    {
     "name": "stdout",
     "output_type": "stream",
     "text": [
      "about to create game graph\n",
      "found winning set\n",
      "before queue\n"
     ]
    },
    {
     "name": "stderr",
     "output_type": "stream",
     "text": [
      "/var/folders/ft/xrlc5_s96yq61k69b07g248r0000gn/T/ipykernel_32994/1215403325.py:8: DeprecationWarning: nx.nx_pydot.to_pydot depends on the pydot package, which hasknown issues and is not actively maintained.\n",
      "\n",
      "See https://github.com/networkx/networkx/issues/5723\n",
      "  pd0 = nx.drawing.nx_pydot.to_pydot(h0)\n"
     ]
    }
   ],
   "source": [
    "# Graphing\n",
    "filename = path + \"graph\"\n",
    "attributes = ['color', 'shape']\n",
    "\n",
    "# Making a graph of the asynchronous GR(1) game with deadends.\n",
    "g0 = gb.game_graph(aut, env='env', sys='sys', remove_deadends=False, append_non_visited=False, qinit=aut.qinit)\n",
    "h0 = gb._game_format_nx(g0, attributes)\n",
    "pd0 = nx.drawing.nx_pydot.to_pydot(h0)\n",
    "pd0.write_pdf(path + 'game.pdf')\n",
    "with open(filename, \"wb\") as file:\n",
    "    pickle.dump(g0, file)"
   ]
  },
  {
   "cell_type": "markdown",
   "metadata": {},
   "source": [
    "# Trying to satisfy the environment's liveness/progress conditions"
   ]
  },
  {
   "cell_type": "markdown",
   "metadata": {},
   "source": [
    "## Find the nodes in the graph that satisfy any of the environment's progress conditions"
   ]
  },
  {
   "cell_type": "code",
   "execution_count": 12,
   "metadata": {},
   "outputs": [],
   "source": [
    "# making environment progress conditions into a dictionary\n",
    "env_prog_dict = {}\n",
    "for elem in env_prog:\n",
    "    split_lst = elem.split(' = ')\n",
    "    key = split_lst[0]\n",
    "    if len(split_lst) == 1:\n",
    "        env_prog_dict[key] = True\n",
    "    elif type(env_vars[key]) == list:\n",
    "        value = split_lst[1]\n",
    "        env_prog_dict[key] = env_vars[key].index(value[1:len(value)-1])\n",
    "    else:\n",
    "        env_prog_dict[key] = int(split_lst[1])\n"
   ]
  },
  {
   "cell_type": "code",
   "execution_count": 13,
   "metadata": {},
   "outputs": [
    {
     "data": {
      "text/plain": [
       "{'b': 4}"
      ]
     },
     "execution_count": 13,
     "metadata": {},
     "output_type": "execute_result"
    }
   ],
   "source": [
    "env_prog_dict"
   ]
  },
  {
   "cell_type": "code",
   "execution_count": 14,
   "metadata": {},
   "outputs": [],
   "source": [
    "# find the nodes in the graph that satisfy any of the environment's progress conditions\n",
    "# each entry in the dictionary is a list of nodes that satisfying each progress condition\n",
    "env_prog_nodes = {}\n",
    "for item in env_prog_dict.items():\n",
    "    env_prog_nodes[item] = []\n",
    "for node in g0.nodes:\n",
    "    for item in env_prog_dict.items():\n",
    "        if item in g0.nodes[node].items():\n",
    "            env_prog_nodes[item].append(node)"
   ]
  },
  {
   "cell_type": "code",
   "execution_count": 15,
   "metadata": {},
   "outputs": [
    {
     "data": {
      "text/plain": [
       "{('b', 4): [12, 13, 14, 15, 16, 19, 20, 23]}"
      ]
     },
     "execution_count": 15,
     "metadata": {},
     "output_type": "execute_result"
    }
   ],
   "source": [
    "env_prog_nodes"
   ]
  },
  {
   "cell_type": "code",
   "execution_count": 16,
   "metadata": {},
   "outputs": [
    {
     "name": "stdout",
     "output_type": "stream",
     "text": [
      "{'b': 4, 'a2': False, 'loc': 0, 'a3': False, 'a1': False, 'a0': True, 'shape': 'box'}\n",
      "{'b': 4, 'a2': False, 'a0': False, 'a3': False, 'a1': True, 'loc': 1, 'shape': 'oval'}\n",
      "{'b': 4, 'a2': False, 'a0': True, 'a3': False, 'a1': False, 'loc': 0, 'shape': 'oval'}\n",
      "{'b': 4, 'a2': False, 'loc': 1, 'a3': False, 'a1': True, 'a0': False, 'shape': 'box'}\n",
      "{'b': 4, 'a2': True, 'a0': False, 'a3': False, 'a1': False, 'loc': 2, 'shape': 'oval'}\n",
      "{'b': 4, 'a2': True, 'loc': 2, 'a3': False, 'a1': False, 'a0': False, 'shape': 'box'}\n",
      "{'b': 4, 'a2': False, 'a0': False, 'a3': True, 'a1': False, 'loc': 3, 'shape': 'oval'}\n",
      "{'b': 4, 'a2': False, 'loc': 3, 'a3': True, 'a1': False, 'a0': False, 'shape': 'box'}\n"
     ]
    }
   ],
   "source": [
    "for node in env_prog_nodes[('b', 4)]:\n",
    "    print(g0.nodes[node])"
   ]
  },
  {
   "cell_type": "code",
   "execution_count": 17,
   "metadata": {},
   "outputs": [
    {
     "data": {
      "text/plain": [
       "{('b', 4): [12, 13, 14, 15, 16, 19, 20, 23]}"
      ]
     },
     "execution_count": 17,
     "metadata": {},
     "output_type": "execute_result"
    }
   ],
   "source": [
    "env_prog_nodes"
   ]
  },
  {
   "cell_type": "markdown",
   "metadata": {},
   "source": [
    "## Find the cycles that contain nodes that satisfy each env progress condition"
   ]
  },
  {
   "cell_type": "code",
   "execution_count": 18,
   "metadata": {},
   "outputs": [],
   "source": [
    "# find all the simple cycles in g0\n",
    "cycles = list(nx.simple_cycles(g0))"
   ]
  },
  {
   "cell_type": "code",
   "execution_count": 19,
   "metadata": {},
   "outputs": [
    {
     "data": {
      "text/plain": [
       "[[0, 1],\n",
       " [0, 3, 5, 1],\n",
       " [3, 5, 6, 8],\n",
       " [3, 5],\n",
       " [6, 8],\n",
       " [6, 8, 9, 11],\n",
       " [9, 11, 12, 14],\n",
       " [9, 11],\n",
       " [12, 14],\n",
       " [33, 4, 35, 2],\n",
       " [33, 4, 31, 7],\n",
       " [33, 4],\n",
       " [7, 31],\n",
       " [7, 17, 10, 31],\n",
       " [17, 10, 15, 13],\n",
       " [17, 10],\n",
       " [13, 15],\n",
       " [2, 35],\n",
       " [36, 37],\n",
       " [20, 23],\n",
       " [20, 26, 22, 23],\n",
       " [22, 24, 25, 26],\n",
       " [22, 26],\n",
       " [24, 25],\n",
       " [24, 25, 27, 28],\n",
       " [27, 28, 29, 30],\n",
       " [27, 28],\n",
       " [29, 30]]"
      ]
     },
     "execution_count": 19,
     "metadata": {},
     "output_type": "execute_result"
    }
   ],
   "source": [
    "cycles"
   ]
  },
  {
   "cell_type": "code",
   "execution_count": 21,
   "metadata": {},
   "outputs": [
    {
     "data": {
      "text/plain": [
       "28"
      ]
     },
     "execution_count": 21,
     "metadata": {},
     "output_type": "execute_result"
    }
   ],
   "source": [
    "len(cycles)\n",
    "# 28 cycles when runner cannot go backwards\n",
    "# 1008 cycles when runner can go backwards"
   ]
  },
  {
   "cell_type": "code",
   "execution_count": 22,
   "metadata": {},
   "outputs": [
    {
     "data": {
      "text/plain": [
       "{'b': 0,\n",
       " 'a2': False,\n",
       " 'a0': True,\n",
       " 'a3': False,\n",
       " 'a1': False,\n",
       " 'loc': 0,\n",
       " 'shape': 'oval'}"
      ]
     },
     "execution_count": 22,
     "metadata": {},
     "output_type": "execute_result"
    }
   ],
   "source": [
    "g0.nodes[0]"
   ]
  },
  {
   "cell_type": "code",
   "execution_count": 23,
   "metadata": {},
   "outputs": [
    {
     "name": "stdout",
     "output_type": "stream",
     "text": [
      "[0, 'a0'][0, 'a0']\n",
      "[0, 'a0'][1, 'a0'][1, 'a0'][0, 'a0']\n",
      "[1, 'a0'][1, 'a0'][2, 'a0'][2, 'a0']\n",
      "[1, 'a0'][1, 'a0']\n",
      "[2, 'a0'][2, 'a0']\n",
      "[2, 'a0'][2, 'a0'][3, 'a0'][3, 'a0']\n",
      "[3, 'a0'][3, 'a0'][4, 'a0'][4, 'a0']\n",
      "[3, 'a0'][3, 'a0']\n",
      "[4, 'a0'][4, 'a0']\n",
      "[1, 'a1'][1, 'a1'][0, 'a1'][0, 'a1']\n",
      "[1, 'a1'][1, 'a1'][2, 'a1'][2, 'a1']\n",
      "[1, 'a1'][1, 'a1']\n",
      "[2, 'a1'][2, 'a1']\n",
      "[2, 'a1'][3, 'a1'][3, 'a1'][2, 'a1']\n",
      "[3, 'a1'][3, 'a1'][4, 'a1'][4, 'a1']\n",
      "[3, 'a1'][3, 'a1']\n",
      "[4, 'a1'][4, 'a1']\n",
      "[0, 'a1'][0, 'a1']\n",
      "[0, 'a2'][0, 'a2']\n",
      "[4, 'a3'][4, 'a3']\n",
      "[4, 'a3'][3, 'a3'][3, 'a3'][4, 'a3']\n",
      "[3, 'a3'][2, 'a3'][2, 'a3'][3, 'a3']\n",
      "[3, 'a3'][3, 'a3']\n",
      "[2, 'a3'][2, 'a3']\n",
      "[2, 'a3'][2, 'a3'][1, 'a3'][1, 'a3']\n",
      "[1, 'a3'][1, 'a3'][0, 'a3'][0, 'a3']\n",
      "[1, 'a3'][1, 'a3']\n",
      "[0, 'a3'][0, 'a3']\n"
     ]
    }
   ],
   "source": [
    "for cycle in cycles:\n",
    "    cycle_nodes = ''\n",
    "    for node in cycle:\n",
    "        location = [g0.nodes[node]['b']]\n",
    "        for key,val in g0.nodes[node].items():\n",
    "            if type(val) == bool and val:\n",
    "                location.append(key)\n",
    "        cycle_nodes += str(location)\n",
    "    print(cycle_nodes)\n",
    "# it seems that almost everything can be a cycle because everyone can go backwards"
   ]
  },
  {
   "cell_type": "code",
   "execution_count": 24,
   "metadata": {},
   "outputs": [
    {
     "name": "stdout",
     "output_type": "stream",
     "text": [
      "28 37\n",
      "37 46\n",
      "46 46\n"
     ]
    }
   ],
   "source": [
    "# make the cycles into frozensets (immutable sets)\n",
    "old_cycles = set()\n",
    "for cycle in cycles:\n",
    "    old_cycles.add(frozenset(cycle))\n",
    "\n",
    "# num_iters = 0\n",
    "# while True:\n",
    "#     num_iters += 1\n",
    "#     new_cycles = old_cycles.copy()\n",
    "#     for cycle in old_cycles:\n",
    "#         for node in cycle:\n",
    "#             for cycle2 in old_cycles:\n",
    "#                 if node in cycle2:\n",
    "#                     new_cycles.add(frozenset(cycle | cycle2))\n",
    "#     print(old_cycles, new_cycles)\n",
    "#     if new_cycles == old_cycles:\n",
    "#         print(num_iters)\n",
    "#         break\n",
    "#     else:\n",
    "#         old_cycles = new_cycles.copy()\n",
    "\n",
    "# Combining simple cycles together and adding those to set of cycles\n",
    "new_cycles = old_cycles.copy()\n",
    "while True:\n",
    "    for cycle1 in old_cycles:\n",
    "        for cycle2 in old_cycles:\n",
    "            # if not (cycle1.issubset(cycle2) or cycle2.issubset(cycle1)) and not cycle1.isdisjoint(cycle2):\n",
    "            if cycle1 != cycle2:\n",
    "                # get the intersection of the 2 nodes\n",
    "                # get the environment nodes\n",
    "                # loop over these nodes\n",
    "                # loop over succesors of environment nodes\n",
    "                # if one successor in cycle 1\n",
    "                # and another successor in cycle 2\n",
    "                # then add the union of the 2 cycles together\n",
    "                cyc_intersection = cycle1.intersection(cycle2)\n",
    "                env_intersection = [node for node in cyc_intersection if g0.nodes[node]['shape'] == 'oval']\n",
    "                for env_node in env_intersection:\n",
    "                    to_cycle1 = False\n",
    "                    to_cycle2 = False\n",
    "                    for succ in g0.successors(env_node):\n",
    "                        if succ in cycle1:\n",
    "                            to_cycle1 = True\n",
    "                        elif succ in cycle2:\n",
    "                            to_cycle2 = True\n",
    "                        if to_cycle1 and to_cycle2:\n",
    "                            break\n",
    "                    if to_cycle1 and to_cycle2:\n",
    "                            new_cycles.add(frozenset(cycle1.union(cycle2)))\n",
    "                            break\n",
    "    print(len(old_cycles), len(new_cycles))\n",
    "    if new_cycles == old_cycles:\n",
    "        break\n",
    "    else:\n",
    "        old_cycles = new_cycles.copy()\n",
    "\n",
    "    "
   ]
  },
  {
   "cell_type": "code",
   "execution_count": null,
   "metadata": {},
   "outputs": [],
   "source": [
    "# print(\"num_iters\", num_iters)\n",
    "# print(\"len(cycles)\", len(cycles))\n",
    "# print(\"len(new_cycles)\", len(new_cycles))"
   ]
  },
  {
   "cell_type": "code",
   "execution_count": null,
   "metadata": {},
   "outputs": [],
   "source": [
    "# to make the code work without having to change everything\n",
    "cycles = new_cycles"
   ]
  },
  {
   "cell_type": "code",
   "execution_count": null,
   "metadata": {},
   "outputs": [],
   "source": [
    "env_prog_nodes"
   ]
  },
  {
   "cell_type": "code",
   "execution_count": null,
   "metadata": {},
   "outputs": [],
   "source": [
    "# Filter cycles that contain nodes that satisfy each type of progress condition\n",
    "prog_satisfying_cycles = []\n",
    "for cycle in cycles:\n",
    "    satisfies_prog_counter = 0\n",
    "    for lst in env_prog_nodes.values():\n",
    "        for node in lst:\n",
    "            if node in cycle:\n",
    "                satisfies_prog_counter += 1\n",
    "                break\n",
    "    if satisfies_prog_counter == len(env_prog_dict.values()):\n",
    "        prog_satisfying_cycles.append(cycle)"
   ]
  },
  {
   "cell_type": "code",
   "execution_count": null,
   "metadata": {},
   "outputs": [],
   "source": [
    "prog_satisfying_cycles"
   ]
  },
  {
   "cell_type": "markdown",
   "metadata": {},
   "source": [
    "## See if any of these cycles can have the system leave the cycle (with no return)"
   ]
  },
  {
   "cell_type": "code",
   "execution_count": null,
   "metadata": {},
   "outputs": [],
   "source": [
    "g0.nodes[0]"
   ]
  },
  {
   "cell_type": "code",
   "execution_count": null,
   "metadata": {},
   "outputs": [],
   "source": [
    "# see if any of these cycles can have the system leave the cycle (regardless of if it can return)\n",
    "leave_counter = 0\n",
    "num_cycles_left = 0\n",
    "for cycle in prog_satisfying_cycles:\n",
    "    cycle_left = False\n",
    "    for node in cycle:\n",
    "        # if g0.nodes[node]['shape'] != 'oval': \n",
    "        if g0.nodes[node]['shape'] == 'oval': \n",
    "            continue\n",
    "        # node is a node from which the system takes the action\n",
    "        for succ in g0.successors(node):\n",
    "            if succ not in cycle:\n",
    "                leave_counter += 1\n",
    "                cycle_left = True\n",
    "    if cycle_left:\n",
    "        num_cycles_left += 1\n",
    "print(\"leave_counter\", leave_counter)\n",
    "print(\"num_cycles_left\", num_cycles_left)\n",
    "print('num_cycles', len(prog_satisfying_cycles))"
   ]
  },
  {
   "cell_type": "markdown",
   "metadata": {},
   "source": [
    "## Remove any cycles with the system leaving"
   ]
  },
  {
   "cell_type": "code",
   "execution_count": null,
   "metadata": {},
   "outputs": [],
   "source": [
    "# This code is very similar to the code above. Fix this later\n",
    "permanent_prog_cycles = []\n",
    "for cycle in prog_satisfying_cycles:\n",
    "    cycle_left = False\n",
    "    for node in cycle:\n",
    "        # if g0.nodes[node]['shape'] != 'oval':\n",
    "        if g0.nodes[node]['shape'] == 'oval':\n",
    "            continue\n",
    "        # node is a node from which the system takes the action\n",
    "        for succ in g0.successors(node):\n",
    "            if succ not in cycle:\n",
    "                leave_counter += 1\n",
    "                cycle_left = True\n",
    "    if cycle_left:\n",
    "        num_cycles_left += 1\n",
    "    else:\n",
    "        permanent_prog_cycles.append(cycle)"
   ]
  },
  {
   "cell_type": "code",
   "execution_count": null,
   "metadata": {},
   "outputs": [],
   "source": [
    "permanent_prog_cycles"
   ]
  },
  {
   "cell_type": "code",
   "execution_count": null,
   "metadata": {},
   "outputs": [],
   "source": [
    "largest_cycles = []\n",
    "for cycle in permanent_prog_cycles:\n",
    "    is_subset = False\n",
    "    for other_cycle in permanent_prog_cycles:\n",
    "        if cycle != other_cycle and cycle.issubset(other_cycle):\n",
    "            is_subset = True\n",
    "            break\n",
    "    if not is_subset:\n",
    "        largest_cycles.append(cycle)"
   ]
  },
  {
   "cell_type": "code",
   "execution_count": null,
   "metadata": {},
   "outputs": [],
   "source": [
    "largest_cycles"
   ]
  },
  {
   "cell_type": "markdown",
   "metadata": {},
   "source": [
    "Do we acccount for the case where you enter one cycle then go into another via a path?\n",
    "I do not think we do. \n",
    "\n",
    "Do we account for the case where multiple system actions can keep us within some cycle?\n",
    "I also think no.\n",
    "\n",
    "We only find cycles in which the system action cannot leave the cycle.\n",
    "\n",
    "Need to fix."
   ]
  },
  {
   "cell_type": "markdown",
   "metadata": {},
   "source": [
    "## (Not necessary) Find all paths from the initial node to the cycles"
   ]
  },
  {
   "cell_type": "code",
   "execution_count": null,
   "metadata": {},
   "outputs": [],
   "source": [
    "# def is_prefix(list1, list2):\n",
    "#     # Compare the elements of both lists up to the length of the shorter list\n",
    "#     min_length = min(len(list1), len(list2))\n",
    "#     for i in range(min_length):\n",
    "#         if list1[i] != list2[i]:\n",
    "#             return False\n",
    "#     return True"
   ]
  },
  {
   "cell_type": "code",
   "execution_count": null,
   "metadata": {},
   "outputs": [],
   "source": [
    "# Find all the paths from the initial node(s) to the cycles satisfying the progress conditions\n",
    "# ASSUMPTION: g0.nodes[0] is the ONLY initial node\n",
    "# paths_to_cycle = []\n",
    "# for cycle in prog_satisfying_cycles:\n",
    "#     for node in cycle:\n",
    "#         new_paths = list(nx.all_simple_paths(g0, 0, node))\n",
    "#         # I do not want to have 2 paths, one of which is a subset of the other. \n",
    "#         # I just want the subset.\n",
    "#         for new_path in new_paths[:]:\n",
    "#             for existing_path in paths_to_cycle[:]:\n",
    "#                 if is_prefix(new_path, existing_path):\n",
    "#                     if len(new_path) < len(existing_path):\n",
    "#                         paths_to_cycle.remove(existing_path)\n",
    "#                     else:\n",
    "#                         new_paths.remove(new_path)\n",
    "#                         break\n",
    "#         paths_to_cycle += new_paths"
   ]
  },
  {
   "cell_type": "markdown",
   "metadata": {},
   "source": [
    "new problem: This does not take into account that the system may take some action \n",
    "that will take us away from one of these paths. Do we have to care?\n",
    "Yes. We want to always satisfy the liveness conditions, no matter what the system does.\n",
    "\n",
    "Should I do some winning set calculations? I can't just use the winning set \n",
    "functions because I want to use the GR1 graph that contains the actions the \n",
    "system can take that satisfy its winning condition. \n",
    "\n",
    "Okay let's say that there is a safe action that the system can take but will lead to\n",
    "the environment taking the system to a red node. Is that in our graph? No... it does not seem so.\n",
    "Wouldn't we want a hard test to find this case? Do we just assume that the system has failed at this point?\n",
    "\n",
    "okay so should we just assume the graph is ideal\n",
    "and then figure out the paths that allow the environment to satisfy its progress conditions,\n",
    "regardless of what the system does"
   ]
  },
  {
   "cell_type": "code",
   "execution_count": null,
   "metadata": {},
   "outputs": [],
   "source": [
    "# len(paths_to_cycle)"
   ]
  },
  {
   "cell_type": "code",
   "execution_count": null,
   "metadata": {},
   "outputs": [],
   "source": [
    "# paths_to_cycle"
   ]
  },
  {
   "cell_type": "markdown",
   "metadata": {},
   "source": [
    "Should I make a graph that adds a transition from one env node to another only if all system actions from \n",
    "the env node go to the other\n",
    "\n",
    "Then, I do the same code on this\n",
    "\n",
    "Wait, I should do it on sets. Only if all system actions from the env node go to a winning set lol\n"
   ]
  },
  {
   "cell_type": "markdown",
   "metadata": {},
   "source": [
    "## Find the \"levels\" that lead to the environment progress cycles"
   ]
  },
  {
   "cell_type": "code",
   "execution_count": null,
   "metadata": {},
   "outputs": [],
   "source": [
    "# getting the nodes in the cycles that satisfy the env progress conditions\n",
    "nodes_satisfying_prog = set()\n",
    "# for lst in prog_satisfying_cycles:\n",
    "for lst in largest_cycles:\n",
    "    nodes_satisfying_prog |= set(lst)"
   ]
  },
  {
   "cell_type": "code",
   "execution_count": null,
   "metadata": {},
   "outputs": [],
   "source": [
    "nodes_satisfying_prog"
   ]
  },
  {
   "cell_type": "code",
   "execution_count": null,
   "metadata": {},
   "outputs": [],
   "source": [
    "# calculate the \"levels\" from the env prog cycle outwards\n",
    "R = {}\n",
    "i = 0\n",
    "R[i] = nodes_satisfying_prog\n",
    "while True:\n",
    "    new_nodes = set()\n",
    "    for node in R[i]:\n",
    "        new_nodes |= set(g0.predecessors(node))\n",
    "    R[i+1] = new_nodes | R[i]\n",
    "\n",
    "    new_nodes = set()\n",
    "    for node in R[i+1]:\n",
    "        for prev in set(g0.predecessors(node)):\n",
    "            all_transitions_to_Ri1 = True\n",
    "            for trans in set(g0.successors(prev)):\n",
    "                if trans not in R[i+1]:\n",
    "                    all_transitions_to_Ri1 = False\n",
    "                    break\n",
    "            if all_transitions_to_Ri1:\n",
    "                new_nodes.add(prev)\n",
    "    R[i+2] = new_nodes | R[i+1]\n",
    "\n",
    "    if R[i+2] == R[i]:\n",
    "        R.pop(i+2)\n",
    "        R.pop(i+1)\n",
    "        break\n",
    "    else:\n",
    "        i += 2"
   ]
  },
  {
   "cell_type": "code",
   "execution_count": null,
   "metadata": {},
   "outputs": [],
   "source": [
    "# the initial state is in the largest \"level\" out of the env prog cycle\n",
    "# i.e. there is a path for the environment to the progress satisfying cycles,\n",
    "# regardless of the moves the system takes\n",
    "# ASSUMPTION the initial state is ONLY node 0\n",
    "0 in R[len(R)-1]"
   ]
  },
  {
   "cell_type": "markdown",
   "metadata": {},
   "source": [
    "# Start from initial state(s?) and go to the union of cycles"
   ]
  },
  {
   "cell_type": "code",
   "execution_count": null,
   "metadata": {},
   "outputs": [],
   "source": [
    "def go_to_cycles(robustness, R, g):\n",
    "    "
   ]
  },
  {
   "cell_type": "code",
   "execution_count": null,
   "metadata": {},
   "outputs": [],
   "source": [
    "??nx.simple_cycles"
   ]
  },
  {
   "cell_type": "code",
   "execution_count": null,
   "metadata": {},
   "outputs": [],
   "source": [
    "nx.__version__"
   ]
  },
  {
   "cell_type": "code",
   "execution_count": null,
   "metadata": {},
   "outputs": [],
   "source": [
    "import sys\n",
    "!{sys.executable} -m pip install --upgrade networkx"
   ]
  },
  {
   "cell_type": "code",
   "execution_count": null,
   "metadata": {},
   "outputs": [],
   "source": [
    "!{sys.executable} -m pip install --upgrade pip"
   ]
  },
  {
   "cell_type": "code",
   "execution_count": null,
   "metadata": {},
   "outputs": [],
   "source": [
    "import sys\n",
    "print(sys.version)"
   ]
  },
  {
   "cell_type": "code",
   "execution_count": null,
   "metadata": {},
   "outputs": [],
   "source": [
    "{1,2,3}.issubset({1,2})"
   ]
  },
  {
   "cell_type": "code",
   "execution_count": null,
   "metadata": {},
   "outputs": [],
   "source": [
    "{1,2}.issubset({1,2,3})"
   ]
  },
  {
   "cell_type": "code",
   "execution_count": null,
   "metadata": {},
   "outputs": [],
   "source": [
    "{1,2,3}.issubset({1,2,3})"
   ]
  },
  {
   "cell_type": "code",
   "execution_count": null,
   "metadata": {},
   "outputs": [],
   "source": [
    "a = {frozenset({1,2}),frozenset({4,2})}\n",
    "b = a.copy()"
   ]
  },
  {
   "cell_type": "code",
   "execution_count": null,
   "metadata": {},
   "outputs": [],
   "source": [
    "b.remove(frozenset({1,2}))"
   ]
  },
  {
   "cell_type": "code",
   "execution_count": null,
   "metadata": {},
   "outputs": [],
   "source": [
    "b"
   ]
  },
  {
   "cell_type": "code",
   "execution_count": null,
   "metadata": {},
   "outputs": [],
   "source": [
    "b.remove(frozenset({1,2}))"
   ]
  },
  {
   "cell_type": "code",
   "execution_count": null,
   "metadata": {},
   "outputs": [],
   "source": [
    "{1,2,3}.intersection({4,2,3})"
   ]
  },
  {
   "cell_type": "code",
   "execution_count": null,
   "metadata": {},
   "outputs": [],
   "source": []
  }
 ],
 "metadata": {
  "kernelspec": {
   "display_name": "env",
   "language": "python",
   "name": "python3"
  },
  "language_info": {
   "codemirror_mode": {
    "name": "ipython",
    "version": 3
   },
   "file_extension": ".py",
   "mimetype": "text/x-python",
   "name": "python",
   "nbconvert_exporter": "python",
   "pygments_lexer": "ipython3",
   "version": "3.8.16"
  }
 },
 "nbformat": 4,
 "nbformat_minor": 2
}
