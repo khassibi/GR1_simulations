{
 "cells": [
  {
   "cell_type": "code",
   "execution_count": 1,
   "metadata": {},
   "outputs": [
    {
     "name": "stderr",
     "output_type": "stream",
     "text": [
      "/Users/kimiahassibi/Desktop/Caltech/SURF2023/env/lib/python3.8/site-packages/tulip-1.4.0-py3.8.egg/tulip/transys/mathset.py:719: SyntaxWarning: \"is\" with a literal. Did you mean \"==\"?\n",
      "/Users/kimiahassibi/Desktop/Caltech/SURF2023/env/lib/python3.8/site-packages/tulip-1.4.0-py3.8.egg/tulip/transys/mathset.py:719: SyntaxWarning: \"is\" with a literal. Did you mean \"==\"?\n",
      "/Users/kimiahassibi/Desktop/Caltech/SURF2023/env/lib/python3.8/site-packages/tulip-1.4.0-py3.8.egg/tulip/transys/labeled_graphs.py:1218: SyntaxWarning: \"is\" with a literal. Did you mean \"==\"?\n",
      "/Users/kimiahassibi/Desktop/Caltech/SURF2023/env/lib/python3.8/site-packages/tulip-1.4.0-py3.8.egg/tulip/transys/labeled_graphs.py:1226: SyntaxWarning: \"is\" with a literal. Did you mean \"==\"?\n",
      "/Users/kimiahassibi/Desktop/Caltech/SURF2023/env/lib/python3.8/site-packages/tulip-1.4.0-py3.8.egg/tulip/transys/labeled_graphs.py:1218: SyntaxWarning: \"is\" with a literal. Did you mean \"==\"?\n",
      "/Users/kimiahassibi/Desktop/Caltech/SURF2023/env/lib/python3.8/site-packages/tulip-1.4.0-py3.8.egg/tulip/transys/labeled_graphs.py:1226: SyntaxWarning: \"is\" with a literal. Did you mean \"==\"?\n",
      "/Users/kimiahassibi/Desktop/Caltech/SURF2023/env/lib/python3.8/site-packages/tulip-1.4.0-py3.8.egg/tulip/transys/transys.py:765: SyntaxWarning: \"is not\" with a literal. Did you mean \"!=\"?\n",
      "/Users/kimiahassibi/Desktop/Caltech/SURF2023/env/lib/python3.8/site-packages/tulip-1.4.0-py3.8.egg/tulip/transys/transys.py:765: SyntaxWarning: \"is not\" with a literal. Did you mean \"!=\"?\n",
      "/Users/kimiahassibi/Desktop/Caltech/SURF2023/env/lib/python3.8/site-packages/tulip-1.4.0-py3.8.egg/tulip/synth.py:161: SyntaxWarning: \"is\" with a literal. Did you mean \"==\"?\n",
      "/Users/kimiahassibi/Desktop/Caltech/SURF2023/env/lib/python3.8/site-packages/tulip-1.4.0-py3.8.egg/tulip/synth.py:161: SyntaxWarning: \"is\" with a literal. Did you mean \"==\"?\n",
      "`omega.symbolic.symbolic` failed to import `dd.cudd`.\n",
      "Will use `dd.autoref`.\n"
     ]
    }
   ],
   "source": [
    "from patrolling_car.controller import sys_ctrl\n",
    "import pickle\n",
    "import hard_tests\n",
    "import random\n",
    "import visualization.animate as animate\n",
    "\n",
    "import tulip as tlp\n",
    "from tulip import transys, abstract, spec, synth\n",
    "from IPython.display import HTML\n",
    "\n",
    "import networkx as nx\n",
    "\n",
    "import patrolling_car_tests"
   ]
  },
  {
   "cell_type": "code",
   "execution_count": 2,
   "metadata": {},
   "outputs": [],
   "source": [
    "path = 'patrolling_car/'"
   ]
  },
  {
   "cell_type": "code",
   "execution_count": 3,
   "metadata": {},
   "outputs": [],
   "source": [
    "with open(path + 'graph', \"rb\") as file:\n",
    "    G = pickle.load(file)"
   ]
  },
  {
   "cell_type": "code",
   "execution_count": 4,
   "metadata": {},
   "outputs": [],
   "source": [
    "# Load the system controller from the saved file\n",
    "with open(path + \"ctrl\", \"rb\") as file:\n",
    "    ctrl = pickle.load(file)"
   ]
  },
  {
   "cell_type": "code",
   "execution_count": 5,
   "metadata": {},
   "outputs": [],
   "source": [
    "# Labeling the nodes like system nodes\n",
    "# for edge in ctrl.edges:\n",
    "#     for (key, val) in ctrl.edges[edge].items():\n",
    "#         ctrl.nodes[edge[1]][key] = val"
   ]
  },
  {
   "cell_type": "code",
   "execution_count": 6,
   "metadata": {},
   "outputs": [
    {
     "data": {
      "text/plain": [
       "{'b': 0, 'move': False, 'r': 20, 'fuel': 8, 'shape': 'oval'}"
      ]
     },
     "execution_count": 6,
     "metadata": {},
     "output_type": "execute_result"
    }
   ],
   "source": [
    "G.nodes[0]"
   ]
  },
  {
   "cell_type": "code",
   "execution_count": 7,
   "metadata": {},
   "outputs": [],
   "source": [
    "r_set = set()\n",
    "for node in G.nodes:\n",
    "    r_set.add(G.nodes[node]['r'])"
   ]
  },
  {
   "cell_type": "code",
   "execution_count": 8,
   "metadata": {},
   "outputs": [
    {
     "data": {
      "text/plain": [
       "{0,\n",
       " 1,\n",
       " 2,\n",
       " 3,\n",
       " 4,\n",
       " 5,\n",
       " 6,\n",
       " 7,\n",
       " 8,\n",
       " 9,\n",
       " 10,\n",
       " 11,\n",
       " 12,\n",
       " 13,\n",
       " 14,\n",
       " 15,\n",
       " 16,\n",
       " 17,\n",
       " 18,\n",
       " 19,\n",
       " 20,\n",
       " 21,\n",
       " 22,\n",
       " 23,\n",
       " 24}"
      ]
     },
     "execution_count": 8,
     "metadata": {},
     "output_type": "execute_result"
    }
   ],
   "source": [
    "r_set"
   ]
  },
  {
   "cell_type": "code",
   "execution_count": 9,
   "metadata": {},
   "outputs": [],
   "source": [
    "# Conversions\n",
    "r_conversion = ['c00', 'c01', 'c02', 'c03', 'c04', 'c10', 'c11', 'c12', 'c13', 'c14', 'c20', 'c21', 'c22', 'c23', 'c24', 'c30', 'c31', 'c32', 'c33', 'c34', 'c40', 'c41', 'c42', 'c43', 'c44'] # TODO: Double check this conversion\n",
    "for node in G.nodes:\n",
    "    assert G.nodes[node]['r'] < len(r_conversion), G.nodes[node]['r']\n",
    "    G.nodes[node]['r'] = r_conversion[G.nodes[node]['r']]"
   ]
  },
  {
   "cell_type": "code",
   "execution_count": 10,
   "metadata": {},
   "outputs": [],
   "source": [
    "# Removing nodes that violate the environment's safety"
   ]
  },
  {
   "cell_type": "code",
   "execution_count": 11,
   "metadata": {},
   "outputs": [
    {
     "name": "stderr",
     "output_type": "stream",
     "text": [
      "MovieWriter ffmpeg unavailable; using Pillow instead.\n"
     ]
    },
    {
     "data": {
      "image/png": "[encoded data removed]",
      "text/plain": [
       "<Figure size 640x480 with 1 Axes>"
      ]
     },
     "metadata": {},
     "output_type": "display_data"
    }
   ],
   "source": [
    "# Running the test that greedily picks the next state with the most unsafe \n",
    "# nodes\n",
    "title = \"Memoryless Most Red\"\n",
    "num_red_sys_metric = hard_tests.find_num_red_successors(G)\n",
    "b_signal, trajectory = patrolling_car_tests.rand_test_with_metric(G, 0, hard_tests.memoryless_max_metric, num_red_sys_metric, 30)\n",
    "patrolling_car_tests.animate_test(ctrl, b_signal, title)"
   ]
  },
  {
   "cell_type": "code",
   "execution_count": 12,
   "metadata": {},
   "outputs": [
    {
     "name": "stderr",
     "output_type": "stream",
     "text": [
      "MovieWriter ffmpeg unavailable; using Pillow instead.\n"
     ]
    },
    {
     "data": {
      "image/png": "[encoded data removed]",
      "text/plain": [
       "<Figure size 640x480 with 1 Axes>"
      ]
     },
     "metadata": {},
     "output_type": "display_data"
    }
   ],
   "source": [
    "# Running the test that greedily picks the next state with the most unsafe \n",
    "# nodes\n",
    "title = \"Memoryless Percent Red\"\n",
    "percent_red_sys_metric = hard_tests.find_percent_red_successors(G)\n",
    "b_signal, trajectory = patrolling_car_tests.rand_test_with_metric(G, 0, hard_tests.memoryless_max_metric, percent_red_sys_metric, 30)\n",
    "patrolling_car_tests.animate_test(ctrl, b_signal, title)"
   ]
  },
  {
   "cell_type": "code",
   "execution_count": 13,
   "metadata": {},
   "outputs": [
    {
     "name": "stderr",
     "output_type": "stream",
     "text": [
      "MovieWriter ffmpeg unavailable; using Pillow instead.\n"
     ]
    },
    {
     "data": {
      "image/png": "[encoded data removed]",
      "text/plain": [
       "<Figure size 640x480 with 1 Axes>"
      ]
     },
     "metadata": {},
     "output_type": "display_data"
    }
   ],
   "source": [
    "title = \"Memoryless Min Robustness - Minimizing\"\n",
    "min_robustness_env_metric = hard_tests.find_min_robustness(G)\n",
    "b_signal, trajectory = patrolling_car_tests.rand_test_with_metric(G, 0, hard_tests.memoryless_robustness_minimization, min_robustness_env_metric, 30)\n",
    "patrolling_car_tests.animate_test(ctrl, b_signal, title)"
   ]
  },
  {
   "cell_type": "code",
   "execution_count": 14,
   "metadata": {},
   "outputs": [
    {
     "name": "stderr",
     "output_type": "stream",
     "text": [
      "MovieWriter ffmpeg unavailable; using Pillow instead.\n"
     ]
    },
    {
     "data": {
      "image/png": "[encoded data removed]",
      "text/plain": [
       "<Figure size 640x480 with 1 Axes>"
      ]
     },
     "metadata": {},
     "output_type": "display_data"
    }
   ],
   "source": [
    "title = \"Memoryless Average Robustness - Minimizing\"\n",
    "avg_robustness_env_metric = hard_tests.find_avg_robustness(G)\n",
    "b_signal, trajectory = patrolling_car_tests.rand_test_with_metric(G, 0, hard_tests.memoryless_robustness_minimization, avg_robustness_env_metric, 30)\n",
    "patrolling_car_tests.animate_test(ctrl, b_signal, title)"
   ]
  },
  {
   "cell_type": "code",
   "execution_count": 15,
   "metadata": {},
   "outputs": [
    {
     "name": "stderr",
     "output_type": "stream",
     "text": [
      "MovieWriter ffmpeg unavailable; using Pillow instead.\n"
     ]
    },
    {
     "data": {
      "image/png": "[encoded data removed]",
      "text/plain": [
       "<Figure size 640x480 with 1 Axes>"
      ]
     },
     "metadata": {},
     "output_type": "display_data"
    }
   ],
   "source": [
    "title = \"Memoryless Min Robustness - Averaging\"\n",
    "# min_robustness_env_metric = hard_tests.find_min_robustness(G)\n",
    "b_signal, trajectory = patrolling_car_tests.rand_test_with_metric(G, 0, hard_tests.memoryless_robustness_averaging, min_robustness_env_metric, 30)\n",
    "patrolling_car_tests.animate_test(ctrl, b_signal, title)"
   ]
  },
  {
   "cell_type": "code",
   "execution_count": 16,
   "metadata": {},
   "outputs": [
    {
     "name": "stderr",
     "output_type": "stream",
     "text": [
      "MovieWriter ffmpeg unavailable; using Pillow instead.\n"
     ]
    },
    {
     "data": {
      "image/png": "[encoded data removed]",
      "text/plain": [
       "<Figure size 640x480 with 1 Axes>"
      ]
     },
     "metadata": {},
     "output_type": "display_data"
    }
   ],
   "source": [
    "title = \"Memoryless Average Robustness - Averaging\"\n",
    "# avg_robustness_env_metric = hard_tests.find_avg_robustness(G)\n",
    "b_signal, trajectory = patrolling_car_tests.rand_test_with_metric(G, 0, hard_tests.memoryless_robustness_averaging, avg_robustness_env_metric, 30)\n",
    "patrolling_car_tests.animate_test(ctrl, b_signal, title)"
   ]
  },
  {
   "cell_type": "markdown",
   "metadata": {},
   "source": [
    "# Creating the Potential Hard Tests"
   ]
  },
  {
   "cell_type": "markdown",
   "metadata": {},
   "source": [
    "## Memoryless Most Red"
   ]
  },
  {
   "cell_type": "code",
   "execution_count": 17,
   "metadata": {},
   "outputs": [],
   "source": [
    "num_red_sys_metric = hard_tests.find_num_red_successors(G)"
   ]
  },
  {
   "cell_type": "code",
   "execution_count": 18,
   "metadata": {},
   "outputs": [],
   "source": [
    "memoryless_most_red = hard_tests.memoryless_max_metric(G, num_red_sys_metric)"
   ]
  },
  {
   "cell_type": "markdown",
   "metadata": {},
   "source": [
    "# Memoryless Percent Red"
   ]
  },
  {
   "cell_type": "code",
   "execution_count": 19,
   "metadata": {},
   "outputs": [],
   "source": [
    "percent_red_sys_metric = hard_tests.find_percent_red_successors(G)"
   ]
  },
  {
   "cell_type": "code",
   "execution_count": 20,
   "metadata": {},
   "outputs": [],
   "source": [
    "memoryless_percent_red = hard_tests.memoryless_max_metric(G, percent_red_sys_metric)"
   ]
  },
  {
   "cell_type": "markdown",
   "metadata": {},
   "source": [
    "## Memoryless Min Robustness - Minimizing "
   ]
  },
  {
   "cell_type": "code",
   "execution_count": 21,
   "metadata": {},
   "outputs": [],
   "source": [
    "min_robustness_env_metric = hard_tests.find_min_robustness(G)"
   ]
  },
  {
   "cell_type": "code",
   "execution_count": 22,
   "metadata": {},
   "outputs": [],
   "source": [
    "memoryless_min_rob_minimizing = hard_tests.memoryless_robustness_minimization(G, min_robustness_env_metric)"
   ]
  },
  {
   "cell_type": "markdown",
   "metadata": {},
   "source": [
    "## Memoryless Average Robustness - Minimizing"
   ]
  },
  {
   "cell_type": "code",
   "execution_count": 23,
   "metadata": {},
   "outputs": [
    {
     "ename": "KeyboardInterrupt",
     "evalue": "",
     "output_type": "error",
     "traceback": [
      "\u001b[0;31m---------------------------------------------------------------------------\u001b[0m",
      "\u001b[0;31mKeyboardInterrupt\u001b[0m                         Traceback (most recent call last)",
      "\u001b[1;32m/Users/kimiahassibi/Desktop/Caltech/SURF2023/GR1_simulations/patrolling_car_tests.ipynb Cell 28\u001b[0m line \u001b[0;36m1\n\u001b[0;32m----> <a href='vscode-notebook-cell:/Users/kimiahassibi/Desktop/Caltech/SURF2023/GR1_simulations/patrolling_car_tests.ipynb#X33sZmlsZQ%3D%3D?line=0'>1</a>\u001b[0m avg_robustness_env_metric \u001b[39m=\u001b[39m hard_tests\u001b[39m.\u001b[39;49mfind_avg_robustness(G)\n",
      "File \u001b[0;32m~/Desktop/Caltech/SURF2023/GR1_simulations/hard_tests.py:119\u001b[0m, in \u001b[0;36mfind_avg_robustness\u001b[0;34m(g)\u001b[0m\n\u001b[1;32m    117\u001b[0m     \u001b[39mfor\u001b[39;00m red \u001b[39min\u001b[39;00m red_nodes:\n\u001b[1;32m    118\u001b[0m         \u001b[39mif\u001b[39;00m nx\u001b[39m.\u001b[39mhas_path(g, node, red):\n\u001b[0;32m--> 119\u001b[0m             \u001b[39msum\u001b[39m \u001b[39m+\u001b[39m\u001b[39m=\u001b[39m nx\u001b[39m.\u001b[39;49mshortest_path_length(g, source\u001b[39m=\u001b[39;49mnode, target\u001b[39m=\u001b[39;49mred) \u001b[39m/\u001b[39m \u001b[39m2\u001b[39m\n\u001b[1;32m    120\u001b[0m     robustness[node] \u001b[39m=\u001b[39m \u001b[39msum\u001b[39m \u001b[39m/\u001b[39m num_red\n\u001b[1;32m    122\u001b[0m \u001b[39mreturn\u001b[39;00m robustness\n",
      "File \u001b[0;32m~/Desktop/Caltech/SURF2023/env/lib/python3.8/site-packages/networkx/algorithms/shortest_paths/generic.py:312\u001b[0m, in \u001b[0;36mshortest_path_length\u001b[0;34m(G, source, target, weight, method)\u001b[0m\n\u001b[1;32m    309\u001b[0m \u001b[39melse\u001b[39;00m:\n\u001b[1;32m    310\u001b[0m     \u001b[39m# Find shortest source-target path.\u001b[39;00m\n\u001b[1;32m    311\u001b[0m     \u001b[39mif\u001b[39;00m method \u001b[39m==\u001b[39m \u001b[39m'\u001b[39m\u001b[39munweighted\u001b[39m\u001b[39m'\u001b[39m:\n\u001b[0;32m--> 312\u001b[0m         p \u001b[39m=\u001b[39m nx\u001b[39m.\u001b[39;49mbidirectional_shortest_path(G, source, target)\n\u001b[1;32m    313\u001b[0m         paths \u001b[39m=\u001b[39m \u001b[39mlen\u001b[39m(p) \u001b[39m-\u001b[39m \u001b[39m1\u001b[39m\n\u001b[1;32m    314\u001b[0m     \u001b[39melif\u001b[39;00m method \u001b[39m==\u001b[39m \u001b[39m'\u001b[39m\u001b[39mdijkstra\u001b[39m\u001b[39m'\u001b[39m:\n",
      "File \u001b[0;32m~/Desktop/Caltech/SURF2023/env/lib/python3.8/site-packages/networkx/algorithms/shortest_paths/unweighted.py:226\u001b[0m, in \u001b[0;36mbidirectional_shortest_path\u001b[0;34m(G, source, target)\u001b[0m\n\u001b[1;32m    223\u001b[0m     \u001b[39mraise\u001b[39;00m nx\u001b[39m.\u001b[39mNodeNotFound(msg\u001b[39m.\u001b[39mformat(source, target))\n\u001b[1;32m    225\u001b[0m \u001b[39m# call helper to do the real work\u001b[39;00m\n\u001b[0;32m--> 226\u001b[0m results \u001b[39m=\u001b[39m _bidirectional_pred_succ(G, source, target)\n\u001b[1;32m    227\u001b[0m pred, succ, w \u001b[39m=\u001b[39m results\n\u001b[1;32m    229\u001b[0m \u001b[39m# build path from pred+w+succ\u001b[39;00m\n",
      "File \u001b[0;32m~/Desktop/Caltech/SURF2023/env/lib/python3.8/site-packages/networkx/algorithms/shortest_paths/unweighted.py:281\u001b[0m, in \u001b[0;36m_bidirectional_pred_succ\u001b[0;34m(G, source, target)\u001b[0m\n\u001b[1;32m    279\u001b[0m                 forward_fringe\u001b[39m.\u001b[39mappend(w)\n\u001b[1;32m    280\u001b[0m                 pred[w] \u001b[39m=\u001b[39m v\n\u001b[0;32m--> 281\u001b[0m             \u001b[39mif\u001b[39;00m w \u001b[39min\u001b[39;49;00m succ:  \u001b[39m# path found\u001b[39;00m\n\u001b[1;32m    282\u001b[0m                 \u001b[39mreturn\u001b[39;00m pred, succ, w\n\u001b[1;32m    283\u001b[0m \u001b[39melse\u001b[39;00m:\n",
      "\u001b[0;31mKeyboardInterrupt\u001b[0m: "
     ]
    }
   ],
   "source": [
    "# avg_robustness_env_metric = hard_tests.find_avg_robustness(G)"
   ]
  },
  {
   "cell_type": "code",
   "execution_count": 24,
   "metadata": {},
   "outputs": [],
   "source": [
    "memoryless_avg_rob_minimizing = hard_tests.memoryless_robustness_minimization(G, avg_robustness_env_metric)"
   ]
  },
  {
   "cell_type": "markdown",
   "metadata": {},
   "source": [
    "## Memoryless Min Robustness - Averaging"
   ]
  },
  {
   "cell_type": "code",
   "execution_count": null,
   "metadata": {},
   "outputs": [],
   "source": [
    "# min_robustness_env_metric = hard_tests.find_min_robustness(G)"
   ]
  },
  {
   "cell_type": "code",
   "execution_count": 25,
   "metadata": {},
   "outputs": [],
   "source": [
    "memoryless_min_rob_averaging = hard_tests.memoryless_robustness_averaging(G, min_robustness_env_metric)"
   ]
  },
  {
   "cell_type": "markdown",
   "metadata": {},
   "source": [
    "## Memoryless Average Robustness - Averaging"
   ]
  },
  {
   "cell_type": "code",
   "execution_count": null,
   "metadata": {},
   "outputs": [],
   "source": [
    "# avg_robustness_env_metric = hard_tests.find_avg_robustness(G)"
   ]
  },
  {
   "cell_type": "code",
   "execution_count": 26,
   "metadata": {},
   "outputs": [],
   "source": [
    "memoryless_avg_rob_averaging = hard_tests.memoryless_robustness_averaging(G, avg_robustness_env_metric)"
   ]
  },
  {
   "cell_type": "markdown",
   "metadata": {},
   "source": [
    "# Comparing Tests"
   ]
  },
  {
   "cell_type": "code",
   "execution_count": 27,
   "metadata": {},
   "outputs": [
    {
     "data": {
      "text/plain": [
       "False"
      ]
     },
     "execution_count": 27,
     "metadata": {},
     "output_type": "execute_result"
    }
   ],
   "source": [
    "memoryless_most_red == memoryless_percent_red"
   ]
  },
  {
   "cell_type": "code",
   "execution_count": 28,
   "metadata": {},
   "outputs": [
    {
     "data": {
      "text/plain": [
       "True"
      ]
     },
     "execution_count": 28,
     "metadata": {},
     "output_type": "execute_result"
    }
   ],
   "source": [
    "memoryless_avg_rob_minimizing == memoryless_min_rob_minimizing"
   ]
  },
  {
   "cell_type": "code",
   "execution_count": 29,
   "metadata": {},
   "outputs": [
    {
     "data": {
      "text/plain": [
       "True"
      ]
     },
     "execution_count": 29,
     "metadata": {},
     "output_type": "execute_result"
    }
   ],
   "source": [
    "memoryless_avg_rob_averaging == memoryless_min_rob_averaging"
   ]
  },
  {
   "cell_type": "code",
   "execution_count": 30,
   "metadata": {},
   "outputs": [
    {
     "data": {
      "text/plain": [
       "True"
      ]
     },
     "execution_count": 30,
     "metadata": {},
     "output_type": "execute_result"
    }
   ],
   "source": [
    "memoryless_min_rob_minimizing == memoryless_min_rob_averaging"
   ]
  },
  {
   "cell_type": "code",
   "execution_count": 31,
   "metadata": {},
   "outputs": [
    {
     "data": {
      "text/plain": [
       "True"
      ]
     },
     "execution_count": 31,
     "metadata": {},
     "output_type": "execute_result"
    }
   ],
   "source": [
    "memoryless_avg_rob_minimizing == memoryless_avg_rob_averaging"
   ]
  },
  {
   "cell_type": "markdown",
   "metadata": {},
   "source": [
    "# Number of Transitions"
   ]
  },
  {
   "cell_type": "code",
   "execution_count": 32,
   "metadata": {},
   "outputs": [
    {
     "ename": "AssertionError",
     "evalue": "",
     "output_type": "error",
     "traceback": [
      "\u001b[0;31m---------------------------------------------------------------------------\u001b[0m",
      "\u001b[0;31mAssertionError\u001b[0m                            Traceback (most recent call last)",
      "\u001b[1;32m/Users/kimiahassibi/Desktop/Caltech/SURF2023/GR1_simulations/patrolling_car_tests.ipynb Cell 43\u001b[0m line \u001b[0;36m2\n\u001b[1;32m      <a href='vscode-notebook-cell:/Users/kimiahassibi/Desktop/Caltech/SURF2023/GR1_simulations/patrolling_car_tests.ipynb#X54sZmlsZQ%3D%3D?line=0'>1</a>\u001b[0m \u001b[39mfor\u001b[39;00m key, val \u001b[39min\u001b[39;00m memoryless_most_red\u001b[39m.\u001b[39mitems():\n\u001b[0;32m----> <a href='vscode-notebook-cell:/Users/kimiahassibi/Desktop/Caltech/SURF2023/GR1_simulations/patrolling_car_tests.ipynb#X54sZmlsZQ%3D%3D?line=1'>2</a>\u001b[0m     \u001b[39massert\u001b[39;00m(\u001b[39mlen\u001b[39m(val) \u001b[39m==\u001b[39m \u001b[39m1\u001b[39m)\n",
      "\u001b[0;31mAssertionError\u001b[0m: "
     ]
    }
   ],
   "source": [
    "for key, val in memoryless_most_red.items():\n",
    "    assert(len(val) == 1)"
   ]
  },
  {
   "cell_type": "code",
   "execution_count": null,
   "metadata": {},
   "outputs": [],
   "source": [
    "for key, val in memoryless_percent_red.items():\n",
    "    assert(len(val) == 1)"
   ]
  },
  {
   "cell_type": "code",
   "execution_count": null,
   "metadata": {},
   "outputs": [],
   "source": [
    "for key, val in memoryless_min_rob_minimizing.items():\n",
    "    assert(len(val) == 1)"
   ]
  },
  {
   "cell_type": "code",
   "execution_count": null,
   "metadata": {},
   "outputs": [],
   "source": [
    "for key, val in memoryless_avg_rob_minimizing.items():\n",
    "    assert(len(val) == 1)"
   ]
  },
  {
   "cell_type": "code",
   "execution_count": null,
   "metadata": {},
   "outputs": [],
   "source": [
    "for key, val in memoryless_min_rob_averaging.items():\n",
    "    assert(len(val) == 1)"
   ]
  },
  {
   "cell_type": "code",
   "execution_count": null,
   "metadata": {},
   "outputs": [],
   "source": [
    "for key, val in memoryless_avg_rob_averaging.items():\n",
    "    assert(len(val) == 1)"
   ]
  },
  {
   "cell_type": "code",
   "execution_count": null,
   "metadata": {},
   "outputs": [],
   "source": []
  }
 ],
 "metadata": {
  "kernelspec": {
   "display_name": "env",
   "language": "python",
   "name": "python3"
  },
  "language_info": {
   "codemirror_mode": {
    "name": "ipython",
    "version": 3
   },
   "file_extension": ".py",
   "mimetype": "text/x-python",
   "name": "python",
   "nbconvert_exporter": "python",
   "pygments_lexer": "ipython3",
   "version": "3.8.16"
  },
  "orig_nbformat": 4
 },
 "nbformat": 4,
 "nbformat_minor": 2
}
