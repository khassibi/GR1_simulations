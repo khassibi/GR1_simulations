{
 "cells": [
  {
   "cell_type": "code",
   "execution_count": 1,
   "metadata": {},
   "outputs": [
    {
     "name": "stderr",
     "output_type": "stream",
     "text": [
      "/Users/kimiahassibi/Desktop/Caltech/SURF2023/env/lib/python3.8/site-packages/tulip-1.4.0-py3.8.egg/tulip/transys/mathset.py:719: SyntaxWarning: \"is\" with a literal. Did you mean \"==\"?\n",
      "/Users/kimiahassibi/Desktop/Caltech/SURF2023/env/lib/python3.8/site-packages/tulip-1.4.0-py3.8.egg/tulip/transys/mathset.py:719: SyntaxWarning: \"is\" with a literal. Did you mean \"==\"?\n",
      "/Users/kimiahassibi/Desktop/Caltech/SURF2023/env/lib/python3.8/site-packages/tulip-1.4.0-py3.8.egg/tulip/transys/labeled_graphs.py:1218: SyntaxWarning: \"is\" with a literal. Did you mean \"==\"?\n",
      "/Users/kimiahassibi/Desktop/Caltech/SURF2023/env/lib/python3.8/site-packages/tulip-1.4.0-py3.8.egg/tulip/transys/labeled_graphs.py:1226: SyntaxWarning: \"is\" with a literal. Did you mean \"==\"?\n",
      "/Users/kimiahassibi/Desktop/Caltech/SURF2023/env/lib/python3.8/site-packages/tulip-1.4.0-py3.8.egg/tulip/transys/labeled_graphs.py:1218: SyntaxWarning: \"is\" with a literal. Did you mean \"==\"?\n",
      "/Users/kimiahassibi/Desktop/Caltech/SURF2023/env/lib/python3.8/site-packages/tulip-1.4.0-py3.8.egg/tulip/transys/labeled_graphs.py:1226: SyntaxWarning: \"is\" with a literal. Did you mean \"==\"?\n",
      "/Users/kimiahassibi/Desktop/Caltech/SURF2023/env/lib/python3.8/site-packages/tulip-1.4.0-py3.8.egg/tulip/transys/transys.py:765: SyntaxWarning: \"is not\" with a literal. Did you mean \"!=\"?\n",
      "/Users/kimiahassibi/Desktop/Caltech/SURF2023/env/lib/python3.8/site-packages/tulip-1.4.0-py3.8.egg/tulip/transys/transys.py:765: SyntaxWarning: \"is not\" with a literal. Did you mean \"!=\"?\n",
      "/Users/kimiahassibi/Desktop/Caltech/SURF2023/env/lib/python3.8/site-packages/tulip-1.4.0-py3.8.egg/tulip/synth.py:161: SyntaxWarning: \"is\" with a literal. Did you mean \"==\"?\n",
      "/Users/kimiahassibi/Desktop/Caltech/SURF2023/env/lib/python3.8/site-packages/tulip-1.4.0-py3.8.egg/tulip/synth.py:161: SyntaxWarning: \"is\" with a literal. Did you mean \"==\"?\n",
      "`omega.symbolic.symbolic` failed to import `dd.cudd`.\n",
      "Will use `dd.autoref`.\n"
     ]
    }
   ],
   "source": [
    "from left_turn_pedestrian.controller import sys_ctrl\n",
    "import pickle\n",
    "import hard_tests\n",
    "import random\n",
    "import visualization.animate as animate\n",
    "\n",
    "import tulip as tlp\n",
    "from tulip import transys, abstract, spec, synth\n",
    "from IPython.display import HTML\n",
    "\n",
    "import networkx as nx\n",
    "\n",
    "import left_turn_pedestrian_tests"
   ]
  },
  {
   "cell_type": "code",
   "execution_count": 2,
   "metadata": {},
   "outputs": [],
   "source": [
    "path = 'left_turn_pedestrian/'"
   ]
  },
  {
   "cell_type": "markdown",
   "metadata": {},
   "source": [
    "# Organizing the Graph"
   ]
  },
  {
   "cell_type": "code",
   "execution_count": 3,
   "metadata": {},
   "outputs": [],
   "source": [
    "# Load the graph from the saved file\n",
    "with open(path + 'graph', \"rb\") as file:\n",
    "    G = pickle.load(file)"
   ]
  },
  {
   "cell_type": "code",
   "execution_count": 4,
   "metadata": {},
   "outputs": [],
   "source": [
    "# Load the system controller from the saved file\n",
    "with open(path + \"ctrl\", \"rb\") as file:\n",
    "    ctrl = pickle.load(file)"
   ]
  },
  {
   "cell_type": "code",
   "execution_count": 5,
   "metadata": {},
   "outputs": [],
   "source": [
    "# Labeling the nodes like system nodes\n",
    "for edge in ctrl.edges:\n",
    "    for (key, val) in ctrl.edges[edge].items():\n",
    "        ctrl.nodes[edge[1]][key] = val"
   ]
  },
  {
   "cell_type": "code",
   "execution_count": 6,
   "metadata": {},
   "outputs": [],
   "source": [
    "# Conversions\n",
    "light_conversion = [\"g1\", \"g2\", \"g3\", \"y1\", \"y2\", \"r\"] # TODO: Double check this conversion\n",
    "loc_conversion = ['c4', 'c7', 'c8', 'c9']\n",
    "for node in G.nodes:\n",
    "    G.nodes[node]['loc'] = loc_conversion[G.nodes[node]['loc']]\n",
    "    G.nodes[node]['light'] = light_conversion[G.nodes[node]['light']]"
   ]
  },
  {
   "cell_type": "code",
   "execution_count": 7,
   "metadata": {},
   "outputs": [
    {
     "data": {
      "text/plain": [
       "834"
      ]
     },
     "execution_count": 7,
     "metadata": {},
     "output_type": "execute_result"
    }
   ],
   "source": [
    "len(G.nodes)"
   ]
  },
  {
   "cell_type": "code",
   "execution_count": 8,
   "metadata": {},
   "outputs": [],
   "source": [
    "# Removing nodes that violate the environment's safety\n",
    "unsafe_env_nodes = set()\n",
    "for node in G.nodes:\n",
    "    if G.nodes[node]['light'] == 'r':\n",
    "        if (G.nodes[node]['p'] == 4 or G.nodes[node]['vh'] == 4 \n",
    "        or G.nodes[node]['p'] == 5 or G.nodes[node]['vh'] == 5):\n",
    "            unsafe_env_nodes.add(node)\n",
    "    if G.nodes[node]['light'] == 'y2':\n",
    "        if G.nodes[node]['p'] == 4 or G.nodes[node]['vh'] == 4:\n",
    "            unsafe_env_nodes.add(node)\n",
    "G.remove_nodes_from(unsafe_env_nodes)"
   ]
  },
  {
   "cell_type": "code",
   "execution_count": 9,
   "metadata": {},
   "outputs": [
    {
     "data": {
      "text/plain": [
       "658"
      ]
     },
     "execution_count": 9,
     "metadata": {},
     "output_type": "execute_result"
    }
   ],
   "source": [
    "len(G.nodes)"
   ]
  },
  {
   "cell_type": "code",
   "execution_count": 10,
   "metadata": {},
   "outputs": [],
   "source": [
    "# Relabeling the nodes in order\n",
    "nodes = list(G.nodes)\n",
    "new_labels = list(range(len(nodes)))\n",
    "mapping = dict(zip(nodes, new_labels))\n",
    "G = nx.relabel_nodes(G, mapping)"
   ]
  },
  {
   "cell_type": "markdown",
   "metadata": {},
   "source": [
    "# Creating the Potential Hard Tests"
   ]
  },
  {
   "cell_type": "markdown",
   "metadata": {},
   "source": [
    "## Memoryless Most Red"
   ]
  },
  {
   "cell_type": "code",
   "execution_count": 11,
   "metadata": {},
   "outputs": [],
   "source": [
    "num_red_sys_metric = hard_tests.find_num_red_successors(G)"
   ]
  },
  {
   "cell_type": "code",
   "execution_count": 12,
   "metadata": {},
   "outputs": [],
   "source": [
    "memoryless_most_red = hard_tests.memoryless_max_metric(G, num_red_sys_metric)"
   ]
  },
  {
   "cell_type": "markdown",
   "metadata": {},
   "source": [
    "# Memoryless Percent Red"
   ]
  },
  {
   "cell_type": "code",
   "execution_count": 13,
   "metadata": {},
   "outputs": [],
   "source": [
    "percent_red_sys_metric = hard_tests.find_percent_red_successors(G)"
   ]
  },
  {
   "cell_type": "code",
   "execution_count": 14,
   "metadata": {},
   "outputs": [],
   "source": [
    "memoryless_percent_red = hard_tests.memoryless_max_metric(G, percent_red_sys_metric)"
   ]
  },
  {
   "cell_type": "code",
   "execution_count": 15,
   "metadata": {},
   "outputs": [
    {
     "data": {
      "text/plain": [
       "{0: [1, 4, 7, 10],\n",
       " 2: [653, 496],\n",
       " 3: [520, 19, 605, 421],\n",
       " 5: [248, 283, 496],\n",
       " 6: [13, 262, 19, 421],\n",
       " 8: [653, 496],\n",
       " 9: [520, 19, 523, 22],\n",
       " 11: [248, 252, 496],\n",
       " 12: [13, 16, 19, 22],\n",
       " 14: [292, 228, 281],\n",
       " 15: [25, 73, 276, 234],\n",
       " 17: [292, 228, 510],\n",
       " 18: [25, 73, 28, 76],\n",
       " 20: [292, 281, 497],\n",
       " 21: [25, 276, 31, 427],\n",
       " 23: [292, 510, 497],\n",
       " 24: [25, 28, 31, 34],\n",
       " 26: [226],\n",
       " 27: [223],\n",
       " 29: [221],\n",
       " 30: [82],\n",
       " 32: [480],\n",
       " 33: [433],\n",
       " 35: [517],\n",
       " 36: [37],\n",
       " 38: [],\n",
       " 39: [40],\n",
       " 41: [],\n",
       " 42: [43, 46, 49, 52],\n",
       " 44: [294, 504, 490],\n",
       " 45: [55, 498, 409, 511],\n",
       " 47: [294, 504, 296],\n",
       " 48: [55, 498, 58, 501],\n",
       " 50: [294, 490, 298],\n",
       " 51: [55, 409, 4, 412],\n",
       " 53: [294, 296, 298],\n",
       " 54: [55, 58, 4, 10],\n",
       " 56: [248, 250, 283],\n",
       " 57: [13, 61, 262, 265],\n",
       " 59: [248, 250, 252],\n",
       " 60: [13, 61, 16, 64],\n",
       " 62: [106, 228],\n",
       " 63: [67, 154, 73, 234],\n",
       " 65: [106, 228],\n",
       " 66: [67, 70, 73, 76],\n",
       " 68: [191],\n",
       " 69: [160],\n",
       " 71: [220],\n",
       " 72: [79],\n",
       " 74: [191, 226],\n",
       " 75: [160, 223],\n",
       " 77: [220, 221],\n",
       " 78: [79, 82],\n",
       " 80: [],\n",
       " 81: [85],\n",
       " 83: [],\n",
       " 84: [85],\n",
       " 86: [],\n",
       " 87: [88, 91],\n",
       " 89: [208],\n",
       " 90: [94, 214],\n",
       " 92: [208],\n",
       " 93: [94, 97],\n",
       " 95: [196],\n",
       " 96: [100, 202],\n",
       " 98: [196],\n",
       " 99: [100, 103],\n",
       " 101: [106],\n",
       " 102: [67, 154],\n",
       " 104: [106],\n",
       " 105: [67, 70],\n",
       " 107: [],\n",
       " 109: [110],\n",
       " 111: [133],\n",
       " 112: [113],\n",
       " 114: [116, 118],\n",
       " 115: [],\n",
       " 117: [120, 152],\n",
       " 119: [120, 122],\n",
       " 121: [124, 150],\n",
       " 123: [124, 126],\n",
       " 125: [128, 148],\n",
       " 127: [128, 130],\n",
       " 129: [134],\n",
       " 131: [132],\n",
       " 135: [136],\n",
       " 137: [138],\n",
       " 139: [140],\n",
       " 141: [142],\n",
       " 143: [144],\n",
       " 145: [146],\n",
       " 147: [136],\n",
       " 149: [146, 134],\n",
       " 151: [144, 148],\n",
       " 153: [142, 150],\n",
       " 155: [178, 191],\n",
       " 156: [157, 160],\n",
       " 158: [],\n",
       " 159: [163],\n",
       " 161: [],\n",
       " 162: [163],\n",
       " 164: [],\n",
       " 165: [166],\n",
       " 167: [188],\n",
       " 168: [169],\n",
       " 170: [185],\n",
       " 171: [172],\n",
       " 173: [182],\n",
       " 174: [175],\n",
       " 176: [178],\n",
       " 177: [157],\n",
       " 179: [180],\n",
       " 181: [],\n",
       " 183: [184],\n",
       " 186: [187],\n",
       " 189: [190],\n",
       " 192: [180],\n",
       " 194: [184, 195],\n",
       " 197: [],\n",
       " 199: [200],\n",
       " 203: [182, 193],\n",
       " 204: [175, 154],\n",
       " 206: [187, 207],\n",
       " 209: [],\n",
       " 211: [212],\n",
       " 215: [185, 205],\n",
       " 216: [172, 202],\n",
       " 218: [190, 219],\n",
       " 222: [113],\n",
       " 224: [],\n",
       " 225: [163],\n",
       " 227: [180],\n",
       " 229: [],\n",
       " 231: [110, 232],\n",
       " 233: [133],\n",
       " 235: [178, 191, 240, 226],\n",
       " 236: [157, 160, 237, 223],\n",
       " 238: [],\n",
       " 239: [163],\n",
       " 241: [180],\n",
       " 243: [184, 195, 244, 246],\n",
       " 245: [136],\n",
       " 247: [136],\n",
       " 249: [],\n",
       " 251: [],\n",
       " 253: [],\n",
       " 255: [200, 256],\n",
       " 257: [134, 261],\n",
       " 259: [132, 260],\n",
       " 263: [279, 281],\n",
       " 264: [273, 268, 276, 234],\n",
       " 266: [182, 193, 271, 242],\n",
       " 267: [175, 154, 268, 234],\n",
       " 269: [178, 240],\n",
       " 270: [157, 237],\n",
       " 272: [184, 244],\n",
       " 274: [240],\n",
       " 275: [237],\n",
       " 277: [240, 226],\n",
       " 278: [237, 223],\n",
       " 280: [],\n",
       " 282: [],\n",
       " 284: [],\n",
       " 286: [187, 207, 287, 289],\n",
       " 288: [146, 291],\n",
       " 290: [146, 134, 291, 261],\n",
       " 293: [],\n",
       " 295: [],\n",
       " 297: [],\n",
       " 299: [],\n",
       " 301: [306],\n",
       " 303: [349, 386, 382, 388],\n",
       " 305: [349, 386, 350, 387],\n",
       " 307: [349, 382, 351, 384],\n",
       " 308: [],\n",
       " 310: [349, 350, 351, 352],\n",
       " 311: [312, 314, 317],\n",
       " 313: [261],\n",
       " 315: [260],\n",
       " 316: [],\n",
       " 318: [355],\n",
       " 319: [],\n",
       " 321: [353],\n",
       " 322: [323],\n",
       " 324: [354],\n",
       " 325: [326],\n",
       " 327: [329, 331, 333, 335],\n",
       " 328: [],\n",
       " 330: [337, 403, 399, 407],\n",
       " 332: [337, 403, 339, 405],\n",
       " 334: [337, 399, 341, 401],\n",
       " 336: [337, 339, 341, 343],\n",
       " 338: [345, 393, 389, 397],\n",
       " 340: [345, 393, 346, 395],\n",
       " 342: [345, 389, 347, 391],\n",
       " 344: [345, 346, 347, 348],\n",
       " 356: [357],\n",
       " 358: [359, 361],\n",
       " 360: [363, 380],\n",
       " 362: [363, 365],\n",
       " 364: [367, 378],\n",
       " 366: [367, 369],\n",
       " 368: [371, 377],\n",
       " 370: [371, 373],\n",
       " 372: [291],\n",
       " 374: [375],\n",
       " 376: [357],\n",
       " 379: [144, 377],\n",
       " 381: [142, 378],\n",
       " 383: [291, 261],\n",
       " 385: [375, 355],\n",
       " 390: [371, 377, 382, 388],\n",
       " 392: [371, 382, 373, 384],\n",
       " 394: [128, 148, 386, 388],\n",
       " 396: [128, 130, 386, 387],\n",
       " 398: [144, 148, 377, 388],\n",
       " 400: [367, 378, 389, 397],\n",
       " 402: [367, 389, 369, 391],\n",
       " 404: [124, 150, 393, 397],\n",
       " 406: [124, 126, 393, 395],\n",
       " 408: [142, 150, 378, 397],\n",
       " 410: [451, 283],\n",
       " 411: [415, 462, 262, 265],\n",
       " 413: [451, 283],\n",
       " 414: [415, 262, 418, 421],\n",
       " 416: [279],\n",
       " 417: [273, 268],\n",
       " 419: [279],\n",
       " 420: [273, 424],\n",
       " 422: [279, 281],\n",
       " 423: [273, 276, 424, 427],\n",
       " 425: [479],\n",
       " 426: [430],\n",
       " 428: [479, 480],\n",
       " 429: [430, 433],\n",
       " 431: [],\n",
       " 432: [436],\n",
       " 434: [],\n",
       " 435: [436],\n",
       " 437: [],\n",
       " 438: [439, 442],\n",
       " 440: [467],\n",
       " 441: [445, 473],\n",
       " 443: [467],\n",
       " 444: [445, 448],\n",
       " 446: [451],\n",
       " 447: [415, 462],\n",
       " 449: [451],\n",
       " 450: [415, 418],\n",
       " 452: [],\n",
       " 454: [455],\n",
       " 457: [458],\n",
       " 459: [460],\n",
       " 461: [],\n",
       " 463: [182, 271],\n",
       " 464: [175, 268],\n",
       " 466: [187, 287],\n",
       " 468: [],\n",
       " 470: [471],\n",
       " 474: [185, 465],\n",
       " 475: [172, 462],\n",
       " 477: [190, 478],\n",
       " 481: [460],\n",
       " 484: [458, 485],\n",
       " 487: [455, 488],\n",
       " 491: [],\n",
       " 493: [471, 494],\n",
       " 499: [196, 250],\n",
       " 500: [100, 202, 61, 265],\n",
       " 502: [196, 250],\n",
       " 503: [100, 103, 61, 64],\n",
       " 505: [],\n",
       " 507: [212, 508],\n",
       " 512: [185, 205, 465, 285],\n",
       " 513: [172, 202, 462, 265],\n",
       " 515: [190, 219, 478, 516],\n",
       " 521: [654, 497],\n",
       " 522: [526, 31, 611, 427],\n",
       " 524: [654, 497],\n",
       " 525: [526, 31, 529, 34],\n",
       " 527: [641, 480],\n",
       " 528: [617, 433],\n",
       " 530: [655, 517],\n",
       " 531: [532, 37],\n",
       " 533: [],\n",
       " 534: [535, 40],\n",
       " 536: [],\n",
       " 537: [538, 49, 541, 52],\n",
       " 539: [543, 298],\n",
       " 540: [1, 4, 599, 412],\n",
       " 542: [543, 298],\n",
       " 544: [],\n",
       " 546: [547, 306],\n",
       " 548: [575, 351, 593, 384],\n",
       " 549: [],\n",
       " 551: [575, 351, 576, 352],\n",
       " 552: [553, 317],\n",
       " 554: [579, 355],\n",
       " 555: [],\n",
       " 557: [577, 353],\n",
       " 558: [559, 323],\n",
       " 560: [578, 354],\n",
       " 561: [562, 326],\n",
       " 563: [565, 333, 567, 335],\n",
       " 564: [],\n",
       " 566: [569, 341, 597, 401],\n",
       " 568: [569, 341, 571, 343],\n",
       " 570: [573, 347, 595, 391],\n",
       " 572: [573, 347, 574, 348],\n",
       " 580: [581, 357],\n",
       " 582: [583, 361],\n",
       " 584: [585, 365],\n",
       " 586: [587, 369],\n",
       " 588: [589, 373],\n",
       " 590: [591, 375],\n",
       " 592: [581, 357],\n",
       " 594: [591, 375, 579, 355],\n",
       " 596: [589, 373, 593, 384],\n",
       " 598: [587, 369, 595, 391],\n",
       " 600: [629, 453, 647, 486],\n",
       " 601: [602, 418, 605, 421],\n",
       " 603: [643, 482],\n",
       " 604: [608, 424],\n",
       " 606: [643, 482, 644, 483],\n",
       " 607: [608, 424, 611, 427],\n",
       " 609: [640, 479],\n",
       " 610: [614, 430],\n",
       " 612: [640, 479, 641, 480],\n",
       " 613: [614, 430, 617, 433],\n",
       " 615: [],\n",
       " 616: [620, 436],\n",
       " 618: [],\n",
       " 619: [620, 436],\n",
       " 621: [],\n",
       " 622: [623, 442],\n",
       " 624: [637, 469],\n",
       " 625: [626, 448],\n",
       " 627: [629, 453],\n",
       " 628: [602, 418],\n",
       " 630: [631, 456],\n",
       " 632: [633, 458],\n",
       " 634: [635, 460],\n",
       " 636: [],\n",
       " 638: [639, 472],\n",
       " 642: [635, 460],\n",
       " 645: [633, 458, 646, 485],\n",
       " 648: [631, 456, 649, 489],\n",
       " 651: [639, 472, 652, 495]}"
      ]
     },
     "execution_count": 15,
     "metadata": {},
     "output_type": "execute_result"
    }
   ],
   "source": [
    "memoryless_percent_red"
   ]
  },
  {
   "cell_type": "code",
   "execution_count": 76,
   "metadata": {},
   "outputs": [
    {
     "data": {
      "text/plain": [
       "348"
      ]
     },
     "execution_count": 76,
     "metadata": {},
     "output_type": "execute_result"
    }
   ],
   "source": [
    "len(memoryless_percent_red)"
   ]
  },
  {
   "cell_type": "code",
   "execution_count": 80,
   "metadata": {},
   "outputs": [
    {
     "name": "stdout",
     "output_type": "stream",
     "text": [
      "1.9683908045977012\n"
     ]
    }
   ],
   "source": [
    "sum = 0\n",
    "for lst in memoryless_percent_red.values():\n",
    "    sum += len(lst)\n",
    "avg = sum / len(memoryless_percent_red)\n",
    "print(avg)"
   ]
  },
  {
   "cell_type": "markdown",
   "metadata": {},
   "source": [
    "How many possible tests for maximizing the number of unsafe actions the system can take at the next timestep. This number was found by multiplying the number of equivalent transitions the environment can take at each state."
   ]
  },
  {
   "cell_type": "code",
   "execution_count": 16,
   "metadata": {},
   "outputs": [
    {
     "name": "stdout",
     "output_type": "stream",
     "text": [
      "1548620848130000524767764632836296566897420999429062118970376658266079548350611814218727424 1 1\n"
     ]
    }
   ],
   "source": [
    "num_tests = 1\n",
    "other_prod = 1\n",
    "other_other_prod = 1\n",
    "for val in memoryless_percent_red.values():\n",
    "    if num_tests * len(val) != 0:\n",
    "        num_tests *= len(val)\n",
    "    elif other_prod * len(val) != 0:\n",
    "        other_prod *= len(val)\n",
    "    else:\n",
    "        other_other_prod *= len(val)\n",
    "print(num_tests, other_prod, other_prod)"
   ]
  },
  {
   "cell_type": "markdown",
   "metadata": {},
   "source": [
    "The product of all the transitions the environment can take at each state"
   ]
  },
  {
   "cell_type": "code",
   "execution_count": 17,
   "metadata": {},
   "outputs": [
    {
     "name": "stdout",
     "output_type": "stream",
     "text": [
      "82510189311587271550321771516564456630524805860574954300638357779747406427354829326728095115032650357610735562915840000000000000000000000000000000000000000000000000000000000000000000 1 1\n"
     ]
    }
   ],
   "source": [
    "num_trajectories = 1\n",
    "other_prod = 1\n",
    "other_other_prod = 1\n",
    "env_nodes = [node for node in G.nodes if 'oval' in G.nodes[node]['shape']]\n",
    "for env_node in env_nodes:\n",
    "    if num_trajectories * G.degree(env_node) != 0:\n",
    "        num_trajectories *= G.degree(env_node)\n",
    "    elif other_prod * G.degree(env_node) != 0:\n",
    "        other_prod *= G.degree(env_node)\n",
    "    else:\n",
    "        other_other_prod *= G.degree(env_node)\n",
    "print(num_trajectories, other_prod, other_prod)"
   ]
  },
  {
   "cell_type": "markdown",
   "metadata": {},
   "source": [
    "The ratio of (the number of possible tests for maximizing the number of unsafe actions the system can take at the next timestep) to (the product of all the transitions the environment can take at each state)"
   ]
  },
  {
   "cell_type": "code",
   "execution_count": 18,
   "metadata": {},
   "outputs": [
    {
     "data": {
      "text/plain": [
       "1.8768843715554543e-92"
      ]
     },
     "execution_count": 18,
     "metadata": {},
     "output_type": "execute_result"
    }
   ],
   "source": [
    "1548620848130000524767764632836296566897420999429062118970376658266079548350611814218727424 / 82510189311587271550321771516564456630524805860574954300638357779747406427354829326728095115032650357610735562915840000000000000000000000000000000000000000000000000000000000000000000"
   ]
  },
  {
   "cell_type": "markdown",
   "metadata": {},
   "source": [
    "The ratio of (the number of red nodes in G) to (the total number of nodes in G)"
   ]
  },
  {
   "cell_type": "code",
   "execution_count": 19,
   "metadata": {},
   "outputs": [],
   "source": [
    "red_nodes = [node for node in G.nodes if 'color' in G.nodes[node] and G.nodes[node]['color'] == 'red']"
   ]
  },
  {
   "cell_type": "code",
   "execution_count": 20,
   "metadata": {},
   "outputs": [
    {
     "data": {
      "text/plain": [
       "0.0729483282674772"
      ]
     },
     "execution_count": 20,
     "metadata": {},
     "output_type": "execute_result"
    }
   ],
   "source": [
    "len(red_nodes) / G.number_of_nodes()"
   ]
  },
  {
   "cell_type": "markdown",
   "metadata": {},
   "source": [
    "## Memoryless Min Robustness - Minimizing "
   ]
  },
  {
   "cell_type": "code",
   "execution_count": 21,
   "metadata": {},
   "outputs": [],
   "source": [
    "min_robustness_env_metric = hard_tests.find_min_robustness(G)"
   ]
  },
  {
   "cell_type": "code",
   "execution_count": 22,
   "metadata": {},
   "outputs": [],
   "source": [
    "memoryless_min_rob_minimizing = hard_tests.memoryless_robustness_minimization(G, min_robustness_env_metric)"
   ]
  },
  {
   "cell_type": "markdown",
   "metadata": {},
   "source": [
    "How many possible tests for minimizing robustness. This number was found by multiplying the number of equivalent transitions the environment can take at each state."
   ]
  },
  {
   "cell_type": "code",
   "execution_count": 23,
   "metadata": {},
   "outputs": [
    {
     "name": "stdout",
     "output_type": "stream",
     "text": [
      "1 1 1\n"
     ]
    }
   ],
   "source": [
    "num_tests = 1\n",
    "other_prod = 1\n",
    "other_other_prod = 1\n",
    "for val in memoryless_min_rob_minimizing.values():\n",
    "    if num_tests * len(val) != 0:\n",
    "        num_tests *= len(val)\n",
    "    elif other_prod * len(val) != 0:\n",
    "        other_prod *= len(val)\n",
    "    else:\n",
    "        other_other_prod *= len(val)\n",
    "print(num_tests, other_prod, other_prod)"
   ]
  },
  {
   "cell_type": "code",
   "execution_count": 24,
   "metadata": {},
   "outputs": [
    {
     "data": {
      "text/plain": [
       "{0: [10],\n",
       " 2: [486],\n",
       " 3: [421],\n",
       " 5: [486],\n",
       " 6: [421],\n",
       " 8: [519],\n",
       " 9: [22],\n",
       " 11: [519],\n",
       " 12: [22],\n",
       " 14: [242],\n",
       " 15: [234],\n",
       " 17: [230],\n",
       " 18: [76],\n",
       " 20: [483],\n",
       " 21: [427],\n",
       " 23: [518],\n",
       " 24: [34],\n",
       " 26: [226],\n",
       " 27: [223],\n",
       " 29: [221],\n",
       " 30: [82],\n",
       " 32: [480],\n",
       " 33: [433],\n",
       " 35: [517],\n",
       " 36: [37],\n",
       " 38: [37],\n",
       " 39: [40],\n",
       " 41: [40],\n",
       " 42: [52],\n",
       " 44: [514],\n",
       " 45: [511],\n",
       " 47: [506],\n",
       " 48: [501],\n",
       " 50: [492],\n",
       " 51: [412],\n",
       " 53: [300],\n",
       " 54: [10],\n",
       " 56: [285],\n",
       " 57: [265],\n",
       " 59: [254],\n",
       " 60: [64],\n",
       " 62: [242],\n",
       " 63: [234],\n",
       " 65: [230],\n",
       " 66: [76],\n",
       " 68: [191],\n",
       " 69: [160],\n",
       " 71: [220],\n",
       " 72: [79],\n",
       " 74: [226],\n",
       " 75: [223],\n",
       " 77: [221],\n",
       " 78: [82],\n",
       " 80: [82],\n",
       " 81: [85],\n",
       " 83: [85],\n",
       " 84: [85],\n",
       " 86: [85],\n",
       " 87: [91],\n",
       " 89: [217],\n",
       " 90: [214],\n",
       " 92: [210],\n",
       " 93: [97],\n",
       " 95: [205],\n",
       " 96: [202],\n",
       " 98: [198],\n",
       " 99: [103],\n",
       " 101: [193],\n",
       " 102: [154],\n",
       " 104: [108],\n",
       " 105: [70],\n",
       " 107: [70],\n",
       " 109: [110],\n",
       " 111: [133],\n",
       " 112: [113],\n",
       " 114: [118],\n",
       " 115: [118],\n",
       " 117: [152],\n",
       " 119: [122],\n",
       " 121: [150],\n",
       " 123: [126],\n",
       " 125: [148],\n",
       " 127: [130],\n",
       " 129: [134],\n",
       " 131: [132],\n",
       " 135: [136],\n",
       " 137: [138],\n",
       " 139: [140],\n",
       " 141: [142],\n",
       " 143: [144],\n",
       " 145: [146],\n",
       " 147: [136],\n",
       " 149: [134],\n",
       " 151: [148],\n",
       " 153: [150],\n",
       " 155: [191],\n",
       " 156: [160],\n",
       " 158: [160],\n",
       " 159: [163],\n",
       " 161: [163],\n",
       " 162: [163],\n",
       " 164: [163],\n",
       " 165: [166],\n",
       " 167: [188],\n",
       " 168: [169],\n",
       " 170: [185],\n",
       " 171: [172],\n",
       " 173: [182],\n",
       " 174: [175],\n",
       " 176: [178],\n",
       " 177: [157],\n",
       " 179: [180],\n",
       " 181: [180],\n",
       " 183: [184],\n",
       " 186: [187],\n",
       " 189: [190],\n",
       " 192: [180],\n",
       " 194: [195],\n",
       " 197: [195],\n",
       " 199: [201],\n",
       " 203: [193],\n",
       " 204: [154],\n",
       " 206: [207],\n",
       " 209: [207],\n",
       " 211: [213],\n",
       " 215: [205],\n",
       " 216: [202],\n",
       " 218: [219],\n",
       " 222: [113],\n",
       " 224: [113],\n",
       " 225: [163],\n",
       " 227: [180],\n",
       " 229: [180],\n",
       " 231: [232],\n",
       " 233: [133],\n",
       " 235: [226],\n",
       " 236: [223],\n",
       " 238: [223],\n",
       " 239: [163],\n",
       " 241: [180],\n",
       " 243: [246],\n",
       " 245: [136],\n",
       " 247: [136],\n",
       " 249: [136],\n",
       " 251: [136],\n",
       " 253: [136],\n",
       " 255: [258],\n",
       " 257: [261],\n",
       " 259: [260],\n",
       " 263: [242],\n",
       " 264: [234],\n",
       " 266: [242],\n",
       " 267: [234],\n",
       " 269: [240],\n",
       " 270: [237],\n",
       " 272: [244],\n",
       " 274: [240],\n",
       " 275: [237],\n",
       " 277: [226],\n",
       " 278: [223],\n",
       " 280: [223],\n",
       " 282: [223],\n",
       " 284: [223],\n",
       " 286: [289],\n",
       " 288: [291],\n",
       " 290: [261],\n",
       " 293: [261],\n",
       " 295: [261],\n",
       " 297: [261],\n",
       " 299: [261],\n",
       " 301: [309],\n",
       " 303: [388],\n",
       " 305: [387],\n",
       " 307: [384],\n",
       " 308: [384],\n",
       " 310: [352],\n",
       " 311: [320],\n",
       " 313: [261],\n",
       " 315: [260],\n",
       " 316: [260],\n",
       " 318: [355],\n",
       " 319: [355],\n",
       " 321: [353],\n",
       " 322: [323],\n",
       " 324: [354],\n",
       " 325: [326],\n",
       " 327: [335],\n",
       " 328: [335],\n",
       " 330: [407],\n",
       " 332: [405],\n",
       " 334: [401],\n",
       " 336: [343],\n",
       " 338: [397],\n",
       " 340: [395],\n",
       " 342: [391],\n",
       " 344: [348],\n",
       " 356: [357],\n",
       " 358: [361],\n",
       " 360: [380],\n",
       " 362: [365],\n",
       " 364: [378],\n",
       " 366: [369],\n",
       " 368: [377],\n",
       " 370: [373],\n",
       " 372: [291],\n",
       " 374: [375],\n",
       " 376: [357],\n",
       " 379: [377],\n",
       " 381: [378],\n",
       " 383: [261],\n",
       " 385: [355],\n",
       " 390: [388],\n",
       " 392: [384],\n",
       " 394: [388],\n",
       " 396: [387],\n",
       " 398: [388],\n",
       " 400: [397],\n",
       " 402: [391],\n",
       " 404: [397],\n",
       " 406: [395],\n",
       " 408: [397],\n",
       " 410: [285],\n",
       " 411: [265],\n",
       " 413: [486],\n",
       " 414: [421],\n",
       " 416: [271],\n",
       " 417: [268],\n",
       " 419: [482],\n",
       " 420: [424],\n",
       " 422: [483],\n",
       " 423: [427],\n",
       " 425: [479],\n",
       " 426: [430],\n",
       " 428: [480],\n",
       " 429: [433],\n",
       " 431: [433],\n",
       " 432: [436],\n",
       " 434: [436],\n",
       " 435: [436],\n",
       " 437: [436],\n",
       " 438: [442],\n",
       " 440: [476],\n",
       " 441: [473],\n",
       " 443: [469],\n",
       " 444: [448],\n",
       " 446: [465],\n",
       " 447: [462],\n",
       " 449: [453],\n",
       " 450: [418],\n",
       " 452: [418],\n",
       " 454: [456],\n",
       " 457: [458],\n",
       " 459: [460],\n",
       " 461: [460],\n",
       " 463: [271],\n",
       " 464: [268],\n",
       " 466: [287],\n",
       " 468: [287],\n",
       " 470: [472],\n",
       " 474: [465],\n",
       " 475: [462],\n",
       " 477: [478],\n",
       " 481: [460],\n",
       " 484: [485],\n",
       " 487: [489],\n",
       " 491: [489],\n",
       " 493: [495],\n",
       " 499: [285],\n",
       " 500: [265],\n",
       " 502: [254],\n",
       " 503: [64],\n",
       " 505: [64],\n",
       " 507: [509],\n",
       " 512: [285],\n",
       " 513: [265],\n",
       " 515: [516],\n",
       " 521: [483],\n",
       " 522: [427],\n",
       " 524: [518],\n",
       " 525: [34],\n",
       " 527: [480],\n",
       " 528: [433],\n",
       " 530: [517],\n",
       " 531: [37],\n",
       " 533: [37],\n",
       " 534: [40],\n",
       " 536: [40],\n",
       " 537: [52],\n",
       " 539: [492],\n",
       " 540: [412],\n",
       " 542: [300],\n",
       " 544: [300],\n",
       " 546: [309],\n",
       " 548: [384],\n",
       " 549: [384],\n",
       " 551: [352],\n",
       " 552: [320],\n",
       " 554: [355],\n",
       " 555: [355],\n",
       " 557: [353],\n",
       " 558: [323],\n",
       " 560: [354],\n",
       " 561: [326],\n",
       " 563: [335],\n",
       " 564: [335],\n",
       " 566: [401],\n",
       " 568: [343],\n",
       " 570: [391],\n",
       " 572: [348],\n",
       " 580: [357],\n",
       " 582: [361],\n",
       " 584: [365],\n",
       " 586: [369],\n",
       " 588: [373],\n",
       " 590: [375],\n",
       " 592: [357],\n",
       " 594: [355],\n",
       " 596: [384],\n",
       " 598: [391],\n",
       " 600: [486],\n",
       " 601: [421],\n",
       " 603: [482],\n",
       " 604: [424],\n",
       " 606: [483],\n",
       " 607: [427],\n",
       " 609: [479],\n",
       " 610: [430],\n",
       " 612: [480],\n",
       " 613: [433],\n",
       " 615: [433],\n",
       " 616: [436],\n",
       " 618: [436],\n",
       " 619: [436],\n",
       " 621: [436],\n",
       " 622: [442],\n",
       " 624: [469],\n",
       " 625: [448],\n",
       " 627: [453],\n",
       " 628: [418],\n",
       " 630: [456],\n",
       " 632: [458],\n",
       " 634: [460],\n",
       " 636: [460],\n",
       " 638: [472],\n",
       " 642: [460],\n",
       " 645: [485],\n",
       " 648: [489],\n",
       " 651: [495]}"
      ]
     },
     "execution_count": 24,
     "metadata": {},
     "output_type": "execute_result"
    }
   ],
   "source": [
    "memoryless_min_rob_minimizing"
   ]
  },
  {
   "cell_type": "code",
   "execution_count": 25,
   "metadata": {},
   "outputs": [
    {
     "name": "stdout",
     "output_type": "stream",
     "text": [
      "486 [653, 496]\n",
      "486 [248, 283, 496]\n",
      "519 [653, 496]\n",
      "519 [248, 252, 496]\n",
      "242 [292, 228, 281]\n",
      "230 [292, 228, 510]\n",
      "483 [292, 281, 497]\n",
      "518 [292, 510, 497]\n",
      "37 []\n",
      "40 []\n",
      "514 [294, 504, 490]\n",
      "506 [294, 504, 296]\n",
      "492 [294, 490, 298]\n",
      "300 [294, 296, 298]\n",
      "285 [248, 250, 283]\n",
      "254 [248, 250, 252]\n",
      "242 [106, 228]\n",
      "230 [106, 228]\n",
      "82 []\n",
      "85 []\n",
      "85 []\n",
      "217 [208]\n",
      "210 [208]\n",
      "205 [196]\n",
      "198 [196]\n",
      "193 [106]\n",
      "108 [106]\n",
      "70 []\n",
      "118 []\n",
      "160 []\n",
      "163 []\n",
      "163 []\n",
      "180 []\n",
      "195 []\n",
      "201 [200]\n",
      "207 []\n",
      "213 [212]\n",
      "113 []\n",
      "180 []\n",
      "223 []\n",
      "136 []\n",
      "136 []\n",
      "136 []\n",
      "258 [200, 256]\n",
      "242 [279, 281]\n",
      "223 []\n",
      "223 []\n",
      "223 []\n",
      "261 []\n",
      "261 []\n",
      "261 []\n",
      "261 []\n",
      "309 [306]\n",
      "384 []\n",
      "320 [312, 314, 317]\n",
      "260 []\n",
      "355 []\n",
      "335 []\n",
      "285 [451, 283]\n",
      "486 [451, 283]\n",
      "271 [279]\n",
      "482 [279]\n",
      "483 [279, 281]\n",
      "433 []\n",
      "436 []\n",
      "436 []\n",
      "476 [467]\n",
      "469 [467]\n",
      "465 [451]\n",
      "453 [451]\n",
      "418 []\n",
      "456 [455]\n",
      "460 []\n",
      "287 []\n",
      "472 [471]\n",
      "489 [455, 488]\n",
      "489 []\n",
      "495 [471, 494]\n",
      "285 [196, 250]\n",
      "254 [196, 250]\n",
      "64 []\n",
      "509 [212, 508]\n",
      "483 [654, 497]\n",
      "518 [654, 497]\n",
      "37 []\n",
      "40 []\n",
      "492 [543, 298]\n",
      "300 [543, 298]\n",
      "300 []\n",
      "309 [547, 306]\n",
      "384 []\n",
      "320 [553, 317]\n",
      "355 []\n",
      "335 []\n",
      "433 []\n",
      "436 []\n",
      "436 []\n",
      "460 []\n",
      "False\n"
     ]
    }
   ],
   "source": [
    "robust_exists = True\n",
    "for key, val in memoryless_min_rob_minimizing.items():\n",
    "    if val[0] not in memoryless_percent_red[key]:\n",
    "        robust_exists = False\n",
    "        print(val[0], memoryless_percent_red[key])\n",
    "print(robust_exists)"
   ]
  },
  {
   "cell_type": "code",
   "execution_count": 70,
   "metadata": {},
   "outputs": [
    {
     "data": {
      "text/plain": [
       "[10]"
      ]
     },
     "execution_count": 70,
     "metadata": {},
     "output_type": "execute_result"
    }
   ],
   "source": [
    "memoryless_min_rob_minimizing[0]"
   ]
  },
  {
   "cell_type": "code",
   "execution_count": 73,
   "metadata": {},
   "outputs": [
    {
     "data": {
      "text/plain": [
       "[11, 12]"
      ]
     },
     "execution_count": 73,
     "metadata": {},
     "output_type": "execute_result"
    }
   ],
   "source": [
    "list(G.successors(10))"
   ]
  },
  {
   "cell_type": "code",
   "execution_count": 74,
   "metadata": {},
   "outputs": [
    {
     "data": {
      "text/plain": [
       "[519]"
      ]
     },
     "execution_count": 74,
     "metadata": {},
     "output_type": "execute_result"
    }
   ],
   "source": [
    "memoryless_min_rob_minimizing[11]"
   ]
  },
  {
   "cell_type": "code",
   "execution_count": 75,
   "metadata": {},
   "outputs": [
    {
     "data": {
      "text/plain": [
       "[22]"
      ]
     },
     "execution_count": 75,
     "metadata": {},
     "output_type": "execute_result"
    }
   ],
   "source": [
    "memoryless_min_rob_minimizing[12]"
   ]
  },
  {
   "cell_type": "code",
   "execution_count": null,
   "metadata": {},
   "outputs": [],
   "source": [
    "def finding_num_tests(G, transitions, init):\n",
    "    curr = init\n",
    "    env_actions = transitions[curr]\n",
    "    "
   ]
  },
  {
   "cell_type": "markdown",
   "metadata": {},
   "source": [
    "## Memoryless Average Robustness - Minimizing"
   ]
  },
  {
   "cell_type": "code",
   "execution_count": 82,
   "metadata": {},
   "outputs": [
    {
     "data": {
      "text/plain": [
       "{0: 2,\n",
       " 2: 1,\n",
       " 3: 2,\n",
       " 5: 1,\n",
       " 6: 2,\n",
       " 8: 1,\n",
       " 9: 2,\n",
       " 11: 1,\n",
       " 12: 2,\n",
       " 14: 1,\n",
       " 15: 2,\n",
       " 17: 1,\n",
       " 18: 2,\n",
       " 20: 1,\n",
       " 21: 2,\n",
       " 23: 1,\n",
       " 24: 2,\n",
       " 26: 1,\n",
       " 27: 1,\n",
       " 29: 1,\n",
       " 30: 1,\n",
       " 32: 1,\n",
       " 33: 1,\n",
       " 35: 1,\n",
       " 36: 1,\n",
       " 39: 1,\n",
       " 42: 2,\n",
       " 44: 1,\n",
       " 45: 2,\n",
       " 47: 1,\n",
       " 48: 2,\n",
       " 50: 1,\n",
       " 51: 2,\n",
       " 53: 1,\n",
       " 54: 2,\n",
       " 56: 1,\n",
       " 57: 2,\n",
       " 59: 1,\n",
       " 60: 2,\n",
       " 62: 1,\n",
       " 63: 2,\n",
       " 65: 1,\n",
       " 66: 2,\n",
       " 68: 1,\n",
       " 69: 1,\n",
       " 71: 1,\n",
       " 72: 1,\n",
       " 74: 1,\n",
       " 75: 1,\n",
       " 77: 1,\n",
       " 78: 1,\n",
       " 81: 1,\n",
       " 84: 1,\n",
       " 87: 2,\n",
       " 89: 1,\n",
       " 90: 2,\n",
       " 92: 1,\n",
       " 93: 2,\n",
       " 95: 1,\n",
       " 96: 2,\n",
       " 98: 1,\n",
       " 99: 2,\n",
       " 101: 1,\n",
       " 102: 2,\n",
       " 104: 1,\n",
       " 105: 2,\n",
       " 109: 2,\n",
       " 111: 659,\n",
       " 112: 1,\n",
       " 114: 659,\n",
       " 117: 659,\n",
       " 119: 659,\n",
       " 121: 659,\n",
       " 123: 659,\n",
       " 125: 659,\n",
       " 127: 659,\n",
       " 129: 659,\n",
       " 131: 659,\n",
       " 135: 659,\n",
       " 137: 659,\n",
       " 139: 659,\n",
       " 141: 659,\n",
       " 143: 659,\n",
       " 145: 659,\n",
       " 147: 659,\n",
       " 149: 659,\n",
       " 151: 659,\n",
       " 153: 659,\n",
       " 155: 1,\n",
       " 156: 1,\n",
       " 159: 1,\n",
       " 162: 1,\n",
       " 165: 5,\n",
       " 167: 5,\n",
       " 168: 4,\n",
       " 170: 3,\n",
       " 171: 3,\n",
       " 173: 2,\n",
       " 174: 2,\n",
       " 176: 1,\n",
       " 177: 1,\n",
       " 179: 1,\n",
       " 183: 2,\n",
       " 186: 3,\n",
       " 189: 4,\n",
       " 192: 1,\n",
       " 194: 2,\n",
       " 199: 1,\n",
       " 203: 2,\n",
       " 204: 2,\n",
       " 206: 3,\n",
       " 211: 1,\n",
       " 215: 3,\n",
       " 216: 3,\n",
       " 218: 4,\n",
       " 222: 1,\n",
       " 225: 1,\n",
       " 227: 1,\n",
       " 231: 2,\n",
       " 233: 659,\n",
       " 235: 1,\n",
       " 236: 1,\n",
       " 239: 1,\n",
       " 241: 1,\n",
       " 243: 2,\n",
       " 245: 659,\n",
       " 247: 659,\n",
       " 255: 1,\n",
       " 257: 659,\n",
       " 259: 659,\n",
       " 263: 1,\n",
       " 264: 2,\n",
       " 266: 2,\n",
       " 267: 2,\n",
       " 269: 1,\n",
       " 270: 1,\n",
       " 272: 2,\n",
       " 274: 1,\n",
       " 275: 1,\n",
       " 277: 1,\n",
       " 278: 1,\n",
       " 286: 3,\n",
       " 288: 659,\n",
       " 290: 659,\n",
       " 301: 1,\n",
       " 303: 659,\n",
       " 305: 659,\n",
       " 307: 659,\n",
       " 310: 659,\n",
       " 311: 1,\n",
       " 313: 659,\n",
       " 315: 659,\n",
       " 318: 659,\n",
       " 321: 659,\n",
       " 322: 2,\n",
       " 324: 659,\n",
       " 325: 1,\n",
       " 327: 659,\n",
       " 330: 659,\n",
       " 332: 659,\n",
       " 334: 659,\n",
       " 336: 659,\n",
       " 338: 659,\n",
       " 340: 659,\n",
       " 342: 659,\n",
       " 344: 659,\n",
       " 356: 659,\n",
       " 358: 659,\n",
       " 360: 659,\n",
       " 362: 659,\n",
       " 364: 659,\n",
       " 366: 659,\n",
       " 368: 659,\n",
       " 370: 659,\n",
       " 372: 659,\n",
       " 374: 659,\n",
       " 376: 659,\n",
       " 379: 659,\n",
       " 381: 659,\n",
       " 383: 659,\n",
       " 385: 659,\n",
       " 390: 659,\n",
       " 392: 659,\n",
       " 394: 659,\n",
       " 396: 659,\n",
       " 398: 659,\n",
       " 400: 659,\n",
       " 402: 659,\n",
       " 404: 659,\n",
       " 406: 659,\n",
       " 408: 659,\n",
       " 410: 1,\n",
       " 411: 2,\n",
       " 413: 1,\n",
       " 414: 2,\n",
       " 416: 1,\n",
       " 417: 2,\n",
       " 419: 1,\n",
       " 420: 2,\n",
       " 422: 1,\n",
       " 423: 2,\n",
       " 425: 1,\n",
       " 426: 1,\n",
       " 428: 1,\n",
       " 429: 1,\n",
       " 432: 1,\n",
       " 435: 1,\n",
       " 438: 2,\n",
       " 440: 1,\n",
       " 441: 2,\n",
       " 443: 1,\n",
       " 444: 2,\n",
       " 446: 1,\n",
       " 447: 2,\n",
       " 449: 1,\n",
       " 450: 2,\n",
       " 454: 1,\n",
       " 457: 2,\n",
       " 459: 1,\n",
       " 463: 2,\n",
       " 464: 2,\n",
       " 466: 3,\n",
       " 470: 1,\n",
       " 474: 3,\n",
       " 475: 3,\n",
       " 477: 4,\n",
       " 481: 1,\n",
       " 484: 2,\n",
       " 487: 1,\n",
       " 493: 1,\n",
       " 499: 1,\n",
       " 500: 2,\n",
       " 502: 1,\n",
       " 503: 2,\n",
       " 507: 1,\n",
       " 512: 3,\n",
       " 513: 3,\n",
       " 515: 4,\n",
       " 521: 1,\n",
       " 522: 2,\n",
       " 524: 1,\n",
       " 525: 2,\n",
       " 527: 1,\n",
       " 528: 1,\n",
       " 530: 1,\n",
       " 531: 1,\n",
       " 534: 1,\n",
       " 537: 2,\n",
       " 539: 1,\n",
       " 540: 2,\n",
       " 542: 1,\n",
       " 546: 1,\n",
       " 548: 659,\n",
       " 551: 659,\n",
       " 552: 1,\n",
       " 554: 659,\n",
       " 557: 659,\n",
       " 558: 2,\n",
       " 560: 659,\n",
       " 561: 1,\n",
       " 563: 659,\n",
       " 566: 659,\n",
       " 568: 659,\n",
       " 570: 659,\n",
       " 572: 659,\n",
       " 580: 659,\n",
       " 582: 659,\n",
       " 584: 659,\n",
       " 586: 659,\n",
       " 588: 659,\n",
       " 590: 659,\n",
       " 592: 659,\n",
       " 594: 659,\n",
       " 596: 659,\n",
       " 598: 659,\n",
       " 600: 2,\n",
       " 601: 2,\n",
       " 603: 2,\n",
       " 604: 2,\n",
       " 606: 2,\n",
       " 607: 2,\n",
       " 609: 1,\n",
       " 610: 1,\n",
       " 612: 1,\n",
       " 613: 1,\n",
       " 616: 1,\n",
       " 619: 1,\n",
       " 622: 2,\n",
       " 624: 2,\n",
       " 625: 2,\n",
       " 627: 2,\n",
       " 628: 2,\n",
       " 630: 3,\n",
       " 632: 2,\n",
       " 634: 1,\n",
       " 638: 2,\n",
       " 642: 1,\n",
       " 645: 2,\n",
       " 648: 3,\n",
       " 651: 2,\n",
       " 533: 0,\n",
       " 280: 0,\n",
       " 536: 0,\n",
       " 282: 0,\n",
       " 284: 0,\n",
       " 158: 0,\n",
       " 544: 0,\n",
       " 161: 0,\n",
       " 164: 0,\n",
       " 293: 0,\n",
       " 38: 0,\n",
       " 295: 0,\n",
       " 549: 0,\n",
       " 41: 0,\n",
       " 297: 0,\n",
       " 299: 0,\n",
       " 555: 0,\n",
       " 431: 0,\n",
       " 434: 0,\n",
       " 308: 0,\n",
       " 181: 0,\n",
       " 437: 0,\n",
       " 564: 0,\n",
       " 316: 0,\n",
       " 319: 0,\n",
       " 452: 0,\n",
       " 197: 0,\n",
       " 328: 0,\n",
       " 461: 0,\n",
       " 80: 0,\n",
       " 209: 0,\n",
       " 83: 0,\n",
       " 468: 0,\n",
       " 86: 0,\n",
       " 224: 0,\n",
       " 229: 0,\n",
       " 615: 0,\n",
       " 618: 0,\n",
       " 107: 0,\n",
       " 491: 0,\n",
       " 505: 0,\n",
       " 238: 0,\n",
       " 621: 0,\n",
       " 115: 0,\n",
       " 249: 0,\n",
       " 251: 0,\n",
       " 636: 0,\n",
       " 253: 0}"
      ]
     },
     "execution_count": 82,
     "metadata": {},
     "output_type": "execute_result"
    }
   ],
   "source": [
    "min_robustness_env_metric"
   ]
  },
  {
   "cell_type": "code",
   "execution_count": 81,
   "metadata": {},
   "outputs": [
    {
     "data": {
      "text/plain": [
       "{0: 4.75,\n",
       " 2: 0.875,\n",
       " 3: 1.5416666666666667,\n",
       " 5: 0.8125,\n",
       " 6: 1.1875,\n",
       " 8: 1.3125,\n",
       " 9: 5.0,\n",
       " 11: 1.1666666666666667,\n",
       " 12: 3.6666666666666665,\n",
       " 14: 0.2916666666666667,\n",
       " 15: 0.2916666666666667,\n",
       " 17: 0.3541666666666667,\n",
       " 18: 0.9583333333333334,\n",
       " 20: 0.3541666666666667,\n",
       " 21: 0.9583333333333334,\n",
       " 23: 0.4791666666666667,\n",
       " 24: 4.125,\n",
       " 26: 0.0625,\n",
       " 27: 0.375,\n",
       " 29: 0.0625,\n",
       " 30: 1.3125,\n",
       " 32: 0.0625,\n",
       " 33: 1.3125,\n",
       " 35: 0.0625,\n",
       " 36: 4.833333333333333,\n",
       " 38: 0,\n",
       " 39: 4.166666666666667,\n",
       " 41: 0,\n",
       " 42: 3.5,\n",
       " 44: 1.0208333333333333,\n",
       " 45: 1.0625,\n",
       " 47: 1.3541666666666667,\n",
       " 48: 1.6458333333333333,\n",
       " 50: 1.3541666666666667,\n",
       " 51: 1.6458333333333333,\n",
       " 53: 1.875,\n",
       " 54: 3.5833333333333335,\n",
       " 56: 0.6041666666666666,\n",
       " 57: 0.625,\n",
       " 59: 0.8125,\n",
       " 60: 1.1875,\n",
       " 62: 0.2708333333333333,\n",
       " 63: 0.2916666666666667,\n",
       " 65: 0.3333333333333333,\n",
       " 66: 0.9583333333333334,\n",
       " 68: 0.0625,\n",
       " 69: 0.375,\n",
       " 71: 0.0625,\n",
       " 72: 1.1666666666666667,\n",
       " 74: 0.08333333333333333,\n",
       " 75: 0.3958333333333333,\n",
       " 77: 0.08333333333333333,\n",
       " 78: 1.1875,\n",
       " 80: 0,\n",
       " 81: 1.0833333333333333,\n",
       " 83: 0,\n",
       " 84: 1.0833333333333333,\n",
       " 86: 0,\n",
       " 87: 1.0,\n",
       " 89: 0.3958333333333333,\n",
       " 90: 0.4791666666666667,\n",
       " 92: 0.5,\n",
       " 93: 0.9166666666666666,\n",
       " 95: 0.2708333333333333,\n",
       " 96: 0.3333333333333333,\n",
       " 98: 0.4166666666666667,\n",
       " 99: 0.8333333333333334,\n",
       " 101: 0.16666666666666666,\n",
       " 102: 0.20833333333333334,\n",
       " 104: 0.22916666666666666,\n",
       " 105: 0.875,\n",
       " 107: 0,\n",
       " 109: 0.041666666666666664,\n",
       " 111: 0.0,\n",
       " 112: 0.020833333333333332,\n",
       " 114: 0.0,\n",
       " 115: 0,\n",
       " 117: 0.0,\n",
       " 119: 0.0,\n",
       " 121: 0.0,\n",
       " 123: 0.0,\n",
       " 125: 0.0,\n",
       " 127: 0.0,\n",
       " 129: 0.0,\n",
       " 131: 0.0,\n",
       " 135: 0.0,\n",
       " 137: 0.0,\n",
       " 139: 0.0,\n",
       " 141: 0.0,\n",
       " 143: 0.0,\n",
       " 145: 0.0,\n",
       " 147: 0.0,\n",
       " 149: 0.0,\n",
       " 151: 0.0,\n",
       " 153: 0.0,\n",
       " 155: 0.08333333333333333,\n",
       " 156: 0.25,\n",
       " 158: 0,\n",
       " 159: 0.2916666666666667,\n",
       " 161: 0,\n",
       " 162: 0.2916666666666667,\n",
       " 164: 0,\n",
       " 165: 0.3541666666666667,\n",
       " 167: 0.10416666666666667,\n",
       " 168: 0.2916666666666667,\n",
       " 170: 0.14583333333333334,\n",
       " 171: 0.22916666666666666,\n",
       " 173: 0.10416666666666667,\n",
       " 174: 0.16666666666666666,\n",
       " 176: 0.0625,\n",
       " 177: 0.22916666666666666,\n",
       " 179: 0.020833333333333332,\n",
       " 181: 0,\n",
       " 183: 0.041666666666666664,\n",
       " 186: 0.0625,\n",
       " 189: 0.08333333333333333,\n",
       " 192: 0.020833333333333332,\n",
       " 194: 0.041666666666666664,\n",
       " 197: 0,\n",
       " 199: 0.08333333333333333,\n",
       " 203: 0.14583333333333334,\n",
       " 204: 0.20833333333333334,\n",
       " 206: 0.0625,\n",
       " 209: 0,\n",
       " 211: 0.14583333333333334,\n",
       " 215: 0.20833333333333334,\n",
       " 216: 0.2916666666666667,\n",
       " 218: 0.08333333333333333,\n",
       " 222: 0.020833333333333332,\n",
       " 224: 0,\n",
       " 225: 0.2916666666666667,\n",
       " 227: 0.020833333333333332,\n",
       " 229: 0,\n",
       " 231: 0.041666666666666664,\n",
       " 233: 0.0,\n",
       " 235: 0.125,\n",
       " 236: 0.2916666666666667,\n",
       " 238: 0,\n",
       " 239: 0.2916666666666667,\n",
       " 241: 0.020833333333333332,\n",
       " 243: 0.041666666666666664,\n",
       " 245: 0.0,\n",
       " 247: 0.0,\n",
       " 249: 0,\n",
       " 251: 0,\n",
       " 253: 0,\n",
       " 255: 0.10416666666666667,\n",
       " 257: 0.0,\n",
       " 259: 0.0,\n",
       " 263: 0.2708333333333333,\n",
       " 264: 0.2916666666666667,\n",
       " 266: 0.22916666666666666,\n",
       " 267: 0.2916666666666667,\n",
       " 269: 0.08333333333333333,\n",
       " 270: 0.25,\n",
       " 272: 0.041666666666666664,\n",
       " 274: 0.0625,\n",
       " 275: 0.375,\n",
       " 277: 0.08333333333333333,\n",
       " 278: 0.3958333333333333,\n",
       " 280: 0,\n",
       " 282: 0,\n",
       " 284: 0,\n",
       " 286: 0.0625,\n",
       " 288: 0.0,\n",
       " 290: 0.0,\n",
       " 293: 0,\n",
       " 295: 0,\n",
       " 297: 0,\n",
       " 299: 0,\n",
       " 301: 0.22916666666666666,\n",
       " 303: 0.0,\n",
       " 305: 0.0,\n",
       " 307: 0.0,\n",
       " 308: 0,\n",
       " 310: 0.0,\n",
       " 311: 0.125,\n",
       " 313: 0.0,\n",
       " 315: 0.0,\n",
       " 316: 0,\n",
       " 318: 0.0,\n",
       " 319: 0,\n",
       " 321: 0.0,\n",
       " 322: 0.041666666666666664,\n",
       " 324: 0.0,\n",
       " 325: 0.020833333333333332,\n",
       " 327: 0.0,\n",
       " 328: 0,\n",
       " 330: 0.0,\n",
       " 332: 0.0,\n",
       " 334: 0.0,\n",
       " 336: 0.0,\n",
       " 338: 0.0,\n",
       " 340: 0.0,\n",
       " 342: 0.0,\n",
       " 344: 0.0,\n",
       " 356: 0.0,\n",
       " 358: 0.0,\n",
       " 360: 0.0,\n",
       " 362: 0.0,\n",
       " 364: 0.0,\n",
       " 366: 0.0,\n",
       " 368: 0.0,\n",
       " 370: 0.0,\n",
       " 372: 0.0,\n",
       " 374: 0.0,\n",
       " 376: 0.0,\n",
       " 379: 0.0,\n",
       " 381: 0.0,\n",
       " 383: 0.0,\n",
       " 385: 0.0,\n",
       " 390: 0.0,\n",
       " 392: 0.0,\n",
       " 394: 0.0,\n",
       " 396: 0.0,\n",
       " 398: 0.0,\n",
       " 400: 0.0,\n",
       " 402: 0.0,\n",
       " 404: 0.0,\n",
       " 406: 0.0,\n",
       " 408: 0.0,\n",
       " 410: 0.4583333333333333,\n",
       " 411: 0.5,\n",
       " 413: 0.6666666666666666,\n",
       " 414: 1.0625,\n",
       " 416: 0.16666666666666666,\n",
       " 417: 0.20833333333333334,\n",
       " 419: 0.22916666666666666,\n",
       " 420: 0.875,\n",
       " 422: 0.3333333333333333,\n",
       " 423: 0.9583333333333334,\n",
       " 425: 0.0625,\n",
       " 426: 1.1666666666666667,\n",
       " 428: 0.08333333333333333,\n",
       " 429: 1.1875,\n",
       " 431: 0,\n",
       " 432: 1.0833333333333333,\n",
       " 434: 0,\n",
       " 435: 1.0833333333333333,\n",
       " 437: 0,\n",
       " 438: 1.0,\n",
       " 440: 0.3958333333333333,\n",
       " 441: 0.4791666666666667,\n",
       " 443: 0.5833333333333334,\n",
       " 444: 0.9166666666666666,\n",
       " 446: 0.2708333333333333,\n",
       " 447: 0.3333333333333333,\n",
       " 449: 0.4166666666666667,\n",
       " 450: 0.8333333333333334,\n",
       " 452: 0,\n",
       " 454: 0.08333333333333333,\n",
       " 457: 0.041666666666666664,\n",
       " 459: 0.020833333333333332,\n",
       " 461: 0,\n",
       " 463: 0.14583333333333334,\n",
       " 464: 0.20833333333333334,\n",
       " 466: 0.0625,\n",
       " 468: 0,\n",
       " 470: 0.14583333333333334,\n",
       " 474: 0.20833333333333334,\n",
       " 475: 0.2916666666666667,\n",
       " 477: 0.08333333333333333,\n",
       " 481: 0.020833333333333332,\n",
       " 484: 0.041666666666666664,\n",
       " 487: 0.10416666666666667,\n",
       " 491: 0,\n",
       " 493: 0.20833333333333334,\n",
       " 499: 0.4583333333333333,\n",
       " 500: 0.5,\n",
       " 502: 0.6666666666666666,\n",
       " 503: 1.0625,\n",
       " 505: 0,\n",
       " 507: 0.20833333333333334,\n",
       " 512: 0.3333333333333333,\n",
       " 513: 0.4166666666666667,\n",
       " 515: 0.08333333333333333,\n",
       " 521: 0.3333333333333333,\n",
       " 522: 1.5,\n",
       " 524: 0.4583333333333333,\n",
       " 525: 5.875,\n",
       " 527: 0.125,\n",
       " 528: 1.6875,\n",
       " 530: 0.125,\n",
       " 531: 6.0,\n",
       " 533: 0,\n",
       " 534: 5.125,\n",
       " 536: 0,\n",
       " 537: 4.520833333333333,\n",
       " 539: 1.6041666666666667,\n",
       " 540: 2.0208333333333335,\n",
       " 542: 2.2291666666666665,\n",
       " 544: 0,\n",
       " 546: 0.375,\n",
       " 548: 0.0,\n",
       " 549: 0,\n",
       " 551: 0.0,\n",
       " 552: 0.16666666666666666,\n",
       " 554: 0.0,\n",
       " 555: 0,\n",
       " 557: 0.0,\n",
       " 558: 0.08333333333333333,\n",
       " 560: 0.0,\n",
       " 561: 0.041666666666666664,\n",
       " 563: 0.0,\n",
       " 564: 0,\n",
       " 566: 0.0,\n",
       " 568: 0.0,\n",
       " 570: 0.0,\n",
       " 572: 0.0,\n",
       " 580: 0.0,\n",
       " 582: 0.0,\n",
       " 584: 0.0,\n",
       " 586: 0.0,\n",
       " 588: 0.0,\n",
       " 590: 0.0,\n",
       " 592: 0.0,\n",
       " 594: 0.0,\n",
       " 596: 0.0,\n",
       " 598: 0.0,\n",
       " 600: 0.7083333333333334,\n",
       " 601: 1.4166666666666667,\n",
       " 603: 0.20833333333333334,\n",
       " 604: 1.4166666666666667,\n",
       " 606: 0.2916666666666667,\n",
       " 607: 1.5,\n",
       " 609: 0.125,\n",
       " 610: 1.3958333333333333,\n",
       " 612: 0.16666666666666666,\n",
       " 613: 1.4375,\n",
       " 615: 0,\n",
       " 616: 1.375,\n",
       " 618: 0,\n",
       " 619: 1.375,\n",
       " 621: 0,\n",
       " 622: 1.3541666666666667,\n",
       " 624: 0.6666666666666666,\n",
       " 625: 1.2083333333333333,\n",
       " 627: 0.4791666666666667,\n",
       " 628: 1.1875,\n",
       " 630: 0.125,\n",
       " 632: 0.08333333333333333,\n",
       " 634: 0.041666666666666664,\n",
       " 636: 0,\n",
       " 638: 0.20833333333333334,\n",
       " 642: 0.041666666666666664,\n",
       " 645: 0.08333333333333333,\n",
       " 648: 0.125,\n",
       " 651: 0.25}"
      ]
     },
     "execution_count": 81,
     "metadata": {},
     "output_type": "execute_result"
    }
   ],
   "source": [
    "avg_robustness_env_metric"
   ]
  },
  {
   "cell_type": "code",
   "execution_count": 26,
   "metadata": {},
   "outputs": [],
   "source": [
    "avg_robustness_env_metric = hard_tests.find_avg_robustness(G)"
   ]
  },
  {
   "cell_type": "code",
   "execution_count": 27,
   "metadata": {},
   "outputs": [],
   "source": [
    "memoryless_avg_rob_minimizing = hard_tests.memoryless_robustness_minimization(G, avg_robustness_env_metric)"
   ]
  },
  {
   "cell_type": "markdown",
   "metadata": {},
   "source": [
    "## Memoryless Min Robustness - Averaging"
   ]
  },
  {
   "cell_type": "code",
   "execution_count": 28,
   "metadata": {},
   "outputs": [],
   "source": [
    "min_robustness_env_metric = hard_tests.find_min_robustness(G)"
   ]
  },
  {
   "cell_type": "code",
   "execution_count": 29,
   "metadata": {},
   "outputs": [],
   "source": [
    "memoryless_min_rob_averaging = hard_tests.memoryless_robustness_averaging(G, min_robustness_env_metric)"
   ]
  },
  {
   "cell_type": "markdown",
   "metadata": {},
   "source": [
    "## Memoryless Average Robustness - Averaging"
   ]
  },
  {
   "cell_type": "code",
   "execution_count": 30,
   "metadata": {},
   "outputs": [],
   "source": [
    "avg_robustness_env_metric = hard_tests.find_avg_robustness(G)"
   ]
  },
  {
   "cell_type": "code",
   "execution_count": 31,
   "metadata": {},
   "outputs": [],
   "source": [
    "memoryless_avg_rob_averaging = hard_tests.memoryless_robustness_averaging(G, avg_robustness_env_metric)"
   ]
  },
  {
   "cell_type": "markdown",
   "metadata": {},
   "source": [
    "# Comparing Tests"
   ]
  },
  {
   "cell_type": "code",
   "execution_count": 32,
   "metadata": {},
   "outputs": [
    {
     "data": {
      "text/plain": [
       "True"
      ]
     },
     "execution_count": 32,
     "metadata": {},
     "output_type": "execute_result"
    }
   ],
   "source": [
    "memoryless_most_red == memoryless_percent_red"
   ]
  },
  {
   "cell_type": "code",
   "execution_count": 33,
   "metadata": {},
   "outputs": [
    {
     "data": {
      "text/plain": [
       "True"
      ]
     },
     "execution_count": 33,
     "metadata": {},
     "output_type": "execute_result"
    }
   ],
   "source": [
    "memoryless_avg_rob_minimizing == memoryless_min_rob_minimizing"
   ]
  },
  {
   "cell_type": "code",
   "execution_count": 34,
   "metadata": {},
   "outputs": [
    {
     "data": {
      "text/plain": [
       "True"
      ]
     },
     "execution_count": 34,
     "metadata": {},
     "output_type": "execute_result"
    }
   ],
   "source": [
    "memoryless_avg_rob_averaging == memoryless_min_rob_averaging"
   ]
  },
  {
   "cell_type": "code",
   "execution_count": 35,
   "metadata": {},
   "outputs": [
    {
     "data": {
      "text/plain": [
       "True"
      ]
     },
     "execution_count": 35,
     "metadata": {},
     "output_type": "execute_result"
    }
   ],
   "source": [
    "memoryless_min_rob_minimizing == memoryless_min_rob_averaging"
   ]
  },
  {
   "cell_type": "code",
   "execution_count": 36,
   "metadata": {},
   "outputs": [
    {
     "data": {
      "text/plain": [
       "True"
      ]
     },
     "execution_count": 36,
     "metadata": {},
     "output_type": "execute_result"
    }
   ],
   "source": [
    "memoryless_avg_rob_minimizing == memoryless_avg_rob_averaging"
   ]
  },
  {
   "cell_type": "markdown",
   "metadata": {},
   "source": [
    "So all of the robustness tests are the same"
   ]
  },
  {
   "cell_type": "code",
   "execution_count": 37,
   "metadata": {},
   "outputs": [
    {
     "data": {
      "text/plain": [
       "False"
      ]
     },
     "execution_count": 37,
     "metadata": {},
     "output_type": "execute_result"
    }
   ],
   "source": [
    "memoryless_most_red == memoryless_avg_rob_minimizing"
   ]
  },
  {
   "cell_type": "markdown",
   "metadata": {},
   "source": [
    "But the counting neighbors tests are not the same as the memoryless tests"
   ]
  },
  {
   "cell_type": "markdown",
   "metadata": {},
   "source": [
    "# Robustness Calculations"
   ]
  },
  {
   "cell_type": "markdown",
   "metadata": {},
   "source": [
    "## Robust Test"
   ]
  },
  {
   "cell_type": "code",
   "execution_count": 38,
   "metadata": {},
   "outputs": [
    {
     "name": "stderr",
     "output_type": "stream",
     "text": [
      "MovieWriter ffmpeg unavailable; using Pillow instead.\n"
     ]
    },
    {
     "data": {
      "image/png": "[encoded data removed]",
      "text/plain": [
       "<Figure size 640x480 with 1 Axes>"
      ]
     },
     "metadata": {},
     "output_type": "display_data"
    }
   ],
   "source": [
    "title = \"Mimizing Robustness\"\n",
    "min_robustness_env_metric = hard_tests.find_min_robustness(G)\n",
    "vh_signal, p_signal, light_signal, trajectory = left_turn_pedestrian_tests.rand_test_with_metric(G, 0, hard_tests.memoryless_robustness_minimization, min_robustness_env_metric, 30)\n",
    "left_turn_pedestrian_tests.animate_test(ctrl, vh_signal, p_signal, light_signal, title)"
   ]
  },
  {
   "cell_type": "code",
   "execution_count": 39,
   "metadata": {},
   "outputs": [],
   "source": [
    "def avg_robustness_over_trajectory(trajectory):\n",
    "    min_robustness_env_metric = hard_tests.find_min_robustness(G)\n",
    "    sum = 0\n",
    "    for env_node in trajectory:\n",
    "        sum += min_robustness_env_metric[env_node]\n",
    "    return sum / len(trajectory)\n"
   ]
  },
  {
   "cell_type": "code",
   "execution_count": 40,
   "metadata": {},
   "outputs": [],
   "source": [
    "def min_robustness_over_trajectory(trajectory):\n",
    "    min_robustness_env_metric = hard_tests.find_min_robustness(G)\n",
    "    min = min_robustness_env_metric[trajectory[0]]\n",
    "    for env_node in trajectory:\n",
    "        if min > min_robustness_env_metric[env_node]:\n",
    "            min = min_robustness_env_metric[env_node]\n",
    "    return min"
   ]
  },
  {
   "cell_type": "code",
   "execution_count": 41,
   "metadata": {},
   "outputs": [
    {
     "data": {
      "text/plain": [
       "110.83333333333333"
      ]
     },
     "execution_count": 41,
     "metadata": {},
     "output_type": "execute_result"
    }
   ],
   "source": [
    "avg_robustness_over_trajectory(trajectory)"
   ]
  },
  {
   "cell_type": "code",
   "execution_count": 42,
   "metadata": {},
   "outputs": [
    {
     "data": {
      "text/plain": [
       "1"
      ]
     },
     "execution_count": 42,
     "metadata": {},
     "output_type": "execute_result"
    }
   ],
   "source": [
    "min_robustness_over_trajectory(trajectory)"
   ]
  },
  {
   "cell_type": "code",
   "execution_count": 63,
   "metadata": {},
   "outputs": [
    {
     "data": {
      "text/plain": [
       "[0, 11, 23, 35, 325, 327]"
      ]
     },
     "execution_count": 63,
     "metadata": {},
     "output_type": "execute_result"
    }
   ],
   "source": [
    "trajectory"
   ]
  },
  {
   "cell_type": "markdown",
   "metadata": {},
   "source": [
    "## Random Percent Red 1"
   ]
  },
  {
   "cell_type": "code",
   "execution_count": 43,
   "metadata": {},
   "outputs": [
    {
     "name": "stderr",
     "output_type": "stream",
     "text": [
      "MovieWriter ffmpeg unavailable; using Pillow instead.\n"
     ]
    },
    {
     "data": {
      "image/png": "[encoded data removed]",
      "text/plain": [
       "<Figure size 640x480 with 1 Axes>"
      ]
     },
     "metadata": {},
     "output_type": "display_data"
    }
   ],
   "source": [
    "title = \"Random Percent Red 1\"\n",
    "percent_red_sys_metric = hard_tests.find_percent_red_successors(G)\n",
    "vh_signal, p_signal, light_signal, trajectory1 = left_turn_pedestrian_tests.rand_test_with_metric(G, 0, hard_tests.memoryless_max_metric, percent_red_sys_metric, 30)\n",
    "left_turn_pedestrian_tests.animate_test(ctrl, vh_signal, p_signal, light_signal, title)"
   ]
  },
  {
   "cell_type": "code",
   "execution_count": 44,
   "metadata": {},
   "outputs": [
    {
     "data": {
      "text/plain": [
       "110.83333333333333"
      ]
     },
     "execution_count": 44,
     "metadata": {},
     "output_type": "execute_result"
    }
   ],
   "source": [
    "avg_robustness_over_trajectory(trajectory1)"
   ]
  },
  {
   "cell_type": "code",
   "execution_count": 45,
   "metadata": {},
   "outputs": [
    {
     "data": {
      "text/plain": [
       "1"
      ]
     },
     "execution_count": 45,
     "metadata": {},
     "output_type": "execute_result"
    }
   ],
   "source": [
    "min_robustness_over_trajectory(trajectory1)"
   ]
  },
  {
   "cell_type": "code",
   "execution_count": 62,
   "metadata": {},
   "outputs": [
    {
     "data": {
      "text/plain": [
       "[0, 2, 20, 26, 227, 137]"
      ]
     },
     "execution_count": 62,
     "metadata": {},
     "output_type": "execute_result"
    }
   ],
   "source": [
    "trajectory1"
   ]
  },
  {
   "cell_type": "markdown",
   "metadata": {},
   "source": [
    "## Random Percent Red 2"
   ]
  },
  {
   "cell_type": "code",
   "execution_count": 46,
   "metadata": {},
   "outputs": [
    {
     "name": "stderr",
     "output_type": "stream",
     "text": [
      "MovieWriter ffmpeg unavailable; using Pillow instead.\n"
     ]
    },
    {
     "data": {
      "image/png": "[encoded data removed]",
      "text/plain": [
       "<Figure size 640x480 with 1 Axes>"
      ]
     },
     "metadata": {},
     "output_type": "display_data"
    }
   ],
   "source": [
    "title = \"Random Percent Red 2\"\n",
    "percent_red_sys_metric = hard_tests.find_percent_red_successors(G)\n",
    "vh_signal, p_signal, light_signal, trajectory2 = left_turn_pedestrian_tests.rand_test_with_metric(G, 0, hard_tests.memoryless_max_metric, percent_red_sys_metric, 30)\n",
    "left_turn_pedestrian_tests.animate_test(ctrl, vh_signal, p_signal, light_signal, title)"
   ]
  },
  {
   "cell_type": "code",
   "execution_count": 47,
   "metadata": {},
   "outputs": [
    {
     "data": {
      "text/plain": [
       "110.83333333333333"
      ]
     },
     "execution_count": 47,
     "metadata": {},
     "output_type": "execute_result"
    }
   ],
   "source": [
    "avg_robustness_over_trajectory(trajectory2)"
   ]
  },
  {
   "cell_type": "code",
   "execution_count": 48,
   "metadata": {},
   "outputs": [
    {
     "data": {
      "text/plain": [
       "1"
      ]
     },
     "execution_count": 48,
     "metadata": {},
     "output_type": "execute_result"
    }
   ],
   "source": [
    "min_robustness_over_trajectory(trajectory2)"
   ]
  },
  {
   "cell_type": "code",
   "execution_count": 61,
   "metadata": {},
   "outputs": [
    {
     "data": {
      "text/plain": [
       "[0, 8, 521, 527, 481, 358]"
      ]
     },
     "execution_count": 61,
     "metadata": {},
     "output_type": "execute_result"
    }
   ],
   "source": [
    "trajectory2"
   ]
  },
  {
   "cell_type": "markdown",
   "metadata": {},
   "source": [
    "## Random Percent Red 3"
   ]
  },
  {
   "cell_type": "code",
   "execution_count": 49,
   "metadata": {},
   "outputs": [
    {
     "name": "stderr",
     "output_type": "stream",
     "text": [
      "MovieWriter ffmpeg unavailable; using Pillow instead.\n"
     ]
    },
    {
     "data": {
      "image/png": "[encoded data removed]",
      "text/plain": [
       "<Figure size 640x480 with 1 Axes>"
      ]
     },
     "metadata": {},
     "output_type": "display_data"
    }
   ],
   "source": [
    "title = \"Random Percent Red 3\"\n",
    "percent_red_sys_metric = hard_tests.find_percent_red_successors(G)\n",
    "vh_signal, p_signal, light_signal, trajectory3 = left_turn_pedestrian_tests.rand_test_with_metric(G, 0, hard_tests.memoryless_max_metric, percent_red_sys_metric, 30)\n",
    "left_turn_pedestrian_tests.animate_test(ctrl, vh_signal, p_signal, light_signal, title)"
   ]
  },
  {
   "cell_type": "code",
   "execution_count": 50,
   "metadata": {},
   "outputs": [
    {
     "data": {
      "text/plain": [
       "110.83333333333333"
      ]
     },
     "execution_count": 50,
     "metadata": {},
     "output_type": "execute_result"
    }
   ],
   "source": [
    "avg_robustness_over_trajectory(trajectory3)"
   ]
  },
  {
   "cell_type": "code",
   "execution_count": 51,
   "metadata": {},
   "outputs": [
    {
     "data": {
      "text/plain": [
       "1"
      ]
     },
     "execution_count": 51,
     "metadata": {},
     "output_type": "execute_result"
    }
   ],
   "source": [
    "min_robustness_over_trajectory(trajectory3)"
   ]
  },
  {
   "cell_type": "code",
   "execution_count": 60,
   "metadata": {},
   "outputs": [
    {
     "data": {
      "text/plain": [
       "[0, 8, 521, 527, 642, 582]"
      ]
     },
     "execution_count": 60,
     "metadata": {},
     "output_type": "execute_result"
    }
   ],
   "source": [
    "trajectory3"
   ]
  },
  {
   "cell_type": "markdown",
   "metadata": {},
   "source": [
    "## Random Percent Red 4"
   ]
  },
  {
   "cell_type": "code",
   "execution_count": 52,
   "metadata": {},
   "outputs": [
    {
     "name": "stderr",
     "output_type": "stream",
     "text": [
      "MovieWriter ffmpeg unavailable; using Pillow instead.\n"
     ]
    },
    {
     "data": {
      "image/png": "[encoded data removed]",
      "text/plain": [
       "<Figure size 640x480 with 1 Axes>"
      ]
     },
     "metadata": {},
     "output_type": "display_data"
    }
   ],
   "source": [
    "title = \"Random Percent Red 4\"\n",
    "percent_red_sys_metric = hard_tests.find_percent_red_successors(G)\n",
    "vh_signal, p_signal, light_signal, trajectory4 = left_turn_pedestrian_tests.rand_test_with_metric(G, 0, hard_tests.memoryless_max_metric, percent_red_sys_metric, 30)\n",
    "left_turn_pedestrian_tests.animate_test(ctrl, vh_signal, p_signal, light_signal, title)"
   ]
  },
  {
   "cell_type": "code",
   "execution_count": 53,
   "metadata": {},
   "outputs": [
    {
     "data": {
      "text/plain": [
       "110.83333333333333"
      ]
     },
     "execution_count": 53,
     "metadata": {},
     "output_type": "execute_result"
    }
   ],
   "source": [
    "avg_robustness_over_trajectory(trajectory4)"
   ]
  },
  {
   "cell_type": "code",
   "execution_count": 54,
   "metadata": {},
   "outputs": [
    {
     "data": {
      "text/plain": [
       "1"
      ]
     },
     "execution_count": 54,
     "metadata": {},
     "output_type": "execute_result"
    }
   ],
   "source": [
    "min_robustness_over_trajectory(trajectory4)"
   ]
  },
  {
   "cell_type": "code",
   "execution_count": 59,
   "metadata": {},
   "outputs": [
    {
     "data": {
      "text/plain": [
       "[0, 2, 20, 277, 241, 137]"
      ]
     },
     "execution_count": 59,
     "metadata": {},
     "output_type": "execute_result"
    }
   ],
   "source": [
    "trajectory4"
   ]
  },
  {
   "cell_type": "markdown",
   "metadata": {},
   "source": [
    "## Random Percent Red 5"
   ]
  },
  {
   "cell_type": "code",
   "execution_count": 55,
   "metadata": {},
   "outputs": [
    {
     "name": "stderr",
     "output_type": "stream",
     "text": [
      "MovieWriter ffmpeg unavailable; using Pillow instead.\n"
     ]
    },
    {
     "data": {
      "image/png": "[encoded data removed]",
      "text/plain": [
       "<Figure size 640x480 with 1 Axes>"
      ]
     },
     "metadata": {},
     "output_type": "display_data"
    }
   ],
   "source": [
    "title = \"Random Percent Red 5\"\n",
    "percent_red_sys_metric = hard_tests.find_percent_red_successors(G)\n",
    "vh_signal, p_signal, light_signal, trajectory5 = left_turn_pedestrian_tests.rand_test_with_metric(G, 0, hard_tests.memoryless_max_metric, percent_red_sys_metric, 30)\n",
    "left_turn_pedestrian_tests.animate_test(ctrl, vh_signal, p_signal, light_signal, title)"
   ]
  },
  {
   "cell_type": "code",
   "execution_count": 56,
   "metadata": {},
   "outputs": [
    {
     "data": {
      "text/plain": [
       "110.83333333333333"
      ]
     },
     "execution_count": 56,
     "metadata": {},
     "output_type": "execute_result"
    }
   ],
   "source": [
    "avg_robustness_over_trajectory(trajectory5)"
   ]
  },
  {
   "cell_type": "code",
   "execution_count": 57,
   "metadata": {},
   "outputs": [
    {
     "data": {
      "text/plain": [
       "1"
      ]
     },
     "execution_count": 57,
     "metadata": {},
     "output_type": "execute_result"
    }
   ],
   "source": [
    "min_robustness_over_trajectory(trajectory5)"
   ]
  },
  {
   "cell_type": "code",
   "execution_count": 58,
   "metadata": {},
   "outputs": [
    {
     "data": {
      "text/plain": [
       "[0, 11, 17, 26, 227, 137]"
      ]
     },
     "execution_count": 58,
     "metadata": {},
     "output_type": "execute_result"
    }
   ],
   "source": [
    "trajectory5"
   ]
  },
  {
   "cell_type": "markdown",
   "metadata": {},
   "source": [
    "## Doing Many Runs to See if I Get a Different Robustness"
   ]
  },
  {
   "cell_type": "code",
   "execution_count": 68,
   "metadata": {},
   "outputs": [
    {
     "ename": "KeyboardInterrupt",
     "evalue": "",
     "output_type": "error",
     "traceback": [
      "\u001b[0;31m---------------------------------------------------------------------------\u001b[0m",
      "\u001b[0;31mKeyboardInterrupt\u001b[0m                         Traceback (most recent call last)",
      "\u001b[1;32m/Users/kimiahassibi/Desktop/Caltech/SURF2023/GR1_simulations/left_turn_pedestrian_tests.ipynb Cell 88\u001b[0m line \u001b[0;36m4\n\u001b[1;32m      <a href='vscode-notebook-cell:/Users/kimiahassibi/Desktop/Caltech/SURF2023/GR1_simulations/left_turn_pedestrian_tests.ipynb#Y243sZmlsZQ%3D%3D?line=1'>2</a>\u001b[0m vh_signal, p_signal, light_signal, trajectory \u001b[39m=\u001b[39m left_turn_pedestrian_tests\u001b[39m.\u001b[39mrand_test_with_metric(G, \u001b[39m0\u001b[39m, hard_tests\u001b[39m.\u001b[39mmemoryless_max_metric, percent_red_sys_metric, \u001b[39m30\u001b[39m)\n\u001b[1;32m      <a href='vscode-notebook-cell:/Users/kimiahassibi/Desktop/Caltech/SURF2023/GR1_simulations/left_turn_pedestrian_tests.ipynb#Y243sZmlsZQ%3D%3D?line=2'>3</a>\u001b[0m iterations \u001b[39m=\u001b[39m \u001b[39m0\u001b[39m\n\u001b[0;32m----> <a href='vscode-notebook-cell:/Users/kimiahassibi/Desktop/Caltech/SURF2023/GR1_simulations/left_turn_pedestrian_tests.ipynb#Y243sZmlsZQ%3D%3D?line=3'>4</a>\u001b[0m \u001b[39mwhile\u001b[39;00m \u001b[39mabs\u001b[39m(avg_robustness_over_trajectory(trajectory) \u001b[39m-\u001b[39m \u001b[39m110.83333333333333\u001b[39m) \u001b[39m<\u001b[39m \u001b[39m1\u001b[39m \u001b[39mand\u001b[39;00m min_robustness_over_trajectory(trajectory) \u001b[39m==\u001b[39m \u001b[39m1\u001b[39m:\n\u001b[1;32m      <a href='vscode-notebook-cell:/Users/kimiahassibi/Desktop/Caltech/SURF2023/GR1_simulations/left_turn_pedestrian_tests.ipynb#Y243sZmlsZQ%3D%3D?line=4'>5</a>\u001b[0m     iterations \u001b[39m+\u001b[39m\u001b[39m=\u001b[39m \u001b[39m1\u001b[39m\n\u001b[1;32m      <a href='vscode-notebook-cell:/Users/kimiahassibi/Desktop/Caltech/SURF2023/GR1_simulations/left_turn_pedestrian_tests.ipynb#Y243sZmlsZQ%3D%3D?line=5'>6</a>\u001b[0m     vh_signal, p_signal, light_signal, trajectory \u001b[39m=\u001b[39m left_turn_pedestrian_tests\u001b[39m.\u001b[39mrand_test_with_metric(G, \u001b[39m0\u001b[39m, hard_tests\u001b[39m.\u001b[39mmemoryless_max_metric, percent_red_sys_metric, \u001b[39m30\u001b[39m)\n",
      "\u001b[1;32m/Users/kimiahassibi/Desktop/Caltech/SURF2023/GR1_simulations/left_turn_pedestrian_tests.ipynb Cell 88\u001b[0m line \u001b[0;36m2\n\u001b[1;32m      <a href='vscode-notebook-cell:/Users/kimiahassibi/Desktop/Caltech/SURF2023/GR1_simulations/left_turn_pedestrian_tests.ipynb#Y243sZmlsZQ%3D%3D?line=0'>1</a>\u001b[0m \u001b[39mdef\u001b[39;00m \u001b[39mmin_robustness_over_trajectory\u001b[39m(trajectory):\n\u001b[0;32m----> <a href='vscode-notebook-cell:/Users/kimiahassibi/Desktop/Caltech/SURF2023/GR1_simulations/left_turn_pedestrian_tests.ipynb#Y243sZmlsZQ%3D%3D?line=1'>2</a>\u001b[0m     min_robustness_env_metric \u001b[39m=\u001b[39m hard_tests\u001b[39m.\u001b[39;49mfind_min_robustness(G)\n\u001b[1;32m      <a href='vscode-notebook-cell:/Users/kimiahassibi/Desktop/Caltech/SURF2023/GR1_simulations/left_turn_pedestrian_tests.ipynb#Y243sZmlsZQ%3D%3D?line=2'>3</a>\u001b[0m     \u001b[39mmin\u001b[39m \u001b[39m=\u001b[39m min_robustness_env_metric[trajectory[\u001b[39m0\u001b[39m]]\n\u001b[1;32m      <a href='vscode-notebook-cell:/Users/kimiahassibi/Desktop/Caltech/SURF2023/GR1_simulations/left_turn_pedestrian_tests.ipynb#Y243sZmlsZQ%3D%3D?line=3'>4</a>\u001b[0m     \u001b[39mfor\u001b[39;00m env_node \u001b[39min\u001b[39;00m trajectory:\n",
      "File \u001b[0;32m~/Desktop/Caltech/SURF2023/GR1_simulations/hard_tests.py:78\u001b[0m, in \u001b[0;36mfind_min_robustness\u001b[0;34m(g)\u001b[0m\n\u001b[1;32m     76\u001b[0m \u001b[39mfor\u001b[39;00m env_node \u001b[39min\u001b[39;00m nodes_to_visit:\n\u001b[1;32m     77\u001b[0m     robustness[env_node] \u001b[39m=\u001b[39m distance\n\u001b[0;32m---> 78\u001b[0m     \u001b[39mfor\u001b[39;00m sys_parent \u001b[39min\u001b[39;00m \u001b[39mlist\u001b[39m(g\u001b[39m.\u001b[39;49mpredecessors(env_node)):\n\u001b[1;32m     79\u001b[0m         \u001b[39mfor\u001b[39;00m env_parent \u001b[39min\u001b[39;00m \u001b[39mlist\u001b[39m(g\u001b[39m.\u001b[39mpredecessors(sys_parent)):\n\u001b[1;32m     80\u001b[0m             \u001b[39mif\u001b[39;00m env_parent \u001b[39mnot\u001b[39;00m \u001b[39min\u001b[39;00m visited:\n",
      "File \u001b[0;32m~/Desktop/Caltech/SURF2023/env/lib/python3.8/site-packages/networkx/classes/digraph.py:836\u001b[0m, in \u001b[0;36mDiGraph.predecessors\u001b[0;34m(self, n)\u001b[0m\n\u001b[1;32m    816\u001b[0m \u001b[39mdef\u001b[39;00m \u001b[39mpredecessors\u001b[39m(\u001b[39mself\u001b[39m, n):\n\u001b[1;32m    817\u001b[0m \u001b[39m    \u001b[39m\u001b[39m\"\"\"Returns an iterator over predecessor nodes of n.\u001b[39;00m\n\u001b[1;32m    818\u001b[0m \n\u001b[1;32m    819\u001b[0m \u001b[39m    A predecessor of n is a node m such that there exists a directed\u001b[39;00m\n\u001b[0;32m   (...)\u001b[0m\n\u001b[1;32m    834\u001b[0m \u001b[39m    successors\u001b[39;00m\n\u001b[1;32m    835\u001b[0m \u001b[39m    \"\"\"\u001b[39;00m\n\u001b[0;32m--> 836\u001b[0m     \u001b[39mtry\u001b[39;00m:\n\u001b[1;32m    837\u001b[0m         \u001b[39mreturn\u001b[39;00m \u001b[39miter\u001b[39m(\u001b[39mself\u001b[39m\u001b[39m.\u001b[39m_pred[n])\n\u001b[1;32m    838\u001b[0m     \u001b[39mexcept\u001b[39;00m \u001b[39mKeyError\u001b[39;00m:\n",
      "\u001b[0;31mKeyboardInterrupt\u001b[0m: "
     ]
    }
   ],
   "source": [
    "percent_red_sys_metric = hard_tests.find_percent_red_successors(G)\n",
    "vh_signal, p_signal, light_signal, trajectory = left_turn_pedestrian_tests.rand_test_with_metric(G, 0, hard_tests.memoryless_max_metric, percent_red_sys_metric, 30)\n",
    "iterations = 0\n",
    "while abs(avg_robustness_over_trajectory(trajectory) - 110.83333333333333) < 1 and min_robustness_over_trajectory(trajectory) == 1:\n",
    "    iterations += 1\n",
    "    vh_signal, p_signal, light_signal, trajectory = left_turn_pedestrian_tests.rand_test_with_metric(G, 0, hard_tests.memoryless_max_metric, percent_red_sys_metric, 30)\n"
   ]
  },
  {
   "cell_type": "code",
   "execution_count": 69,
   "metadata": {},
   "outputs": [
    {
     "data": {
      "text/plain": [
       "16085561"
      ]
     },
     "execution_count": 69,
     "metadata": {},
     "output_type": "execute_result"
    }
   ],
   "source": [
    "iterations"
   ]
  },
  {
   "cell_type": "markdown",
   "metadata": {},
   "source": [
    "maybe alter runner blocker"
   ]
  },
  {
   "cell_type": "code",
   "execution_count": null,
   "metadata": {},
   "outputs": [],
   "source": []
  }
 ],
 "metadata": {
  "kernelspec": {
   "display_name": "env",
   "language": "python",
   "name": "python3"
  },
  "language_info": {
   "codemirror_mode": {
    "name": "ipython",
    "version": 3
   },
   "file_extension": ".py",
   "mimetype": "text/x-python",
   "name": "python",
   "nbconvert_exporter": "python",
   "pygments_lexer": "ipython3",
   "version": "3.8.16"
  },
  "orig_nbformat": 4
 },
 "nbformat": 4,
 "nbformat_minor": 2
}
