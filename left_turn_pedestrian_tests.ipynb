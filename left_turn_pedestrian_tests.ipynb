{
 "cells": [
  {
   "cell_type": "code",
   "execution_count": 1,
   "metadata": {},
   "outputs": [
    {
     "name": "stderr",
     "output_type": "stream",
     "text": [
      "/Users/kimiahassibi/Desktop/Caltech/SURF2023/env/lib/python3.8/site-packages/tulip-1.4.0-py3.8.egg/tulip/transys/mathset.py:719: SyntaxWarning: \"is\" with a literal. Did you mean \"==\"?\n",
      "/Users/kimiahassibi/Desktop/Caltech/SURF2023/env/lib/python3.8/site-packages/tulip-1.4.0-py3.8.egg/tulip/transys/mathset.py:719: SyntaxWarning: \"is\" with a literal. Did you mean \"==\"?\n",
      "/Users/kimiahassibi/Desktop/Caltech/SURF2023/env/lib/python3.8/site-packages/tulip-1.4.0-py3.8.egg/tulip/transys/labeled_graphs.py:1218: SyntaxWarning: \"is\" with a literal. Did you mean \"==\"?\n",
      "/Users/kimiahassibi/Desktop/Caltech/SURF2023/env/lib/python3.8/site-packages/tulip-1.4.0-py3.8.egg/tulip/transys/labeled_graphs.py:1226: SyntaxWarning: \"is\" with a literal. Did you mean \"==\"?\n",
      "/Users/kimiahassibi/Desktop/Caltech/SURF2023/env/lib/python3.8/site-packages/tulip-1.4.0-py3.8.egg/tulip/transys/labeled_graphs.py:1218: SyntaxWarning: \"is\" with a literal. Did you mean \"==\"?\n",
      "/Users/kimiahassibi/Desktop/Caltech/SURF2023/env/lib/python3.8/site-packages/tulip-1.4.0-py3.8.egg/tulip/transys/labeled_graphs.py:1226: SyntaxWarning: \"is\" with a literal. Did you mean \"==\"?\n",
      "/Users/kimiahassibi/Desktop/Caltech/SURF2023/env/lib/python3.8/site-packages/tulip-1.4.0-py3.8.egg/tulip/transys/transys.py:765: SyntaxWarning: \"is not\" with a literal. Did you mean \"!=\"?\n",
      "/Users/kimiahassibi/Desktop/Caltech/SURF2023/env/lib/python3.8/site-packages/tulip-1.4.0-py3.8.egg/tulip/transys/transys.py:765: SyntaxWarning: \"is not\" with a literal. Did you mean \"!=\"?\n",
      "/Users/kimiahassibi/Desktop/Caltech/SURF2023/env/lib/python3.8/site-packages/tulip-1.4.0-py3.8.egg/tulip/synth.py:161: SyntaxWarning: \"is\" with a literal. Did you mean \"==\"?\n",
      "/Users/kimiahassibi/Desktop/Caltech/SURF2023/env/lib/python3.8/site-packages/tulip-1.4.0-py3.8.egg/tulip/synth.py:161: SyntaxWarning: \"is\" with a literal. Did you mean \"==\"?\n",
      "`omega.symbolic.symbolic` failed to import `dd.cudd`.\n",
      "Will use `dd.autoref`.\n"
     ]
    }
   ],
   "source": [
    "from left_turn_pedestrian.controller import sys_ctrl\n",
    "import pickle\n",
    "import hard_tests\n",
    "import random\n",
    "import visualization.animate as animate\n",
    "\n",
    "import tulip as tlp\n",
    "from tulip import transys, abstract, spec, synth\n",
    "from IPython.display import HTML\n",
    "\n",
    "import networkx as nx"
   ]
  },
  {
   "cell_type": "code",
   "execution_count": 2,
   "metadata": {},
   "outputs": [],
   "source": [
    "path = 'left_turn_pedestrian/'"
   ]
  },
  {
   "cell_type": "markdown",
   "metadata": {},
   "source": [
    "# Organizing the Graph"
   ]
  },
  {
   "cell_type": "code",
   "execution_count": 3,
   "metadata": {},
   "outputs": [],
   "source": [
    "# Load the graph from the saved file\n",
    "with open(path + 'graph', \"rb\") as file:\n",
    "    G = pickle.load(file)"
   ]
  },
  {
   "cell_type": "code",
   "execution_count": 4,
   "metadata": {},
   "outputs": [],
   "source": [
    "# Load the system controller from the saved file\n",
    "with open(path + \"ctrl\", \"rb\") as file:\n",
    "    ctrl = pickle.load(file)"
   ]
  },
  {
   "cell_type": "code",
   "execution_count": 5,
   "metadata": {},
   "outputs": [],
   "source": [
    "# Labeling the nodes like system nodes\n",
    "for edge in ctrl.edges:\n",
    "    for (key, val) in ctrl.edges[edge].items():\n",
    "        ctrl.nodes[edge[1]][key] = val"
   ]
  },
  {
   "cell_type": "code",
   "execution_count": 6,
   "metadata": {},
   "outputs": [],
   "source": [
    "# Conversions\n",
    "light_conversion = [\"g1\", \"g2\", \"g3\", \"y1\", \"y2\", \"r\"] # TODO: Double check this conversion\n",
    "loc_conversion = ['c4', 'c7', 'c8', 'c9']\n",
    "for node in G.nodes:\n",
    "    G.nodes[node]['loc'] = loc_conversion[G.nodes[node]['loc']]\n",
    "    G.nodes[node]['light'] = light_conversion[G.nodes[node]['light']]"
   ]
  },
  {
   "cell_type": "code",
   "execution_count": 7,
   "metadata": {},
   "outputs": [
    {
     "data": {
      "text/plain": [
       "834"
      ]
     },
     "execution_count": 7,
     "metadata": {},
     "output_type": "execute_result"
    }
   ],
   "source": [
    "len(G.nodes)"
   ]
  },
  {
   "cell_type": "code",
   "execution_count": 8,
   "metadata": {},
   "outputs": [],
   "source": [
    "# Removing nodes that violate the environment's safety\n",
    "unsafe_env_nodes = set()\n",
    "for node in G.nodes:\n",
    "    if G.nodes[node]['light'] == 'r':\n",
    "        if (G.nodes[node]['p'] == 4 or G.nodes[node]['vh'] == 4 \n",
    "        or G.nodes[node]['p'] == 5 or G.nodes[node]['vh'] == 5):\n",
    "            unsafe_env_nodes.add(node)\n",
    "    if G.nodes[node]['light'] == 'y2':\n",
    "        if G.nodes[node]['p'] == 4 or G.nodes[node]['vh'] == 4:\n",
    "            unsafe_env_nodes.add(node)\n",
    "G.remove_nodes_from(unsafe_env_nodes)"
   ]
  },
  {
   "cell_type": "code",
   "execution_count": 9,
   "metadata": {},
   "outputs": [
    {
     "data": {
      "text/plain": [
       "658"
      ]
     },
     "execution_count": 9,
     "metadata": {},
     "output_type": "execute_result"
    }
   ],
   "source": [
    "len(G.nodes)"
   ]
  },
  {
   "cell_type": "code",
   "execution_count": 10,
   "metadata": {},
   "outputs": [],
   "source": [
    "# Relabeling the nodes in order\n",
    "nodes = list(G.nodes)\n",
    "new_labels = list(range(len(nodes)))\n",
    "mapping = dict(zip(nodes, new_labels))\n",
    "G = nx.relabel_nodes(G, mapping)"
   ]
  },
  {
   "cell_type": "markdown",
   "metadata": {},
   "source": [
    "# Creating the Potential Hard Tests"
   ]
  },
  {
   "cell_type": "markdown",
   "metadata": {},
   "source": [
    "## Memoryless Most Red"
   ]
  },
  {
   "cell_type": "code",
   "execution_count": 11,
   "metadata": {},
   "outputs": [],
   "source": [
    "num_red_sys_metric = hard_tests.find_num_red_successors(G)"
   ]
  },
  {
   "cell_type": "markdown",
   "metadata": {},
   "source": [
    "# Memoryless Percent Red"
   ]
  },
  {
   "cell_type": "code",
   "execution_count": 12,
   "metadata": {},
   "outputs": [],
   "source": [
    "percent_red_sys_metric = hard_tests.find_percent_red_successors(G)"
   ]
  },
  {
   "cell_type": "markdown",
   "metadata": {},
   "source": [
    "## Memoryless Min Robustness - Minimizing "
   ]
  },
  {
   "cell_type": "code",
   "execution_count": 13,
   "metadata": {},
   "outputs": [],
   "source": [
    "min_robustness_env_metric = hard_tests.find_min_robustness(G)"
   ]
  },
  {
   "cell_type": "markdown",
   "metadata": {},
   "source": [
    "## Memoryless Average Robustness - Minimizing"
   ]
  },
  {
   "cell_type": "code",
   "execution_count": 14,
   "metadata": {},
   "outputs": [],
   "source": [
    "avg_robustness_env_metric = hard_tests.find_avg_robustness(G)"
   ]
  },
  {
   "cell_type": "markdown",
   "metadata": {},
   "source": [
    "## Memoryless Min Robustness - Averaging"
   ]
  },
  {
   "cell_type": "code",
   "execution_count": 15,
   "metadata": {},
   "outputs": [],
   "source": [
    "min_robustness_env_metric = hard_tests.find_min_robustness(G)"
   ]
  },
  {
   "cell_type": "markdown",
   "metadata": {},
   "source": [
    "## Memoryless Average Robustness - Averaging"
   ]
  },
  {
   "cell_type": "code",
   "execution_count": 16,
   "metadata": {},
   "outputs": [],
   "source": [
    "avg_robustness_env_metric = hard_tests.find_avg_robustness(G)"
   ]
  }
 ],
 "metadata": {
  "kernelspec": {
   "display_name": "env",
   "language": "python",
   "name": "python3"
  },
  "language_info": {
   "codemirror_mode": {
    "name": "ipython",
    "version": 3
   },
   "file_extension": ".py",
   "mimetype": "text/x-python",
   "name": "python",
   "nbconvert_exporter": "python",
   "pygments_lexer": "ipython3",
   "version": "3.8.16"
  },
  "orig_nbformat": 4
 },
 "nbformat": 4,
 "nbformat_minor": 2
}
