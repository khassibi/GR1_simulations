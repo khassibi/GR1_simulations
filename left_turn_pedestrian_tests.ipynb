{
 "cells": [
  {
   "cell_type": "code",
   "execution_count": 1,
   "metadata": {},
   "outputs": [
    {
     "name": "stderr",
     "output_type": "stream",
     "text": [
      "/Users/kimiahassibi/Desktop/Caltech/SURF2023/env/lib/python3.8/site-packages/tulip-1.4.0-py3.8.egg/tulip/transys/mathset.py:719: SyntaxWarning: \"is\" with a literal. Did you mean \"==\"?\n",
      "/Users/kimiahassibi/Desktop/Caltech/SURF2023/env/lib/python3.8/site-packages/tulip-1.4.0-py3.8.egg/tulip/transys/mathset.py:719: SyntaxWarning: \"is\" with a literal. Did you mean \"==\"?\n",
      "/Users/kimiahassibi/Desktop/Caltech/SURF2023/env/lib/python3.8/site-packages/tulip-1.4.0-py3.8.egg/tulip/transys/labeled_graphs.py:1218: SyntaxWarning: \"is\" with a literal. Did you mean \"==\"?\n",
      "/Users/kimiahassibi/Desktop/Caltech/SURF2023/env/lib/python3.8/site-packages/tulip-1.4.0-py3.8.egg/tulip/transys/labeled_graphs.py:1226: SyntaxWarning: \"is\" with a literal. Did you mean \"==\"?\n",
      "/Users/kimiahassibi/Desktop/Caltech/SURF2023/env/lib/python3.8/site-packages/tulip-1.4.0-py3.8.egg/tulip/transys/labeled_graphs.py:1218: SyntaxWarning: \"is\" with a literal. Did you mean \"==\"?\n",
      "/Users/kimiahassibi/Desktop/Caltech/SURF2023/env/lib/python3.8/site-packages/tulip-1.4.0-py3.8.egg/tulip/transys/labeled_graphs.py:1226: SyntaxWarning: \"is\" with a literal. Did you mean \"==\"?\n",
      "/Users/kimiahassibi/Desktop/Caltech/SURF2023/env/lib/python3.8/site-packages/tulip-1.4.0-py3.8.egg/tulip/transys/transys.py:765: SyntaxWarning: \"is not\" with a literal. Did you mean \"!=\"?\n",
      "/Users/kimiahassibi/Desktop/Caltech/SURF2023/env/lib/python3.8/site-packages/tulip-1.4.0-py3.8.egg/tulip/transys/transys.py:765: SyntaxWarning: \"is not\" with a literal. Did you mean \"!=\"?\n",
      "/Users/kimiahassibi/Desktop/Caltech/SURF2023/env/lib/python3.8/site-packages/tulip-1.4.0-py3.8.egg/tulip/synth.py:161: SyntaxWarning: \"is\" with a literal. Did you mean \"==\"?\n",
      "/Users/kimiahassibi/Desktop/Caltech/SURF2023/env/lib/python3.8/site-packages/tulip-1.4.0-py3.8.egg/tulip/synth.py:161: SyntaxWarning: \"is\" with a literal. Did you mean \"==\"?\n",
      "`omega.symbolic.symbolic` failed to import `dd.cudd`.\n",
      "Will use `dd.autoref`.\n"
     ]
    }
   ],
   "source": [
    "from left_turn_pedestrian.controller import sys_ctrl\n",
    "import pickle\n",
    "import hard_tests\n",
    "import random\n",
    "import visualization.animate as animate\n",
    "\n",
    "import tulip as tlp\n",
    "from tulip import transys, abstract, spec, synth\n",
    "from IPython.display import HTML\n",
    "\n",
    "import networkx as nx"
   ]
  },
  {
   "cell_type": "code",
   "execution_count": 2,
   "metadata": {},
   "outputs": [],
   "source": [
    "path = 'left_turn_pedestrian/'"
   ]
  },
  {
   "cell_type": "markdown",
   "metadata": {},
   "source": [
    "# Organizing the Graph"
   ]
  },
  {
   "cell_type": "code",
   "execution_count": 3,
   "metadata": {},
   "outputs": [],
   "source": [
    "# Load the graph from the saved file\n",
    "with open(path + 'graph', \"rb\") as file:\n",
    "    G = pickle.load(file)"
   ]
  },
  {
   "cell_type": "code",
   "execution_count": 4,
   "metadata": {},
   "outputs": [],
   "source": [
    "# Load the system controller from the saved file\n",
    "with open(path + \"ctrl\", \"rb\") as file:\n",
    "    ctrl = pickle.load(file)"
   ]
  },
  {
   "cell_type": "code",
   "execution_count": 5,
   "metadata": {},
   "outputs": [],
   "source": [
    "# Labeling the nodes like system nodes\n",
    "for edge in ctrl.edges:\n",
    "    for (key, val) in ctrl.edges[edge].items():\n",
    "        ctrl.nodes[edge[1]][key] = val"
   ]
  },
  {
   "cell_type": "code",
   "execution_count": 6,
   "metadata": {},
   "outputs": [],
   "source": [
    "# Conversions\n",
    "light_conversion = [\"g1\", \"g2\", \"g3\", \"y1\", \"y2\", \"r\"] # TODO: Double check this conversion\n",
    "loc_conversion = ['c4', 'c7', 'c8', 'c9']\n",
    "for node in G.nodes:\n",
    "    G.nodes[node]['loc'] = loc_conversion[G.nodes[node]['loc']]\n",
    "    G.nodes[node]['light'] = light_conversion[G.nodes[node]['light']]"
   ]
  },
  {
   "cell_type": "code",
   "execution_count": 7,
   "metadata": {},
   "outputs": [
    {
     "data": {
      "text/plain": [
       "834"
      ]
     },
     "execution_count": 7,
     "metadata": {},
     "output_type": "execute_result"
    }
   ],
   "source": [
    "len(G.nodes)"
   ]
  },
  {
   "cell_type": "code",
   "execution_count": 8,
   "metadata": {},
   "outputs": [],
   "source": [
    "# Removing nodes that violate the environment's safety\n",
    "unsafe_env_nodes = set()\n",
    "for node in G.nodes:\n",
    "    if G.nodes[node]['light'] == 'r':\n",
    "        if (G.nodes[node]['p'] == 4 or G.nodes[node]['vh'] == 4 \n",
    "        or G.nodes[node]['p'] == 5 or G.nodes[node]['vh'] == 5):\n",
    "            unsafe_env_nodes.add(node)\n",
    "    if G.nodes[node]['light'] == 'y2':\n",
    "        if G.nodes[node]['p'] == 4 or G.nodes[node]['vh'] == 4:\n",
    "            unsafe_env_nodes.add(node)\n",
    "G.remove_nodes_from(unsafe_env_nodes)"
   ]
  },
  {
   "cell_type": "code",
   "execution_count": 9,
   "metadata": {},
   "outputs": [
    {
     "data": {
      "text/plain": [
       "658"
      ]
     },
     "execution_count": 9,
     "metadata": {},
     "output_type": "execute_result"
    }
   ],
   "source": [
    "len(G.nodes)"
   ]
  },
  {
   "cell_type": "code",
   "execution_count": 10,
   "metadata": {},
   "outputs": [],
   "source": [
    "# Relabeling the nodes in order\n",
    "nodes = list(G.nodes)\n",
    "new_labels = list(range(len(nodes)))\n",
    "mapping = dict(zip(nodes, new_labels))\n",
    "G = nx.relabel_nodes(G, mapping)"
   ]
  },
  {
   "cell_type": "markdown",
   "metadata": {},
   "source": [
    "# Creating the Potential Hard Tests"
   ]
  },
  {
   "cell_type": "markdown",
   "metadata": {},
   "source": [
    "## Memoryless Most Red"
   ]
  },
  {
   "cell_type": "code",
   "execution_count": 11,
   "metadata": {},
   "outputs": [],
   "source": [
    "num_red_sys_metric = hard_tests.find_num_red_successors(G)"
   ]
  },
  {
   "cell_type": "code",
   "execution_count": 12,
   "metadata": {},
   "outputs": [],
   "source": [
    "memoryless_most_red = hard_tests.memoryless_max_metric(G, num_red_sys_metric)"
   ]
  },
  {
   "cell_type": "markdown",
   "metadata": {},
   "source": [
    "# Memoryless Percent Red"
   ]
  },
  {
   "cell_type": "code",
   "execution_count": 13,
   "metadata": {},
   "outputs": [],
   "source": [
    "percent_red_sys_metric = hard_tests.find_percent_red_successors(G)"
   ]
  },
  {
   "cell_type": "code",
   "execution_count": 14,
   "metadata": {},
   "outputs": [],
   "source": [
    "memoryless_percent_red = hard_tests.memoryless_max_metric(G, percent_red_sys_metric)"
   ]
  },
  {
   "cell_type": "code",
   "execution_count": 15,
   "metadata": {},
   "outputs": [
    {
     "data": {
      "text/plain": [
       "{0: [1, 4, 7, 10],\n",
       " 2: [653, 496],\n",
       " 3: [520, 19, 605, 421],\n",
       " 5: [248, 283, 496],\n",
       " 6: [13, 262, 19, 421],\n",
       " 8: [653, 496],\n",
       " 9: [520, 19, 523, 22],\n",
       " 11: [248, 252, 496],\n",
       " 12: [13, 16, 19, 22],\n",
       " 14: [292, 228, 281],\n",
       " 15: [25, 73, 276, 234],\n",
       " 17: [292, 228, 510],\n",
       " 18: [25, 73, 28, 76],\n",
       " 20: [292, 281, 497],\n",
       " 21: [25, 276, 31, 427],\n",
       " 23: [292, 510, 497],\n",
       " 24: [25, 28, 31, 34],\n",
       " 26: [226],\n",
       " 27: [223],\n",
       " 29: [221],\n",
       " 30: [82],\n",
       " 32: [480],\n",
       " 33: [433],\n",
       " 35: [517],\n",
       " 36: [37],\n",
       " 38: [],\n",
       " 39: [40],\n",
       " 41: [],\n",
       " 42: [43, 46, 49, 52],\n",
       " 44: [294, 504, 490],\n",
       " 45: [55, 498, 409, 511],\n",
       " 47: [294, 504, 296],\n",
       " 48: [55, 498, 58, 501],\n",
       " 50: [294, 490, 298],\n",
       " 51: [55, 409, 4, 412],\n",
       " 53: [294, 296, 298],\n",
       " 54: [55, 58, 4, 10],\n",
       " 56: [248, 250, 283],\n",
       " 57: [13, 61, 262, 265],\n",
       " 59: [248, 250, 252],\n",
       " 60: [13, 61, 16, 64],\n",
       " 62: [106, 228],\n",
       " 63: [67, 154, 73, 234],\n",
       " 65: [106, 228],\n",
       " 66: [67, 70, 73, 76],\n",
       " 68: [191],\n",
       " 69: [160],\n",
       " 71: [220],\n",
       " 72: [79],\n",
       " 74: [191, 226],\n",
       " 75: [160, 223],\n",
       " 77: [220, 221],\n",
       " 78: [79, 82],\n",
       " 80: [],\n",
       " 81: [85],\n",
       " 83: [],\n",
       " 84: [85],\n",
       " 86: [],\n",
       " 87: [88, 91],\n",
       " 89: [208],\n",
       " 90: [94, 214],\n",
       " 92: [208],\n",
       " 93: [94, 97],\n",
       " 95: [196],\n",
       " 96: [100, 202],\n",
       " 98: [196],\n",
       " 99: [100, 103],\n",
       " 101: [106],\n",
       " 102: [67, 154],\n",
       " 104: [106],\n",
       " 105: [67, 70],\n",
       " 107: [],\n",
       " 109: [110],\n",
       " 111: [133],\n",
       " 112: [113],\n",
       " 114: [116, 118],\n",
       " 115: [],\n",
       " 117: [120, 152],\n",
       " 119: [120, 122],\n",
       " 121: [124, 150],\n",
       " 123: [124, 126],\n",
       " 125: [128, 148],\n",
       " 127: [128, 130],\n",
       " 129: [134],\n",
       " 131: [132],\n",
       " 135: [136],\n",
       " 137: [138],\n",
       " 139: [140],\n",
       " 141: [142],\n",
       " 143: [144],\n",
       " 145: [146],\n",
       " 147: [136],\n",
       " 149: [146, 134],\n",
       " 151: [144, 148],\n",
       " 153: [142, 150],\n",
       " 155: [178, 191],\n",
       " 156: [157, 160],\n",
       " 158: [],\n",
       " 159: [163],\n",
       " 161: [],\n",
       " 162: [163],\n",
       " 164: [],\n",
       " 165: [166],\n",
       " 167: [188],\n",
       " 168: [169],\n",
       " 170: [185],\n",
       " 171: [172],\n",
       " 173: [182],\n",
       " 174: [175],\n",
       " 176: [178],\n",
       " 177: [157],\n",
       " 179: [180],\n",
       " 181: [],\n",
       " 183: [184],\n",
       " 186: [187],\n",
       " 189: [190],\n",
       " 192: [180],\n",
       " 194: [184, 195],\n",
       " 197: [],\n",
       " 199: [200],\n",
       " 203: [182, 193],\n",
       " 204: [175, 154],\n",
       " 206: [187, 207],\n",
       " 209: [],\n",
       " 211: [212],\n",
       " 215: [185, 205],\n",
       " 216: [172, 202],\n",
       " 218: [190, 219],\n",
       " 222: [113],\n",
       " 224: [],\n",
       " 225: [163],\n",
       " 227: [180],\n",
       " 229: [],\n",
       " 231: [110, 232],\n",
       " 233: [133],\n",
       " 235: [178, 191, 240, 226],\n",
       " 236: [157, 160, 237, 223],\n",
       " 238: [],\n",
       " 239: [163],\n",
       " 241: [180],\n",
       " 243: [184, 195, 244, 246],\n",
       " 245: [136],\n",
       " 247: [136],\n",
       " 249: [],\n",
       " 251: [],\n",
       " 253: [],\n",
       " 255: [200, 256],\n",
       " 257: [134, 261],\n",
       " 259: [132, 260],\n",
       " 263: [279, 281],\n",
       " 264: [273, 268, 276, 234],\n",
       " 266: [182, 193, 271, 242],\n",
       " 267: [175, 154, 268, 234],\n",
       " 269: [178, 240],\n",
       " 270: [157, 237],\n",
       " 272: [184, 244],\n",
       " 274: [240],\n",
       " 275: [237],\n",
       " 277: [240, 226],\n",
       " 278: [237, 223],\n",
       " 280: [],\n",
       " 282: [],\n",
       " 284: [],\n",
       " 286: [187, 207, 287, 289],\n",
       " 288: [146, 291],\n",
       " 290: [146, 134, 291, 261],\n",
       " 293: [],\n",
       " 295: [],\n",
       " 297: [],\n",
       " 299: [],\n",
       " 301: [306],\n",
       " 303: [349, 386, 382, 388],\n",
       " 305: [349, 386, 350, 387],\n",
       " 307: [349, 382, 351, 384],\n",
       " 308: [],\n",
       " 310: [349, 350, 351, 352],\n",
       " 311: [312, 314, 317],\n",
       " 313: [261],\n",
       " 315: [260],\n",
       " 316: [],\n",
       " 318: [355],\n",
       " 319: [],\n",
       " 321: [353],\n",
       " 322: [323],\n",
       " 324: [354],\n",
       " 325: [326],\n",
       " 327: [329, 331, 333, 335],\n",
       " 328: [],\n",
       " 330: [337, 403, 399, 407],\n",
       " 332: [337, 403, 339, 405],\n",
       " 334: [337, 399, 341, 401],\n",
       " 336: [337, 339, 341, 343],\n",
       " 338: [345, 393, 389, 397],\n",
       " 340: [345, 393, 346, 395],\n",
       " 342: [345, 389, 347, 391],\n",
       " 344: [345, 346, 347, 348],\n",
       " 356: [357],\n",
       " 358: [359, 361],\n",
       " 360: [363, 380],\n",
       " 362: [363, 365],\n",
       " 364: [367, 378],\n",
       " 366: [367, 369],\n",
       " 368: [371, 377],\n",
       " 370: [371, 373],\n",
       " 372: [291],\n",
       " 374: [375],\n",
       " 376: [357],\n",
       " 379: [144, 377],\n",
       " 381: [142, 378],\n",
       " 383: [291, 261],\n",
       " 385: [375, 355],\n",
       " 390: [371, 377, 382, 388],\n",
       " 392: [371, 382, 373, 384],\n",
       " 394: [128, 148, 386, 388],\n",
       " 396: [128, 130, 386, 387],\n",
       " 398: [144, 148, 377, 388],\n",
       " 400: [367, 378, 389, 397],\n",
       " 402: [367, 389, 369, 391],\n",
       " 404: [124, 150, 393, 397],\n",
       " 406: [124, 126, 393, 395],\n",
       " 408: [142, 150, 378, 397],\n",
       " 410: [451, 283],\n",
       " 411: [415, 462, 262, 265],\n",
       " 413: [451, 283],\n",
       " 414: [415, 262, 418, 421],\n",
       " 416: [279],\n",
       " 417: [273, 268],\n",
       " 419: [279],\n",
       " 420: [273, 424],\n",
       " 422: [279, 281],\n",
       " 423: [273, 276, 424, 427],\n",
       " 425: [479],\n",
       " 426: [430],\n",
       " 428: [479, 480],\n",
       " 429: [430, 433],\n",
       " 431: [],\n",
       " 432: [436],\n",
       " 434: [],\n",
       " 435: [436],\n",
       " 437: [],\n",
       " 438: [439, 442],\n",
       " 440: [467],\n",
       " 441: [445, 473],\n",
       " 443: [467],\n",
       " 444: [445, 448],\n",
       " 446: [451],\n",
       " 447: [415, 462],\n",
       " 449: [451],\n",
       " 450: [415, 418],\n",
       " 452: [],\n",
       " 454: [455],\n",
       " 457: [458],\n",
       " 459: [460],\n",
       " 461: [],\n",
       " 463: [182, 271],\n",
       " 464: [175, 268],\n",
       " 466: [187, 287],\n",
       " 468: [],\n",
       " 470: [471],\n",
       " 474: [185, 465],\n",
       " 475: [172, 462],\n",
       " 477: [190, 478],\n",
       " 481: [460],\n",
       " 484: [458, 485],\n",
       " 487: [455, 488],\n",
       " 491: [],\n",
       " 493: [471, 494],\n",
       " 499: [196, 250],\n",
       " 500: [100, 202, 61, 265],\n",
       " 502: [196, 250],\n",
       " 503: [100, 103, 61, 64],\n",
       " 505: [],\n",
       " 507: [212, 508],\n",
       " 512: [185, 205, 465, 285],\n",
       " 513: [172, 202, 462, 265],\n",
       " 515: [190, 219, 478, 516],\n",
       " 521: [654, 497],\n",
       " 522: [526, 31, 611, 427],\n",
       " 524: [654, 497],\n",
       " 525: [526, 31, 529, 34],\n",
       " 527: [641, 480],\n",
       " 528: [617, 433],\n",
       " 530: [655, 517],\n",
       " 531: [532, 37],\n",
       " 533: [],\n",
       " 534: [535, 40],\n",
       " 536: [],\n",
       " 537: [538, 49, 541, 52],\n",
       " 539: [543, 298],\n",
       " 540: [1, 4, 599, 412],\n",
       " 542: [543, 298],\n",
       " 544: [],\n",
       " 546: [547, 306],\n",
       " 548: [575, 351, 593, 384],\n",
       " 549: [],\n",
       " 551: [575, 351, 576, 352],\n",
       " 552: [553, 317],\n",
       " 554: [579, 355],\n",
       " 555: [],\n",
       " 557: [577, 353],\n",
       " 558: [559, 323],\n",
       " 560: [578, 354],\n",
       " 561: [562, 326],\n",
       " 563: [565, 333, 567, 335],\n",
       " 564: [],\n",
       " 566: [569, 341, 597, 401],\n",
       " 568: [569, 341, 571, 343],\n",
       " 570: [573, 347, 595, 391],\n",
       " 572: [573, 347, 574, 348],\n",
       " 580: [581, 357],\n",
       " 582: [583, 361],\n",
       " 584: [585, 365],\n",
       " 586: [587, 369],\n",
       " 588: [589, 373],\n",
       " 590: [591, 375],\n",
       " 592: [581, 357],\n",
       " 594: [591, 375, 579, 355],\n",
       " 596: [589, 373, 593, 384],\n",
       " 598: [587, 369, 595, 391],\n",
       " 600: [629, 453, 647, 486],\n",
       " 601: [602, 418, 605, 421],\n",
       " 603: [643, 482],\n",
       " 604: [608, 424],\n",
       " 606: [643, 482, 644, 483],\n",
       " 607: [608, 424, 611, 427],\n",
       " 609: [640, 479],\n",
       " 610: [614, 430],\n",
       " 612: [640, 479, 641, 480],\n",
       " 613: [614, 430, 617, 433],\n",
       " 615: [],\n",
       " 616: [620, 436],\n",
       " 618: [],\n",
       " 619: [620, 436],\n",
       " 621: [],\n",
       " 622: [623, 442],\n",
       " 624: [637, 469],\n",
       " 625: [626, 448],\n",
       " 627: [629, 453],\n",
       " 628: [602, 418],\n",
       " 630: [631, 456],\n",
       " 632: [633, 458],\n",
       " 634: [635, 460],\n",
       " 636: [],\n",
       " 638: [639, 472],\n",
       " 642: [635, 460],\n",
       " 645: [633, 458, 646, 485],\n",
       " 648: [631, 456, 649, 489],\n",
       " 651: [639, 472, 652, 495]}"
      ]
     },
     "execution_count": 15,
     "metadata": {},
     "output_type": "execute_result"
    }
   ],
   "source": [
    "memoryless_percent_red"
   ]
  },
  {
   "cell_type": "markdown",
   "metadata": {},
   "source": [
    "How many possible tests for maximizing the number of unsafe actions the system can take at the next timestep. This number was found by multiplying the number of equivalent transitions the environment can take at each state."
   ]
  },
  {
   "cell_type": "code",
   "execution_count": 16,
   "metadata": {},
   "outputs": [
    {
     "name": "stdout",
     "output_type": "stream",
     "text": [
      "1548620848130000524767764632836296566897420999429062118970376658266079548350611814218727424 1 1\n"
     ]
    }
   ],
   "source": [
    "num_tests = 1\n",
    "other_prod = 1\n",
    "other_other_prod = 1\n",
    "for val in memoryless_percent_red.values():\n",
    "    if num_tests * len(val) != 0:\n",
    "        num_tests *= len(val)\n",
    "    elif other_prod * len(val) != 0:\n",
    "        other_prod *= len(val)\n",
    "    else:\n",
    "        other_other_prod *= len(val)\n",
    "print(num_tests, other_prod, other_prod)"
   ]
  },
  {
   "cell_type": "markdown",
   "metadata": {},
   "source": [
    "The product of all the transitions the environment can take at each state"
   ]
  },
  {
   "cell_type": "code",
   "execution_count": 17,
   "metadata": {},
   "outputs": [
    {
     "name": "stdout",
     "output_type": "stream",
     "text": [
      "82510189311587271550321771516564456630524805860574954300638357779747406427354829326728095115032650357610735562915840000000000000000000000000000000000000000000000000000000000000000000 1 1\n"
     ]
    }
   ],
   "source": [
    "num_trajectories = 1\n",
    "other_prod = 1\n",
    "other_other_prod = 1\n",
    "env_nodes = [node for node in G.nodes if 'oval' in G.nodes[node]['shape']]\n",
    "for env_node in env_nodes:\n",
    "    if num_trajectories * G.degree(env_node) != 0:\n",
    "        num_trajectories *= G.degree(env_node)\n",
    "    elif other_prod * G.degree(env_node) != 0:\n",
    "        other_prod *= G.degree(env_node)\n",
    "    else:\n",
    "        other_other_prod *= G.degree(env_node)\n",
    "print(num_trajectories, other_prod, other_prod)"
   ]
  },
  {
   "cell_type": "markdown",
   "metadata": {},
   "source": [
    "The ratio of (the number of possible tests for maximizing the number of unsafe actions the system can take at the next timestep) to (the product of all the transitions the environment can take at each state)"
   ]
  },
  {
   "cell_type": "code",
   "execution_count": 35,
   "metadata": {},
   "outputs": [
    {
     "data": {
      "text/plain": [
       "1.8768843715554543e-92"
      ]
     },
     "execution_count": 35,
     "metadata": {},
     "output_type": "execute_result"
    }
   ],
   "source": [
    "1548620848130000524767764632836296566897420999429062118970376658266079548350611814218727424 / 82510189311587271550321771516564456630524805860574954300638357779747406427354829326728095115032650357610735562915840000000000000000000000000000000000000000000000000000000000000000000"
   ]
  },
  {
   "cell_type": "markdown",
   "metadata": {},
   "source": [
    "The ratio of (the number of red nodes in G) to (the total number of nodes in G)"
   ]
  },
  {
   "cell_type": "code",
   "execution_count": 37,
   "metadata": {},
   "outputs": [],
   "source": [
    "red_nodes = [node for node in G.nodes if 'color' in G.nodes[node] and G.nodes[node]['color'] == 'red']"
   ]
  },
  {
   "cell_type": "code",
   "execution_count": 41,
   "metadata": {},
   "outputs": [
    {
     "data": {
      "text/plain": [
       "0.0729483282674772"
      ]
     },
     "execution_count": 41,
     "metadata": {},
     "output_type": "execute_result"
    }
   ],
   "source": [
    "len(red_nodes) / G.number_of_nodes()"
   ]
  },
  {
   "cell_type": "markdown",
   "metadata": {},
   "source": [
    "## Memoryless Min Robustness - Minimizing "
   ]
  },
  {
   "cell_type": "code",
   "execution_count": 18,
   "metadata": {},
   "outputs": [],
   "source": [
    "min_robustness_env_metric = hard_tests.find_min_robustness(G)"
   ]
  },
  {
   "cell_type": "code",
   "execution_count": 19,
   "metadata": {},
   "outputs": [],
   "source": [
    "memoryless_min_rob_minimizing = hard_tests.memoryless_robustness_minimization(G, min_robustness_env_metric)"
   ]
  },
  {
   "cell_type": "markdown",
   "metadata": {},
   "source": [
    "How many possible tests for minimizing robustness. This number was found by multiplying the number of equivalent transitions the environment can take at each state."
   ]
  },
  {
   "cell_type": "code",
   "execution_count": 20,
   "metadata": {},
   "outputs": [
    {
     "name": "stdout",
     "output_type": "stream",
     "text": [
      "1 1 1\n"
     ]
    }
   ],
   "source": [
    "num_tests = 1\n",
    "other_prod = 1\n",
    "other_other_prod = 1\n",
    "for val in memoryless_min_rob_minimizing.values():\n",
    "    if num_tests * len(val) != 0:\n",
    "        num_tests *= len(val)\n",
    "    elif other_prod * len(val) != 0:\n",
    "        other_prod *= len(val)\n",
    "    else:\n",
    "        other_other_prod *= len(val)\n",
    "print(num_tests, other_prod, other_prod)"
   ]
  },
  {
   "cell_type": "code",
   "execution_count": 21,
   "metadata": {},
   "outputs": [
    {
     "data": {
      "text/plain": [
       "{0: [10],\n",
       " 2: [486],\n",
       " 3: [421],\n",
       " 5: [486],\n",
       " 6: [421],\n",
       " 8: [519],\n",
       " 9: [22],\n",
       " 11: [519],\n",
       " 12: [22],\n",
       " 14: [242],\n",
       " 15: [234],\n",
       " 17: [230],\n",
       " 18: [76],\n",
       " 20: [483],\n",
       " 21: [427],\n",
       " 23: [518],\n",
       " 24: [34],\n",
       " 26: [226],\n",
       " 27: [223],\n",
       " 29: [221],\n",
       " 30: [82],\n",
       " 32: [480],\n",
       " 33: [433],\n",
       " 35: [517],\n",
       " 36: [37],\n",
       " 38: [37],\n",
       " 39: [40],\n",
       " 41: [40],\n",
       " 42: [52],\n",
       " 44: [514],\n",
       " 45: [511],\n",
       " 47: [506],\n",
       " 48: [501],\n",
       " 50: [492],\n",
       " 51: [412],\n",
       " 53: [300],\n",
       " 54: [10],\n",
       " 56: [285],\n",
       " 57: [265],\n",
       " 59: [254],\n",
       " 60: [64],\n",
       " 62: [242],\n",
       " 63: [234],\n",
       " 65: [230],\n",
       " 66: [76],\n",
       " 68: [191],\n",
       " 69: [160],\n",
       " 71: [220],\n",
       " 72: [79],\n",
       " 74: [226],\n",
       " 75: [223],\n",
       " 77: [221],\n",
       " 78: [82],\n",
       " 80: [82],\n",
       " 81: [85],\n",
       " 83: [85],\n",
       " 84: [85],\n",
       " 86: [85],\n",
       " 87: [91],\n",
       " 89: [217],\n",
       " 90: [214],\n",
       " 92: [210],\n",
       " 93: [97],\n",
       " 95: [205],\n",
       " 96: [202],\n",
       " 98: [198],\n",
       " 99: [103],\n",
       " 101: [193],\n",
       " 102: [154],\n",
       " 104: [108],\n",
       " 105: [70],\n",
       " 107: [70],\n",
       " 109: [110],\n",
       " 111: [133],\n",
       " 112: [113],\n",
       " 114: [118],\n",
       " 115: [118],\n",
       " 117: [152],\n",
       " 119: [122],\n",
       " 121: [150],\n",
       " 123: [126],\n",
       " 125: [148],\n",
       " 127: [130],\n",
       " 129: [134],\n",
       " 131: [132],\n",
       " 135: [136],\n",
       " 137: [138],\n",
       " 139: [140],\n",
       " 141: [142],\n",
       " 143: [144],\n",
       " 145: [146],\n",
       " 147: [136],\n",
       " 149: [134],\n",
       " 151: [148],\n",
       " 153: [150],\n",
       " 155: [191],\n",
       " 156: [160],\n",
       " 158: [160],\n",
       " 159: [163],\n",
       " 161: [163],\n",
       " 162: [163],\n",
       " 164: [163],\n",
       " 165: [166],\n",
       " 167: [188],\n",
       " 168: [169],\n",
       " 170: [185],\n",
       " 171: [172],\n",
       " 173: [182],\n",
       " 174: [175],\n",
       " 176: [178],\n",
       " 177: [157],\n",
       " 179: [180],\n",
       " 181: [180],\n",
       " 183: [184],\n",
       " 186: [187],\n",
       " 189: [190],\n",
       " 192: [180],\n",
       " 194: [195],\n",
       " 197: [195],\n",
       " 199: [201],\n",
       " 203: [193],\n",
       " 204: [154],\n",
       " 206: [207],\n",
       " 209: [207],\n",
       " 211: [213],\n",
       " 215: [205],\n",
       " 216: [202],\n",
       " 218: [219],\n",
       " 222: [113],\n",
       " 224: [113],\n",
       " 225: [163],\n",
       " 227: [180],\n",
       " 229: [180],\n",
       " 231: [232],\n",
       " 233: [133],\n",
       " 235: [226],\n",
       " 236: [223],\n",
       " 238: [223],\n",
       " 239: [163],\n",
       " 241: [180],\n",
       " 243: [246],\n",
       " 245: [136],\n",
       " 247: [136],\n",
       " 249: [136],\n",
       " 251: [136],\n",
       " 253: [136],\n",
       " 255: [258],\n",
       " 257: [261],\n",
       " 259: [260],\n",
       " 263: [242],\n",
       " 264: [234],\n",
       " 266: [242],\n",
       " 267: [234],\n",
       " 269: [240],\n",
       " 270: [237],\n",
       " 272: [244],\n",
       " 274: [240],\n",
       " 275: [237],\n",
       " 277: [226],\n",
       " 278: [223],\n",
       " 280: [223],\n",
       " 282: [223],\n",
       " 284: [223],\n",
       " 286: [289],\n",
       " 288: [291],\n",
       " 290: [261],\n",
       " 293: [261],\n",
       " 295: [261],\n",
       " 297: [261],\n",
       " 299: [261],\n",
       " 301: [309],\n",
       " 303: [388],\n",
       " 305: [387],\n",
       " 307: [384],\n",
       " 308: [384],\n",
       " 310: [352],\n",
       " 311: [320],\n",
       " 313: [261],\n",
       " 315: [260],\n",
       " 316: [260],\n",
       " 318: [355],\n",
       " 319: [355],\n",
       " 321: [353],\n",
       " 322: [323],\n",
       " 324: [354],\n",
       " 325: [326],\n",
       " 327: [335],\n",
       " 328: [335],\n",
       " 330: [407],\n",
       " 332: [405],\n",
       " 334: [401],\n",
       " 336: [343],\n",
       " 338: [397],\n",
       " 340: [395],\n",
       " 342: [391],\n",
       " 344: [348],\n",
       " 356: [357],\n",
       " 358: [361],\n",
       " 360: [380],\n",
       " 362: [365],\n",
       " 364: [378],\n",
       " 366: [369],\n",
       " 368: [377],\n",
       " 370: [373],\n",
       " 372: [291],\n",
       " 374: [375],\n",
       " 376: [357],\n",
       " 379: [377],\n",
       " 381: [378],\n",
       " 383: [261],\n",
       " 385: [355],\n",
       " 390: [388],\n",
       " 392: [384],\n",
       " 394: [388],\n",
       " 396: [387],\n",
       " 398: [388],\n",
       " 400: [397],\n",
       " 402: [391],\n",
       " 404: [397],\n",
       " 406: [395],\n",
       " 408: [397],\n",
       " 410: [285],\n",
       " 411: [265],\n",
       " 413: [486],\n",
       " 414: [421],\n",
       " 416: [271],\n",
       " 417: [268],\n",
       " 419: [482],\n",
       " 420: [424],\n",
       " 422: [483],\n",
       " 423: [427],\n",
       " 425: [479],\n",
       " 426: [430],\n",
       " 428: [480],\n",
       " 429: [433],\n",
       " 431: [433],\n",
       " 432: [436],\n",
       " 434: [436],\n",
       " 435: [436],\n",
       " 437: [436],\n",
       " 438: [442],\n",
       " 440: [476],\n",
       " 441: [473],\n",
       " 443: [469],\n",
       " 444: [448],\n",
       " 446: [465],\n",
       " 447: [462],\n",
       " 449: [453],\n",
       " 450: [418],\n",
       " 452: [418],\n",
       " 454: [456],\n",
       " 457: [458],\n",
       " 459: [460],\n",
       " 461: [460],\n",
       " 463: [271],\n",
       " 464: [268],\n",
       " 466: [287],\n",
       " 468: [287],\n",
       " 470: [472],\n",
       " 474: [465],\n",
       " 475: [462],\n",
       " 477: [478],\n",
       " 481: [460],\n",
       " 484: [485],\n",
       " 487: [489],\n",
       " 491: [489],\n",
       " 493: [495],\n",
       " 499: [285],\n",
       " 500: [265],\n",
       " 502: [254],\n",
       " 503: [64],\n",
       " 505: [64],\n",
       " 507: [509],\n",
       " 512: [285],\n",
       " 513: [265],\n",
       " 515: [516],\n",
       " 521: [483],\n",
       " 522: [427],\n",
       " 524: [518],\n",
       " 525: [34],\n",
       " 527: [480],\n",
       " 528: [433],\n",
       " 530: [517],\n",
       " 531: [37],\n",
       " 533: [37],\n",
       " 534: [40],\n",
       " 536: [40],\n",
       " 537: [52],\n",
       " 539: [492],\n",
       " 540: [412],\n",
       " 542: [300],\n",
       " 544: [300],\n",
       " 546: [309],\n",
       " 548: [384],\n",
       " 549: [384],\n",
       " 551: [352],\n",
       " 552: [320],\n",
       " 554: [355],\n",
       " 555: [355],\n",
       " 557: [353],\n",
       " 558: [323],\n",
       " 560: [354],\n",
       " 561: [326],\n",
       " 563: [335],\n",
       " 564: [335],\n",
       " 566: [401],\n",
       " 568: [343],\n",
       " 570: [391],\n",
       " 572: [348],\n",
       " 580: [357],\n",
       " 582: [361],\n",
       " 584: [365],\n",
       " 586: [369],\n",
       " 588: [373],\n",
       " 590: [375],\n",
       " 592: [357],\n",
       " 594: [355],\n",
       " 596: [384],\n",
       " 598: [391],\n",
       " 600: [486],\n",
       " 601: [421],\n",
       " 603: [482],\n",
       " 604: [424],\n",
       " 606: [483],\n",
       " 607: [427],\n",
       " 609: [479],\n",
       " 610: [430],\n",
       " 612: [480],\n",
       " 613: [433],\n",
       " 615: [433],\n",
       " 616: [436],\n",
       " 618: [436],\n",
       " 619: [436],\n",
       " 621: [436],\n",
       " 622: [442],\n",
       " 624: [469],\n",
       " 625: [448],\n",
       " 627: [453],\n",
       " 628: [418],\n",
       " 630: [456],\n",
       " 632: [458],\n",
       " 634: [460],\n",
       " 636: [460],\n",
       " 638: [472],\n",
       " 642: [460],\n",
       " 645: [485],\n",
       " 648: [489],\n",
       " 651: [495]}"
      ]
     },
     "execution_count": 21,
     "metadata": {},
     "output_type": "execute_result"
    }
   ],
   "source": [
    "memoryless_min_rob_minimizing"
   ]
  },
  {
   "cell_type": "code",
   "execution_count": 46,
   "metadata": {},
   "outputs": [
    {
     "name": "stdout",
     "output_type": "stream",
     "text": [
      "486 [653, 496]\n",
      "486 [248, 283, 496]\n",
      "519 [653, 496]\n",
      "519 [248, 252, 496]\n",
      "242 [292, 228, 281]\n",
      "230 [292, 228, 510]\n",
      "483 [292, 281, 497]\n",
      "518 [292, 510, 497]\n",
      "37 []\n",
      "40 []\n",
      "514 [294, 504, 490]\n",
      "506 [294, 504, 296]\n",
      "492 [294, 490, 298]\n",
      "300 [294, 296, 298]\n",
      "285 [248, 250, 283]\n",
      "254 [248, 250, 252]\n",
      "242 [106, 228]\n",
      "230 [106, 228]\n",
      "82 []\n",
      "85 []\n",
      "85 []\n",
      "217 [208]\n",
      "210 [208]\n",
      "205 [196]\n",
      "198 [196]\n",
      "193 [106]\n",
      "108 [106]\n",
      "70 []\n",
      "118 []\n",
      "160 []\n",
      "163 []\n",
      "163 []\n",
      "180 []\n",
      "195 []\n",
      "201 [200]\n",
      "207 []\n",
      "213 [212]\n",
      "113 []\n",
      "180 []\n",
      "223 []\n",
      "136 []\n",
      "136 []\n",
      "136 []\n",
      "258 [200, 256]\n",
      "242 [279, 281]\n",
      "223 []\n",
      "223 []\n",
      "223 []\n",
      "261 []\n",
      "261 []\n",
      "261 []\n",
      "261 []\n",
      "309 [306]\n",
      "384 []\n",
      "320 [312, 314, 317]\n",
      "260 []\n",
      "355 []\n",
      "335 []\n",
      "285 [451, 283]\n",
      "486 [451, 283]\n",
      "271 [279]\n",
      "482 [279]\n",
      "483 [279, 281]\n",
      "433 []\n",
      "436 []\n",
      "436 []\n",
      "476 [467]\n",
      "469 [467]\n",
      "465 [451]\n",
      "453 [451]\n",
      "418 []\n",
      "456 [455]\n",
      "460 []\n",
      "287 []\n",
      "472 [471]\n",
      "489 [455, 488]\n",
      "489 []\n",
      "495 [471, 494]\n",
      "285 [196, 250]\n",
      "254 [196, 250]\n",
      "64 []\n",
      "509 [212, 508]\n",
      "483 [654, 497]\n",
      "518 [654, 497]\n",
      "37 []\n",
      "40 []\n",
      "492 [543, 298]\n",
      "300 [543, 298]\n",
      "300 []\n",
      "309 [547, 306]\n",
      "384 []\n",
      "320 [553, 317]\n",
      "355 []\n",
      "335 []\n",
      "433 []\n",
      "436 []\n",
      "436 []\n",
      "460 []\n",
      "False\n"
     ]
    }
   ],
   "source": [
    "robust_exists = True\n",
    "for key, val in memoryless_min_rob_minimizing.items():\n",
    "    if val[0] not in memoryless_percent_red[key]:\n",
    "        robust_exists = False\n",
    "        print(val[0], memoryless_percent_red[key])\n",
    "print(robust_exists)"
   ]
  },
  {
   "cell_type": "markdown",
   "metadata": {},
   "source": [
    "## Memoryless Average Robustness - Minimizing"
   ]
  },
  {
   "cell_type": "code",
   "execution_count": 22,
   "metadata": {},
   "outputs": [],
   "source": [
    "avg_robustness_env_metric = hard_tests.find_avg_robustness(G)"
   ]
  },
  {
   "cell_type": "code",
   "execution_count": 23,
   "metadata": {},
   "outputs": [],
   "source": [
    "memoryless_avg_rob_minimizing = hard_tests.memoryless_robustness_minimization(G, avg_robustness_env_metric)"
   ]
  },
  {
   "cell_type": "markdown",
   "metadata": {},
   "source": [
    "## Memoryless Min Robustness - Averaging"
   ]
  },
  {
   "cell_type": "code",
   "execution_count": 24,
   "metadata": {},
   "outputs": [],
   "source": [
    "min_robustness_env_metric = hard_tests.find_min_robustness(G)"
   ]
  },
  {
   "cell_type": "code",
   "execution_count": 25,
   "metadata": {},
   "outputs": [],
   "source": [
    "memoryless_min_rob_averaging = hard_tests.memoryless_robustness_averaging(G, min_robustness_env_metric)"
   ]
  },
  {
   "cell_type": "markdown",
   "metadata": {},
   "source": [
    "## Memoryless Average Robustness - Averaging"
   ]
  },
  {
   "cell_type": "code",
   "execution_count": 26,
   "metadata": {},
   "outputs": [],
   "source": [
    "avg_robustness_env_metric = hard_tests.find_avg_robustness(G)"
   ]
  },
  {
   "cell_type": "code",
   "execution_count": 27,
   "metadata": {},
   "outputs": [],
   "source": [
    "memoryless_avg_rob_averaging = hard_tests.memoryless_robustness_averaging(G, avg_robustness_env_metric)"
   ]
  },
  {
   "cell_type": "markdown",
   "metadata": {},
   "source": [
    "# Comparing Tests"
   ]
  },
  {
   "cell_type": "code",
   "execution_count": 28,
   "metadata": {},
   "outputs": [
    {
     "data": {
      "text/plain": [
       "True"
      ]
     },
     "execution_count": 28,
     "metadata": {},
     "output_type": "execute_result"
    }
   ],
   "source": [
    "memoryless_most_red == memoryless_percent_red"
   ]
  },
  {
   "cell_type": "code",
   "execution_count": 29,
   "metadata": {},
   "outputs": [
    {
     "data": {
      "text/plain": [
       "True"
      ]
     },
     "execution_count": 29,
     "metadata": {},
     "output_type": "execute_result"
    }
   ],
   "source": [
    "memoryless_avg_rob_minimizing == memoryless_min_rob_minimizing"
   ]
  },
  {
   "cell_type": "code",
   "execution_count": 30,
   "metadata": {},
   "outputs": [
    {
     "data": {
      "text/plain": [
       "True"
      ]
     },
     "execution_count": 30,
     "metadata": {},
     "output_type": "execute_result"
    }
   ],
   "source": [
    "memoryless_avg_rob_averaging == memoryless_min_rob_averaging"
   ]
  },
  {
   "cell_type": "code",
   "execution_count": 31,
   "metadata": {},
   "outputs": [
    {
     "data": {
      "text/plain": [
       "True"
      ]
     },
     "execution_count": 31,
     "metadata": {},
     "output_type": "execute_result"
    }
   ],
   "source": [
    "memoryless_min_rob_minimizing == memoryless_min_rob_averaging"
   ]
  },
  {
   "cell_type": "code",
   "execution_count": 32,
   "metadata": {},
   "outputs": [
    {
     "data": {
      "text/plain": [
       "True"
      ]
     },
     "execution_count": 32,
     "metadata": {},
     "output_type": "execute_result"
    }
   ],
   "source": [
    "memoryless_avg_rob_minimizing == memoryless_avg_rob_averaging"
   ]
  },
  {
   "cell_type": "markdown",
   "metadata": {},
   "source": [
    "So all of the robustness tests are the same"
   ]
  },
  {
   "cell_type": "code",
   "execution_count": 33,
   "metadata": {},
   "outputs": [
    {
     "data": {
      "text/plain": [
       "False"
      ]
     },
     "execution_count": 33,
     "metadata": {},
     "output_type": "execute_result"
    }
   ],
   "source": [
    "memoryless_most_red == memoryless_avg_rob_minimizing"
   ]
  },
  {
   "cell_type": "markdown",
   "metadata": {},
   "source": [
    "But the counting neighbors tests are not the same as the memoryless tests"
   ]
  },
  {
   "cell_type": "markdown",
   "metadata": {},
   "source": []
  }
 ],
 "metadata": {
  "kernelspec": {
   "display_name": "env",
   "language": "python",
   "name": "python3"
  },
  "language_info": {
   "codemirror_mode": {
    "name": "ipython",
    "version": 3
   },
   "file_extension": ".py",
   "mimetype": "text/x-python",
   "name": "python",
   "nbconvert_exporter": "python",
   "pygments_lexer": "ipython3",
   "version": "3.8.16"
  },
  "orig_nbformat": 4
 },
 "nbformat": 4,
 "nbformat_minor": 2
}
