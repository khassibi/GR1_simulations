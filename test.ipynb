{
 "cells": [
  {
   "cell_type": "code",
   "execution_count": 1,
   "metadata": {},
   "outputs": [
    {
     "name": "stderr",
     "output_type": "stream",
     "text": [
      "`omega.symbolic.symbolic` failed to import `dd.cudd`.\n",
      "Will use `dd.autoref`.\n",
      "/Users/kimiahassibi/Desktop/Caltech/SURF2023/env/lib/python3.8/site-packages/tulip-1.4.0-py3.8.egg/tulip/transys/mathset.py:719: SyntaxWarning: \"is\" with a literal. Did you mean \"==\"?\n",
      "/Users/kimiahassibi/Desktop/Caltech/SURF2023/env/lib/python3.8/site-packages/tulip-1.4.0-py3.8.egg/tulip/transys/mathset.py:719: SyntaxWarning: \"is\" with a literal. Did you mean \"==\"?\n",
      "/Users/kimiahassibi/Desktop/Caltech/SURF2023/env/lib/python3.8/site-packages/tulip-1.4.0-py3.8.egg/tulip/transys/labeled_graphs.py:1218: SyntaxWarning: \"is\" with a literal. Did you mean \"==\"?\n",
      "/Users/kimiahassibi/Desktop/Caltech/SURF2023/env/lib/python3.8/site-packages/tulip-1.4.0-py3.8.egg/tulip/transys/labeled_graphs.py:1226: SyntaxWarning: \"is\" with a literal. Did you mean \"==\"?\n",
      "/Users/kimiahassibi/Desktop/Caltech/SURF2023/env/lib/python3.8/site-packages/tulip-1.4.0-py3.8.egg/tulip/transys/labeled_graphs.py:1218: SyntaxWarning: \"is\" with a literal. Did you mean \"==\"?\n",
      "/Users/kimiahassibi/Desktop/Caltech/SURF2023/env/lib/python3.8/site-packages/tulip-1.4.0-py3.8.egg/tulip/transys/labeled_graphs.py:1226: SyntaxWarning: \"is\" with a literal. Did you mean \"==\"?\n",
      "/Users/kimiahassibi/Desktop/Caltech/SURF2023/env/lib/python3.8/site-packages/tulip-1.4.0-py3.8.egg/tulip/transys/transys.py:765: SyntaxWarning: \"is not\" with a literal. Did you mean \"!=\"?\n",
      "/Users/kimiahassibi/Desktop/Caltech/SURF2023/env/lib/python3.8/site-packages/tulip-1.4.0-py3.8.egg/tulip/transys/transys.py:765: SyntaxWarning: \"is not\" with a literal. Did you mean \"!=\"?\n",
      "/Users/kimiahassibi/Desktop/Caltech/SURF2023/env/lib/python3.8/site-packages/tulip-1.4.0-py3.8.egg/tulip/synth.py:161: SyntaxWarning: \"is\" with a literal. Did you mean \"==\"?\n",
      "/Users/kimiahassibi/Desktop/Caltech/SURF2023/env/lib/python3.8/site-packages/tulip-1.4.0-py3.8.egg/tulip/synth.py:161: SyntaxWarning: \"is\" with a literal. Did you mean \"==\"?\n"
     ]
    }
   ],
   "source": [
    "import omega\n",
    "\n",
    "import networkx as nx\n",
    "\n",
    "from omega.games import enumeration as enum\n",
    "from omega.symbolic import fol as _fol\n",
    "from omega.symbolic import temporal as symbolic\n",
    "\n",
    "import matplotlib.pyplot as plt\n",
    "\n",
    "from tulip import transys, abstract, spec, synth\n",
    "\n"
   ]
  },
  {
   "cell_type": "code",
   "execution_count": 5,
   "metadata": {},
   "outputs": [
    {
     "name": "stderr",
     "output_type": "stream",
     "text": [
      "Error  : NAME . LexToken(NAME,'ITE',1,9)\n"
     ]
    },
    {
     "ename": "Exception",
     "evalue": "Syntax error at \"ITE\"\nremaining input:\nLPAREN b_0 COMMA ITE LPAREN b_0 ' COMMA TRUE , LPAREN b_1 ' RPAREN RPAREN COMMA LPAREN ITE LPAREN b_1 COMMA b_0 ' COMMA TRUE RPAREN RPAREN RPAREN RPAREN\n",
     "output_type": "error",
     "traceback": [
      "\u001b[0;31m---------------------------------------------------------------------------\u001b[0m",
      "\u001b[0;31mException\u001b[0m                                 Traceback (most recent call last)",
      "Cell \u001b[0;32mIn[5], line 1\u001b[0m\n\u001b[0;32m----> 1\u001b[0m spec\u001b[39m.\u001b[39;49mlexyacc\u001b[39m.\u001b[39;49mparse(\u001b[39m\"\u001b[39;49m\u001b[39mLPAREN ~ ITE LPAREN b_0 COMMA ITE LPAREN b_0\u001b[39;49m\u001b[39m'\u001b[39;49m\u001b[39m COMMA TRUE, LPAREN ~ b_1\u001b[39;49m\u001b[39m'\u001b[39;49m\u001b[39m RPAREN RPAREN COMMA LPAREN ~ ITE LPAREN b_1 COMMA b_0\u001b[39;49m\u001b[39m'\u001b[39;49m\u001b[39m COMMA TRUE RPAREN RPAREN RPAREN RPAREN\u001b[39;49m\u001b[39m\"\u001b[39;49m)\n",
      "File \u001b[0;32m~/Desktop/Caltech/SURF2023/env/lib/python3.8/site-packages/tulip-1.4.0-py3.8.egg/tulip/spec/lexyacc.py:342\u001b[0m, in \u001b[0;36mparse\u001b[0;34m(formula)\u001b[0m\n\u001b[1;32m    340\u001b[0m warnings\u001b[39m.\u001b[39mwarn(\u001b[39m'\u001b[39m\u001b[39mDeprecated: Better to instantiate a Parser once only.\u001b[39m\u001b[39m'\u001b[39m)\n\u001b[1;32m    341\u001b[0m parser \u001b[39m=\u001b[39m Parser()\n\u001b[0;32m--> 342\u001b[0m \u001b[39mreturn\u001b[39;00m parser\u001b[39m.\u001b[39;49mparse(formula)\n",
      "File \u001b[0;32m~/Desktop/Caltech/SURF2023/env/lib/python3.8/site-packages/tulip-1.4.0-py3.8.egg/tulip/spec/lexyacc.py:237\u001b[0m, in \u001b[0;36mParser.parse\u001b[0;34m(self, formula, debuglog)\u001b[0m\n\u001b[1;32m    235\u001b[0m \u001b[39mif\u001b[39;00m debuglog \u001b[39mis\u001b[39;00m \u001b[39mNone\u001b[39;00m:\n\u001b[1;32m    236\u001b[0m     debuglog \u001b[39m=\u001b[39m logging\u001b[39m.\u001b[39mgetLogger(PARSER_LOGGER)\n\u001b[0;32m--> 237\u001b[0m root \u001b[39m=\u001b[39m \u001b[39mself\u001b[39;49m\u001b[39m.\u001b[39;49mparser\u001b[39m.\u001b[39;49mparse(\n\u001b[1;32m    238\u001b[0m     formula,\n\u001b[1;32m    239\u001b[0m     lexer\u001b[39m=\u001b[39;49m\u001b[39mself\u001b[39;49m\u001b[39m.\u001b[39;49mlexer\u001b[39m.\u001b[39;49mlexer,\n\u001b[1;32m    240\u001b[0m     debug\u001b[39m=\u001b[39;49mdebuglog)\n\u001b[1;32m    241\u001b[0m \u001b[39mif\u001b[39;00m root \u001b[39mis\u001b[39;00m \u001b[39mNone\u001b[39;00m:\n\u001b[1;32m    242\u001b[0m     \u001b[39mraise\u001b[39;00m \u001b[39mException\u001b[39;00m(\u001b[39m'\u001b[39m\u001b[39mfailed to parse:\u001b[39m\u001b[39m\\n\u001b[39;00m\u001b[39m\\t\u001b[39;00m\u001b[39m{f}\u001b[39;00m\u001b[39m'\u001b[39m\u001b[39m.\u001b[39mformat(f\u001b[39m=\u001b[39mformula))\n",
      "File \u001b[0;32m~/Desktop/Caltech/SURF2023/env/lib/python3.8/site-packages/ply/yacc.py:327\u001b[0m, in \u001b[0;36mLRParser.parse\u001b[0;34m(self, input, lexer, debug, tracking, tokenfunc)\u001b[0m\n\u001b[1;32m    325\u001b[0m     \u001b[39mif\u001b[39;00m \u001b[39misinstance\u001b[39m(debug, \u001b[39mint\u001b[39m):\n\u001b[1;32m    326\u001b[0m         debug \u001b[39m=\u001b[39m PlyLogger(sys\u001b[39m.\u001b[39mstderr)\n\u001b[0;32m--> 327\u001b[0m     \u001b[39mreturn\u001b[39;00m \u001b[39mself\u001b[39;49m\u001b[39m.\u001b[39;49mparsedebug(\u001b[39minput\u001b[39;49m, lexer, debug, tracking, tokenfunc)\n\u001b[1;32m    328\u001b[0m \u001b[39melif\u001b[39;00m tracking:\n\u001b[1;32m    329\u001b[0m     \u001b[39mreturn\u001b[39;00m \u001b[39mself\u001b[39m\u001b[39m.\u001b[39mparseopt(\u001b[39minput\u001b[39m, lexer, debug, tracking, tokenfunc)\n",
      "File \u001b[0;32m~/Desktop/Caltech/SURF2023/env/lib/python3.8/site-packages/ply/yacc.py:601\u001b[0m, in \u001b[0;36mLRParser.parsedebug\u001b[0;34m(self, input, lexer, debug, tracking, tokenfunc)\u001b[0m\n\u001b[1;32m    599\u001b[0m     errtoken\u001b[39m.\u001b[39mlexer \u001b[39m=\u001b[39m lexer\n\u001b[1;32m    600\u001b[0m \u001b[39mself\u001b[39m\u001b[39m.\u001b[39mstate \u001b[39m=\u001b[39m state\n\u001b[0;32m--> 601\u001b[0m tok \u001b[39m=\u001b[39m call_errorfunc(\u001b[39mself\u001b[39;49m\u001b[39m.\u001b[39;49merrorfunc, errtoken, \u001b[39mself\u001b[39;49m)\n\u001b[1;32m    602\u001b[0m \u001b[39mif\u001b[39;00m \u001b[39mself\u001b[39m\u001b[39m.\u001b[39merrorok:\n\u001b[1;32m    603\u001b[0m     \u001b[39m# User must have done some kind of panic\u001b[39;00m\n\u001b[1;32m    604\u001b[0m     \u001b[39m# mode recovery on their own.  The\u001b[39;00m\n\u001b[1;32m    605\u001b[0m     \u001b[39m# returned token is the next lookahead\u001b[39;00m\n\u001b[1;32m    606\u001b[0m     lookahead \u001b[39m=\u001b[39m tok\n",
      "File \u001b[0;32m~/Desktop/Caltech/SURF2023/env/lib/python3.8/site-packages/ply/yacc.py:193\u001b[0m, in \u001b[0;36mcall_errorfunc\u001b[0;34m(errorfunc, token, parser)\u001b[0m\n\u001b[1;32m    191\u001b[0m _token \u001b[39m=\u001b[39m parser\u001b[39m.\u001b[39mtoken\n\u001b[1;32m    192\u001b[0m _restart \u001b[39m=\u001b[39m parser\u001b[39m.\u001b[39mrestart\n\u001b[0;32m--> 193\u001b[0m r \u001b[39m=\u001b[39m errorfunc(token)\n\u001b[1;32m    194\u001b[0m \u001b[39mtry\u001b[39;00m:\n\u001b[1;32m    195\u001b[0m     \u001b[39mdel\u001b[39;00m _errok, _token, _restart\n",
      "File \u001b[0;32m~/Desktop/Caltech/SURF2023/env/lib/python3.8/site-packages/tulip-1.4.0-py3.8.egg/tulip/spec/lexyacc.py:334\u001b[0m, in \u001b[0;36mParser.p_error\u001b[0;34m(self, p)\u001b[0m\n\u001b[1;32m    332\u001b[0m         \u001b[39mbreak\u001b[39;00m\n\u001b[1;32m    333\u001b[0m     s\u001b[39m.\u001b[39mappend(tok\u001b[39m.\u001b[39mvalue)\n\u001b[0;32m--> 334\u001b[0m \u001b[39mraise\u001b[39;00m \u001b[39mException\u001b[39;00m(\n\u001b[1;32m    335\u001b[0m     \u001b[39m'\u001b[39m\u001b[39mSyntax error at \u001b[39m\u001b[39m\"\u001b[39m\u001b[39m{p}\u001b[39;00m\u001b[39m\"\u001b[39m\u001b[39m\\n\u001b[39;00m\u001b[39m'\u001b[39m\u001b[39m.\u001b[39mformat(p\u001b[39m=\u001b[39mp\u001b[39m.\u001b[39mvalue) \u001b[39m+\u001b[39m\n\u001b[1;32m    336\u001b[0m     \u001b[39m'\u001b[39m\u001b[39mremaining input:\u001b[39m\u001b[39m\\n\u001b[39;00m\u001b[39m{s}\u001b[39;00m\u001b[39m\\n\u001b[39;00m\u001b[39m'\u001b[39m\u001b[39m.\u001b[39mformat(s\u001b[39m=\u001b[39m\u001b[39m'\u001b[39m\u001b[39m \u001b[39m\u001b[39m'\u001b[39m\u001b[39m.\u001b[39mjoin(s)))\n",
      "\u001b[0;31mException\u001b[0m: Syntax error at \"ITE\"\nremaining input:\nLPAREN b_0 COMMA ITE LPAREN b_0 ' COMMA TRUE , LPAREN b_1 ' RPAREN RPAREN COMMA LPAREN ITE LPAREN b_1 COMMA b_0 ' COMMA TRUE RPAREN RPAREN RPAREN RPAREN\n"
     ]
    }
   ],
   "source": [
    "spec.lexyacc.parse(\"LPAREN ~ ITE LPAREN b_0 COMMA ITE LPAREN b_0' COMMA TRUE, LPAREN ~ b_1' RPAREN RPAREN COMMA LPAREN ~ ITE LPAREN b_1 COMMA b_0' COMMA TRUE RPAREN RPAREN RPAREN RPAREN\")"
   ]
  },
  {
   "cell_type": "code",
   "execution_count": null,
   "metadata": {},
   "outputs": [],
   "source": [
    "\"LPAREN ~ ITE LPAREN b_0 COMMA ITE LPAREN b_0' COMMA TRUE, LPAREN ~ b_1' RPAREN RPAREN COMMA LPAREN ~ ITE LPAREN b_1 COMMA b_0' COMMA TRUE RPAREN RPAREN RPAREN RPAREN\""
   ]
  },
  {
   "cell_type": "code",
   "execution_count": null,
   "metadata": {},
   "outputs": [],
   "source": [
    "\"(~ ite(b_0, ite(b_0', TRUE, (~ b_1')), (~ ite(b_1, b_0', TRUE))))\""
   ]
  },
  {
   "cell_type": "code",
   "execution_count": 5,
   "metadata": {},
   "outputs": [
    {
     "name": "stdout",
     "output_type": "stream",
     "text": [
      "\n"
     ]
    }
   ],
   "source": [
    "from tulip.spec import LTL\n",
    "f = LTL()\n",
    "print(f)"
   ]
  },
  {
   "cell_type": "code",
   "execution_count": 6,
   "metadata": {},
   "outputs": [
    {
     "name": "stdout",
     "output_type": "stream",
     "text": [
      "0  # Version\n",
      "%%\n",
      "\n",
      "OUTPUT:\n",
      "p : boolean;\n",
      "\n",
      "%%\n",
      "[]<>(p)\n"
     ]
    }
   ],
   "source": [
    "from tulip.spec import GRSpec\n",
    "f = GRSpec(sys_vars={\"p\"}, sys_prog=[\"p\"])\n",
    "print(f.dumps())"
   ]
  },
  {
   "cell_type": "code",
   "execution_count": 7,
   "metadata": {},
   "outputs": [
    {
     "name": "stdout",
     "output_type": "stream",
     "text": [
      "[]<>(p)\n"
     ]
    }
   ],
   "source": [
    "print(f)"
   ]
  },
  {
   "cell_type": "code",
   "execution_count": 8,
   "metadata": {},
   "outputs": [
    {
     "name": "stdout",
     "output_type": "stream",
     "text": [
      "ENVIRONMENT VARIABLES:\n",
      "\t(none)\n",
      "\n",
      "SYSTEM VARIABLES:\n",
      "\tp\tboolean\n",
      "\n",
      "FORMULA:\n",
      "ASSUMPTION:\n",
      "GUARANTEE:\n",
      "    LIVENESS\n",
      "\t  []<>(p)\n",
      "\n"
     ]
    }
   ],
   "source": [
    "print(f.pretty())"
   ]
  },
  {
   "cell_type": "code",
   "execution_count": 26,
   "metadata": {},
   "outputs": [],
   "source": [
    "aut = symbolic.Automaton()\n",
    "aut.declare_variables(x='bool', y=(0, 17))\n",
    "init = aut.add_expr('x /\\ (y = 1)')\n",
    "action = aut.add_expr('''\n",
    "    /\\ ( (x /\\ (y = 1)) => (~ x' /\\ (y' = 2)) )\n",
    "    /\\ ( (~ x /\\ (y = 2)) => (x' /\\ (y' = 1)) )\n",
    "    ''')\n",
    "g = enum.enumerate_state_machine(init, action, aut)\n",
    "assert len(g) == 2, len(g)\n",
    "e = list(g.edges())\n",
    "assert len(e) == 2, len(e)"
   ]
  },
  {
   "cell_type": "code",
   "execution_count": 25,
   "metadata": {},
   "outputs": [
    {
     "name": "stdout",
     "output_type": "stream",
     "text": [
      "Automaton:\n",
      "Variables: \n",
      " {'x': {'type': 'bool'},\n",
      " \"x'\": {'type': 'bool'},\n",
      " 'y': {'bitnames': ['y_0', 'y_1', 'y_2', 'y_3', 'y_4'],\n",
      "       'dom': (0, 17),\n",
      "       'signed': False,\n",
      "       'type': 'int',\n",
      "       'width': 5},\n",
      " \"y'\": {'bitnames': [\"y_0'\", \"y_1'\", \"y_2'\", \"y_3'\", \"y_4'\"],\n",
      "        'dom': (0, 17),\n",
      "        'signed': False,\n",
      "        'type': 'int',\n",
      "        'width': 5}}\n",
      "win =\n",
      "{}\n"
     ]
    }
   ],
   "source": [
    "print(aut)"
   ]
  },
  {
   "cell_type": "code",
   "execution_count": 15,
   "metadata": {},
   "outputs": [
    {
     "data": {
      "image/png": "[encoded data removed]",
      "text/plain": [
       "<Figure size 640x480 with 1 Axes>"
      ]
     },
     "metadata": {},
     "output_type": "display_data"
    }
   ],
   "source": [
    "pos = nx.spring_layout(g)\n",
    "nx.draw_networkx_nodes(g, pos, cmap=plt.get_cmap('jet'), node_size = 500)\n",
    "nx.draw_networkx_labels(g, pos)\n",
    "nx.draw_networkx_edges(g, pos, edgelist=g.edges(), edge_color='b', arrows=True)\n",
    "plt.show()"
   ]
  },
  {
   "cell_type": "code",
   "execution_count": 21,
   "metadata": {},
   "outputs": [
    {
     "data": {
      "text/plain": [
       "OutEdgeView([(0, 1), (1, 0)])"
      ]
     },
     "execution_count": 21,
     "metadata": {},
     "output_type": "execute_result"
    }
   ],
   "source": [
    "g.edges"
   ]
  }
 ],
 "metadata": {
  "kernelspec": {
   "display_name": "env",
   "language": "python",
   "name": "python3"
  },
  "language_info": {
   "codemirror_mode": {
    "name": "ipython",
    "version": 3
   },
   "file_extension": ".py",
   "mimetype": "text/x-python",
   "name": "python",
   "nbconvert_exporter": "python",
   "pygments_lexer": "ipython3",
   "version": "3.8.16"
  },
  "orig_nbformat": 4
 },
 "nbformat": 4,
 "nbformat_minor": 2
}
